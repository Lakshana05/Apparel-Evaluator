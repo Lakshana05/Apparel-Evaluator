{
  "cells": [
    {
      "cell_type": "code",
      "execution_count": null,
      "metadata": {
        "id": "6Caee0k5rgOd"
      },
      "outputs": [],
      "source": []
    },
    {
      "cell_type": "markdown",
      "metadata": {
        "id": "-hfo-alzrih5"
      },
      "source": []
    },
    {
      "cell_type": "code",
      "execution_count": null,
      "metadata": {
        "colab": {
          "base_uri": "https://localhost:8080/"
        },
        "id": "LvlFi7X_rjLD",
        "outputId": "6c145c2d-6495-4438-f5d8-8c8391f84bf0"
      },
      "outputs": [
        {
          "output_type": "stream",
          "name": "stdout",
          "text": [
            "Mounted at /content/drive\n"
          ]
        }
      ],
      "source": [
        "from google.colab import drive\n",
        "drive.mount('/content/drive')\n"
      ]
    },
    {
      "cell_type": "code",
      "execution_count": null,
      "metadata": {
        "id": "yyilr8zBrjsF"
      },
      "outputs": [],
      "source": [
        "import pandas as pd\n",
        "import numpy as np\n",
        "men=pd.read_csv(r'/content/drive/MyDrive/myntra_csv/men_final.csv')\n",
        "women=pd.read_csv(r'/content/drive/MyDrive/myntra_csv/women_final.csv')\n"
      ]
    },
    {
      "cell_type": "code",
      "execution_count": null,
      "metadata": {
        "id": "qqhRlfn9smzr"
      },
      "outputs": [],
      "source": [
        "men['gender']='Men'\n",
        "women['gender']='Women'"
      ]
    },
    {
      "cell_type": "code",
      "execution_count": null,
      "metadata": {
        "colab": {
          "base_uri": "https://localhost:8080/"
        },
        "id": "9s4n3gXCrsa7",
        "outputId": "fa4c0b7b-6a37-46e9-fbc4-b87ef5a27ca2"
      },
      "outputs": [
        {
          "output_type": "stream",
          "name": "stdout",
          "text": [
            "                brand                 seller  \\\n",
            "0  Shaftesbury London    TIMES INTERNATIONAL   \n",
            "1            HERE&NOW        Omnitech Retail   \n",
            "2              V-Mart  V-Mart Retail Limited   \n",
            "3                MANQ      A. R. ENTERPRISES   \n",
            "4              V-Mart  V-Mart Retail Limited   \n",
            "\n",
            "                                        product_name  rating  total_bought  \\\n",
            "0  Navy Regular Fit Single-Breasted Formal Pure C...     3.8         502.0   \n",
            "1             Men Beige Solid Single Breasted Blazer     3.9         125.0   \n",
            "2               Checked Single-Breasted Tweed Blazer     0.0           0.0   \n",
            "3  Men Charcoal Grey Slim Fit Solid Single Breast...     4.1         198.0   \n",
            "4              Checked Single-Breasted Formal Blazer     0.0           0.0   \n",
            "\n",
            "   strike_price  discounted_price  discount  \\\n",
            "0        5999.0            1799.0      70.0   \n",
            "1        5999.0            3599.0      40.0   \n",
            "2        2299.0            2069.0      10.0   \n",
            "3        5999.0            2459.0      59.0   \n",
            "4        2299.0            2069.0      10.0   \n",
            "\n",
            "                      Available_sizes  \\\n",
            "0              36, 38, 40, 42, 44, 46   \n",
            "1                  36, 38, 40, 42, 44   \n",
            "2                      32, 34, 38, 40   \n",
            "3  34, 36, 38, 40, 42, 44, 46, 48, 50   \n",
            "4                      32, 34, 38, 40   \n",
            "\n",
            "                                      Specifications  \\\n",
            "0  Button, Notched Lapel, Pure Cotton, Regular Fi...   \n",
            "1  Button, Notched Lapel, Polyester, Regular Fit,...   \n",
            "2  Button, Notched Lapel, Cotton Blend, Cotton Ca...   \n",
            "3  Button, Notched Lapel, Polyviscose, Slim Fit, ...   \n",
            "4  Button, Notched Lapel, Cotton Blend, Cotton Ca...   \n",
            "\n",
            "                                             reviews  \\\n",
            "0  Quality is satisfactorily good within this pri...   \n",
            "1  Good product, Nice look.. colour is fine.  The...   \n",
            "2                                         No review    \n",
            "3  Well fit ... As expected, Comfortable product ...   \n",
            "4                                         No review    \n",
            "\n",
            "                                            Material         Type  \\\n",
            "0                              100% cotton Dry-clean  Men Blazers   \n",
            "1  Shell: Polyester Vicrose Lycra Lining: 100% Po...  Men Blazers   \n",
            "2                          Cotton blend Machine Wash  Men Blazers   \n",
            "3      70% polyester and 30% viscose rayon Dry-clean  Men Blazers   \n",
            "4                          Cotton Blend Machine Wash  Men Blazers   \n",
            "\n",
            "                                        review_clean review_sentiment gender  \n",
            "0  Quality is satisfactorily good within this pri...         NEGATIVE    Men  \n",
            "1  Good product, Nice look.. colour is fine.  The...         NEGATIVE    Men  \n",
            "2                                         No review          NEGATIVE    Men  \n",
            "3  Well fit ... As expected, Comfortable product ...         POSITIVE    Men  \n",
            "4                                         No review          NEGATIVE    Men  \n"
          ]
        }
      ],
      "source": [
        "frames=[men,women]\n",
        "data=pd.concat(frames)\n",
        "print(data.head())"
      ]
    },
    {
      "cell_type": "code",
      "execution_count": null,
      "metadata": {
        "id": "9HCameNisJPu"
      },
      "outputs": [],
      "source": [
        "data['Available_sizes'].fillna(' ',inplace=True)"
      ]
    },
    {
      "cell_type": "code",
      "execution_count": null,
      "metadata": {
        "colab": {
          "base_uri": "https://localhost:8080/"
        },
        "id": "J89zOhdRQYGG",
        "outputId": "2b532166-668c-4679-9bc2-e204f851f678"
      },
      "outputs": [
        {
          "output_type": "execute_result",
          "data": {
            "text/plain": [
              "brand               0\n",
              "seller              0\n",
              "product_name        0\n",
              "rating              0\n",
              "total_bought        0\n",
              "strike_price        0\n",
              "discounted_price    0\n",
              "discount            0\n",
              "Available_sizes     0\n",
              "Specifications      0\n",
              "reviews             0\n",
              "Material            0\n",
              "Type                0\n",
              "review_clean        0\n",
              "review_sentiment    0\n",
              "gender              0\n",
              "dtype: int64"
            ]
          },
          "metadata": {},
          "execution_count": 6
        }
      ],
      "source": [
        "data.isnull().sum()"
      ]
    },
    {
      "cell_type": "code",
      "execution_count": null,
      "metadata": {
        "colab": {
          "base_uri": "https://localhost:8080/"
        },
        "id": "QDza6V23s4uN",
        "outputId": "5450a602-9312-4bbe-f585-b69c5c98ca7a"
      },
      "outputs": [
        {
          "output_type": "stream",
          "name": "stdout",
          "text": [
            "0    Men\n",
            "1    Men\n",
            "2    Men\n",
            "3    Men\n",
            "4    Men\n",
            "Name: gender, dtype: object\n",
            "6884    Women\n",
            "6885    Women\n",
            "6886    Women\n",
            "6887    Women\n",
            "6888    Women\n",
            "Name: gender, dtype: object\n"
          ]
        }
      ],
      "source": [
        "print(data['gender'].head())\n",
        "print(data['gender'].tail())"
      ]
    },
    {
      "cell_type": "code",
      "execution_count": null,
      "metadata": {
        "id": "7RTkpecEsMgy"
      },
      "outputs": [],
      "source": [
        "data = data.sample(frac=1, random_state=42)"
      ]
    },
    {
      "cell_type": "code",
      "execution_count": null,
      "metadata": {
        "colab": {
          "base_uri": "https://localhost:8080/"
        },
        "id": "aB6OQtUXtDlr",
        "outputId": "8290faf8-3e86-4e60-8cb1-baeaa2a978fd"
      },
      "outputs": [
        {
          "output_type": "stream",
          "name": "stdout",
          "text": [
            "836     Women\n",
            "1880      Men\n",
            "460     Women\n",
            "4889      Men\n",
            "3194      Men\n",
            "Name: gender, dtype: object\n",
            "5191      Men\n",
            "6440    Women\n",
            "5390      Men\n",
            "860       Men\n",
            "292     Women\n",
            "Name: gender, dtype: object\n"
          ]
        }
      ],
      "source": [
        "print(data['gender'].head())\n",
        "print(data['gender'].tail())"
      ]
    },
    {
      "cell_type": "code",
      "execution_count": null,
      "metadata": {
        "id": "EfnhjK8vtEwn"
      },
      "outputs": [],
      "source": [
        "import pandas as pd\n",
        "from sklearn.model_selection import train_test_split\n",
        "from sklearn.ensemble import RandomForestRegressor\n",
        "from sklearn.preprocessing import LabelEncoder\n",
        "from sklearn.metrics import mean_absolute_error"
      ]
    },
    {
      "cell_type": "code",
      "execution_count": null,
      "metadata": {
        "colab": {
          "base_uri": "https://localhost:8080/"
        },
        "id": "M6xOnhiAxG9X",
        "outputId": "e5479cb1-4eca-4374-a500-018dd7b14f41"
      },
      "outputs": [
        {
          "output_type": "execute_result",
          "data": {
            "text/plain": [
              "Index(['brand', 'seller', 'product_name', 'rating', 'total_bought',\n",
              "       'strike_price', 'discounted_price', 'discount', 'Available_sizes',\n",
              "       'Specifications', 'reviews', 'Material', 'Type', 'review_clean',\n",
              "       'review_sentiment', 'gender'],\n",
              "      dtype='object')"
            ]
          },
          "metadata": {},
          "execution_count": 11
        }
      ],
      "source": [
        "data.columns"
      ]
    },
    {
      "cell_type": "code",
      "execution_count": null,
      "metadata": {
        "colab": {
          "base_uri": "https://localhost:8080/",
          "height": 1000
        },
        "id": "Ug6EkPZGh7ci",
        "outputId": "664fa329-6d85-4309-8515-e717a3ad0193"
      },
      "outputs": [
        {
          "output_type": "execute_result",
          "data": {
            "text/plain": [
              "            brand                               seller  \\\n",
              "836      Fabcartz                          RK Textiles   \n",
              "1880  Park Avenue                      Raymond Limited   \n",
              "460     Cottinfab                  D S S COTTINFAB LTD   \n",
              "4889      Wintage     WINTAGE GARMENTS PRIVATE LIMITED   \n",
              "3194      Harvard                        Indiflashmart   \n",
              "...           ...                                  ...   \n",
              "5191        CAMLA           JAIN AMAR CLOTHING PVT LTD   \n",
              "6440     Fleximaa                    FLEXIBLE APPARELS   \n",
              "5390     Roadster             GARG ACRYLICS LTD.- SJIT   \n",
              "860       Nautica                     Truenet Commerce   \n",
              "292   SALT ATTIRE  MIMOTO TECHNOLOGIES PRIVATE LIMITED   \n",
              "\n",
              "                                           product_name  rating  total_bought  \\\n",
              "836   Woven Design Semi-Stitched Lehenga & Unstitche...     4.7           3.0   \n",
              "1880          Slim Fit Checked Pure Cotton Formal Shirt     4.4           5.0   \n",
              "460               Women Black Striped Open Front Blazer     3.8         289.0   \n",
              "4889  Men Orange Solid Single-Breasted Regular Fit P...     3.5           4.0   \n",
              "3194          Men Slim Fit Light Fade Stretchable Jeans     4.0          39.0   \n",
              "...                                                 ...     ...           ...   \n",
              "5191  Open Knit Self Design Turtle Neck Long Sleeves...     0.0           0.0   \n",
              "6440      Typography Printed V-Neck Pure Cotton T-Shirt     0.0           0.0   \n",
              "5390  Men Grey Melange & White Colourblocked Pullove...     4.3        1800.0   \n",
              "860     Pure Cotton Classic Opaque Checked Casual Shirt     4.5          18.0   \n",
              "292   Open Front Ruched Sleeves Comfort-Fit Casual B...     3.3           6.0   \n",
              "\n",
              "      strike_price  discounted_price  discount  \\\n",
              "836         5999.0            1799.0      70.0   \n",
              "1880        1699.0             764.0      55.0   \n",
              "460         2599.0            1039.0      60.0   \n",
              "4889        3999.0            2759.0      31.0   \n",
              "3194        1698.0             679.0      60.0   \n",
              "...            ...               ...       ...   \n",
              "5191        2790.0            1395.0      50.0   \n",
              "6440         749.0             399.0       0.0   \n",
              "5390        1499.0            1139.0       0.0   \n",
              "860         2799.0             979.0      65.0   \n",
              "292         4250.0            2975.0      30.0   \n",
              "\n",
              "                                        Available_sizes  \\\n",
              "836                                             Onesize   \n",
              "1880  39 Rs. 764, 40 Rs. 764, 42 Rs. 764, 44 Rs. 764...   \n",
              "460                               S, M, L, XL, XXL, 3XL   \n",
              "4889                             36, 38, 40, 42, 44, 46   \n",
              "3194                                 28, 30, 32, 34, 36   \n",
              "...                                                 ...   \n",
              "5191                              S, M, L, XL, XXL, 3XL   \n",
              "6440                         S, M, L, XL, XXL, 3XL, 4XL   \n",
              "5390                                        S, M, L, XL   \n",
              "860                                  38, 40, 42, 44, 46   \n",
              "292                                XS, S, M, L, XL, XXL   \n",
              "\n",
              "                                         Specifications  \\\n",
              "836   Art Silk, Art Silk, Silk, Silk, Zari, Flared, ...   \n",
              "1880  Long Sleeves, Spread Collar, Slim Fit, Grid Ta...   \n",
              "460   Button, Notched Lapel, Pure Cotton, Regular Fi...   \n",
              "4889  Solid, Polyviscose, Collarless, Party, Regular...   \n",
              "3194  Clean Look, Mid-Rise, Light Fade, Dark, Slim F...   \n",
              "...                                                 ...   \n",
              "5191  Acrylic, Self Design, Long Sleeves, Turtle Nec...   \n",
              "6440  Pure Cotton, Regular Fit, Regular, Typography ...   \n",
              "5390  Acrylic, Colourblocked, Long Sleeves, Mock Col...   \n",
              "860   Long Sleeves, Button-Down Collar, Regular Fit,...   \n",
              "292   Front-Open, Shawl Collar, Polyester, Comfort F...   \n",
              "\n",
              "                                                reviews  \\\n",
              "836             So beautiful... Quality is very good...   \n",
              "1880                                         No review    \n",
              "460   Fit:As expected\\nMaterial: Very good\\nComfort:...   \n",
              "4889             Not that good as shown in pic, Awesome   \n",
              "3194                                 Poor quality cloth   \n",
              "...                                                 ...   \n",
              "5191                                         No review    \n",
              "6440                                         No review    \n",
              "5390  🌟 Just added the Roadster Men’s Grey Melange a...   \n",
              "860                  excellent fitings\\nvalue for money   \n",
              "292                                          No review    \n",
              "\n",
              "                                               Material           Type  \\\n",
              "836   Top Fabric : Art Silk Bottom Fabric : Art Silk...         Cholis   \n",
              "1880  85% polyester, 15% cotton Machine Wash, Polyes...   Formal shirt   \n",
              "460          use mild detergent and wash similar colors  Women Blazers   \n",
              "4889                          Polycotton Dry Clean Only      Men Suits   \n",
              "3194  79% Cotton, 19% Polyester, 2% Elastane Machine...      Men Jeans   \n",
              "...                                                 ...            ...   \n",
              "5191                               Acrylic Machine Wash    Men Sweater   \n",
              "6440                              Pure Cotton Hand Wash  women Tshirts   \n",
              "5390                   Material: Acrylic   Machine Wash    Men Sweater   \n",
              "860                           100% Cotton  Machine wash   Casual Shirt   \n",
              "292                                Moss Lycra Dry clean  Women Blazers   \n",
              "\n",
              "                                           review_clean review_sentiment  \\\n",
              "836             So beautiful... Quality is very good...         POSITIVE   \n",
              "1880                                         No review          NEGATIVE   \n",
              "460   Fit:As expected\\nMaterial: Very good\\nComfort:...         POSITIVE   \n",
              "4889             Not that good as shown in pic, Awesome         NEGATIVE   \n",
              "3194                                 Poor quality cloth         NEGATIVE   \n",
              "...                                                 ...              ...   \n",
              "5191                                         No review          NEGATIVE   \n",
              "6440                                         No review          NEGATIVE   \n",
              "5390  :glowing_star: Just added the Roadster Men’s G...         POSITIVE   \n",
              "860                  excellent fitings\\nvalue for money         POSITIVE   \n",
              "292                                          No review          NEGATIVE   \n",
              "\n",
              "     gender  \n",
              "836   Women  \n",
              "1880    Men  \n",
              "460   Women  \n",
              "4889    Men  \n",
              "3194    Men  \n",
              "...     ...  \n",
              "5191    Men  \n",
              "6440  Women  \n",
              "5390    Men  \n",
              "860     Men  \n",
              "292   Women  \n",
              "\n",
              "[13867 rows x 16 columns]"
            ],
            "text/html": [
              "\n",
              "  <div id=\"df-cf099810-4c4e-4cb6-81af-712b7e4915f1\" class=\"colab-df-container\">\n",
              "    <div>\n",
              "<style scoped>\n",
              "    .dataframe tbody tr th:only-of-type {\n",
              "        vertical-align: middle;\n",
              "    }\n",
              "\n",
              "    .dataframe tbody tr th {\n",
              "        vertical-align: top;\n",
              "    }\n",
              "\n",
              "    .dataframe thead th {\n",
              "        text-align: right;\n",
              "    }\n",
              "</style>\n",
              "<table border=\"1\" class=\"dataframe\">\n",
              "  <thead>\n",
              "    <tr style=\"text-align: right;\">\n",
              "      <th></th>\n",
              "      <th>brand</th>\n",
              "      <th>seller</th>\n",
              "      <th>product_name</th>\n",
              "      <th>rating</th>\n",
              "      <th>total_bought</th>\n",
              "      <th>strike_price</th>\n",
              "      <th>discounted_price</th>\n",
              "      <th>discount</th>\n",
              "      <th>Available_sizes</th>\n",
              "      <th>Specifications</th>\n",
              "      <th>reviews</th>\n",
              "      <th>Material</th>\n",
              "      <th>Type</th>\n",
              "      <th>review_clean</th>\n",
              "      <th>review_sentiment</th>\n",
              "      <th>gender</th>\n",
              "    </tr>\n",
              "  </thead>\n",
              "  <tbody>\n",
              "    <tr>\n",
              "      <th>836</th>\n",
              "      <td>Fabcartz</td>\n",
              "      <td>RK Textiles</td>\n",
              "      <td>Woven Design Semi-Stitched Lehenga &amp; Unstitche...</td>\n",
              "      <td>4.7</td>\n",
              "      <td>3.0</td>\n",
              "      <td>5999.0</td>\n",
              "      <td>1799.0</td>\n",
              "      <td>70.0</td>\n",
              "      <td>Onesize</td>\n",
              "      <td>Art Silk, Art Silk, Silk, Silk, Zari, Flared, ...</td>\n",
              "      <td>So beautiful... Quality is very good...</td>\n",
              "      <td>Top Fabric : Art Silk Bottom Fabric : Art Silk...</td>\n",
              "      <td>Cholis</td>\n",
              "      <td>So beautiful... Quality is very good...</td>\n",
              "      <td>POSITIVE</td>\n",
              "      <td>Women</td>\n",
              "    </tr>\n",
              "    <tr>\n",
              "      <th>1880</th>\n",
              "      <td>Park Avenue</td>\n",
              "      <td>Raymond Limited</td>\n",
              "      <td>Slim Fit Checked Pure Cotton Formal Shirt</td>\n",
              "      <td>4.4</td>\n",
              "      <td>5.0</td>\n",
              "      <td>1699.0</td>\n",
              "      <td>764.0</td>\n",
              "      <td>55.0</td>\n",
              "      <td>39 Rs. 764, 40 Rs. 764, 42 Rs. 764, 44 Rs. 764...</td>\n",
              "      <td>Long Sleeves, Spread Collar, Slim Fit, Grid Ta...</td>\n",
              "      <td>No review</td>\n",
              "      <td>85% polyester, 15% cotton Machine Wash, Polyes...</td>\n",
              "      <td>Formal shirt</td>\n",
              "      <td>No review</td>\n",
              "      <td>NEGATIVE</td>\n",
              "      <td>Men</td>\n",
              "    </tr>\n",
              "    <tr>\n",
              "      <th>460</th>\n",
              "      <td>Cottinfab</td>\n",
              "      <td>D S S COTTINFAB LTD</td>\n",
              "      <td>Women Black Striped Open Front Blazer</td>\n",
              "      <td>3.8</td>\n",
              "      <td>289.0</td>\n",
              "      <td>2599.0</td>\n",
              "      <td>1039.0</td>\n",
              "      <td>60.0</td>\n",
              "      <td>S, M, L, XL, XXL, 3XL</td>\n",
              "      <td>Button, Notched Lapel, Pure Cotton, Regular Fi...</td>\n",
              "      <td>Fit:As expected\\nMaterial: Very good\\nComfort:...</td>\n",
              "      <td>use mild detergent and wash similar colors</td>\n",
              "      <td>Women Blazers</td>\n",
              "      <td>Fit:As expected\\nMaterial: Very good\\nComfort:...</td>\n",
              "      <td>POSITIVE</td>\n",
              "      <td>Women</td>\n",
              "    </tr>\n",
              "    <tr>\n",
              "      <th>4889</th>\n",
              "      <td>Wintage</td>\n",
              "      <td>WINTAGE GARMENTS PRIVATE LIMITED</td>\n",
              "      <td>Men Orange Solid Single-Breasted Regular Fit P...</td>\n",
              "      <td>3.5</td>\n",
              "      <td>4.0</td>\n",
              "      <td>3999.0</td>\n",
              "      <td>2759.0</td>\n",
              "      <td>31.0</td>\n",
              "      <td>36, 38, 40, 42, 44, 46</td>\n",
              "      <td>Solid, Polyviscose, Collarless, Party, Regular...</td>\n",
              "      <td>Not that good as shown in pic, Awesome</td>\n",
              "      <td>Polycotton Dry Clean Only</td>\n",
              "      <td>Men Suits</td>\n",
              "      <td>Not that good as shown in pic, Awesome</td>\n",
              "      <td>NEGATIVE</td>\n",
              "      <td>Men</td>\n",
              "    </tr>\n",
              "    <tr>\n",
              "      <th>3194</th>\n",
              "      <td>Harvard</td>\n",
              "      <td>Indiflashmart</td>\n",
              "      <td>Men Slim Fit Light Fade Stretchable Jeans</td>\n",
              "      <td>4.0</td>\n",
              "      <td>39.0</td>\n",
              "      <td>1698.0</td>\n",
              "      <td>679.0</td>\n",
              "      <td>60.0</td>\n",
              "      <td>28, 30, 32, 34, 36</td>\n",
              "      <td>Clean Look, Mid-Rise, Light Fade, Dark, Slim F...</td>\n",
              "      <td>Poor quality cloth</td>\n",
              "      <td>79% Cotton, 19% Polyester, 2% Elastane Machine...</td>\n",
              "      <td>Men Jeans</td>\n",
              "      <td>Poor quality cloth</td>\n",
              "      <td>NEGATIVE</td>\n",
              "      <td>Men</td>\n",
              "    </tr>\n",
              "    <tr>\n",
              "      <th>...</th>\n",
              "      <td>...</td>\n",
              "      <td>...</td>\n",
              "      <td>...</td>\n",
              "      <td>...</td>\n",
              "      <td>...</td>\n",
              "      <td>...</td>\n",
              "      <td>...</td>\n",
              "      <td>...</td>\n",
              "      <td>...</td>\n",
              "      <td>...</td>\n",
              "      <td>...</td>\n",
              "      <td>...</td>\n",
              "      <td>...</td>\n",
              "      <td>...</td>\n",
              "      <td>...</td>\n",
              "      <td>...</td>\n",
              "    </tr>\n",
              "    <tr>\n",
              "      <th>5191</th>\n",
              "      <td>CAMLA</td>\n",
              "      <td>JAIN AMAR CLOTHING PVT LTD</td>\n",
              "      <td>Open Knit Self Design Turtle Neck Long Sleeves...</td>\n",
              "      <td>0.0</td>\n",
              "      <td>0.0</td>\n",
              "      <td>2790.0</td>\n",
              "      <td>1395.0</td>\n",
              "      <td>50.0</td>\n",
              "      <td>S, M, L, XL, XXL, 3XL</td>\n",
              "      <td>Acrylic, Self Design, Long Sleeves, Turtle Nec...</td>\n",
              "      <td>No review</td>\n",
              "      <td>Acrylic Machine Wash</td>\n",
              "      <td>Men Sweater</td>\n",
              "      <td>No review</td>\n",
              "      <td>NEGATIVE</td>\n",
              "      <td>Men</td>\n",
              "    </tr>\n",
              "    <tr>\n",
              "      <th>6440</th>\n",
              "      <td>Fleximaa</td>\n",
              "      <td>FLEXIBLE APPARELS</td>\n",
              "      <td>Typography Printed V-Neck Pure Cotton T-Shirt</td>\n",
              "      <td>0.0</td>\n",
              "      <td>0.0</td>\n",
              "      <td>749.0</td>\n",
              "      <td>399.0</td>\n",
              "      <td>0.0</td>\n",
              "      <td>S, M, L, XL, XXL, 3XL, 4XL</td>\n",
              "      <td>Pure Cotton, Regular Fit, Regular, Typography ...</td>\n",
              "      <td>No review</td>\n",
              "      <td>Pure Cotton Hand Wash</td>\n",
              "      <td>women Tshirts</td>\n",
              "      <td>No review</td>\n",
              "      <td>NEGATIVE</td>\n",
              "      <td>Women</td>\n",
              "    </tr>\n",
              "    <tr>\n",
              "      <th>5390</th>\n",
              "      <td>Roadster</td>\n",
              "      <td>GARG ACRYLICS LTD.- SJIT</td>\n",
              "      <td>Men Grey Melange &amp; White Colourblocked Pullove...</td>\n",
              "      <td>4.3</td>\n",
              "      <td>1800.0</td>\n",
              "      <td>1499.0</td>\n",
              "      <td>1139.0</td>\n",
              "      <td>0.0</td>\n",
              "      <td>S, M, L, XL</td>\n",
              "      <td>Acrylic, Colourblocked, Long Sleeves, Mock Col...</td>\n",
              "      <td>🌟 Just added the Roadster Men’s Grey Melange a...</td>\n",
              "      <td>Material: Acrylic   Machine Wash</td>\n",
              "      <td>Men Sweater</td>\n",
              "      <td>:glowing_star: Just added the Roadster Men’s G...</td>\n",
              "      <td>POSITIVE</td>\n",
              "      <td>Men</td>\n",
              "    </tr>\n",
              "    <tr>\n",
              "      <th>860</th>\n",
              "      <td>Nautica</td>\n",
              "      <td>Truenet Commerce</td>\n",
              "      <td>Pure Cotton Classic Opaque Checked Casual Shirt</td>\n",
              "      <td>4.5</td>\n",
              "      <td>18.0</td>\n",
              "      <td>2799.0</td>\n",
              "      <td>979.0</td>\n",
              "      <td>65.0</td>\n",
              "      <td>38, 40, 42, 44, 46</td>\n",
              "      <td>Long Sleeves, Button-Down Collar, Regular Fit,...</td>\n",
              "      <td>excellent fitings\\nvalue for money</td>\n",
              "      <td>100% Cotton  Machine wash</td>\n",
              "      <td>Casual Shirt</td>\n",
              "      <td>excellent fitings\\nvalue for money</td>\n",
              "      <td>POSITIVE</td>\n",
              "      <td>Men</td>\n",
              "    </tr>\n",
              "    <tr>\n",
              "      <th>292</th>\n",
              "      <td>SALT ATTIRE</td>\n",
              "      <td>MIMOTO TECHNOLOGIES PRIVATE LIMITED</td>\n",
              "      <td>Open Front Ruched Sleeves Comfort-Fit Casual B...</td>\n",
              "      <td>3.3</td>\n",
              "      <td>6.0</td>\n",
              "      <td>4250.0</td>\n",
              "      <td>2975.0</td>\n",
              "      <td>30.0</td>\n",
              "      <td>XS, S, M, L, XL, XXL</td>\n",
              "      <td>Front-Open, Shawl Collar, Polyester, Comfort F...</td>\n",
              "      <td>No review</td>\n",
              "      <td>Moss Lycra Dry clean</td>\n",
              "      <td>Women Blazers</td>\n",
              "      <td>No review</td>\n",
              "      <td>NEGATIVE</td>\n",
              "      <td>Women</td>\n",
              "    </tr>\n",
              "  </tbody>\n",
              "</table>\n",
              "<p>13867 rows × 16 columns</p>\n",
              "</div>\n",
              "    <div class=\"colab-df-buttons\">\n",
              "\n",
              "  <div class=\"colab-df-container\">\n",
              "    <button class=\"colab-df-convert\" onclick=\"convertToInteractive('df-cf099810-4c4e-4cb6-81af-712b7e4915f1')\"\n",
              "            title=\"Convert this dataframe to an interactive table.\"\n",
              "            style=\"display:none;\">\n",
              "\n",
              "  <svg xmlns=\"http://www.w3.org/2000/svg\" height=\"24px\" viewBox=\"0 -960 960 960\">\n",
              "    <path d=\"M120-120v-720h720v720H120Zm60-500h600v-160H180v160Zm220 220h160v-160H400v160Zm0 220h160v-160H400v160ZM180-400h160v-160H180v160Zm440 0h160v-160H620v160ZM180-180h160v-160H180v160Zm440 0h160v-160H620v160Z\"/>\n",
              "  </svg>\n",
              "    </button>\n",
              "\n",
              "  <style>\n",
              "    .colab-df-container {\n",
              "      display:flex;\n",
              "      gap: 12px;\n",
              "    }\n",
              "\n",
              "    .colab-df-convert {\n",
              "      background-color: #E8F0FE;\n",
              "      border: none;\n",
              "      border-radius: 50%;\n",
              "      cursor: pointer;\n",
              "      display: none;\n",
              "      fill: #1967D2;\n",
              "      height: 32px;\n",
              "      padding: 0 0 0 0;\n",
              "      width: 32px;\n",
              "    }\n",
              "\n",
              "    .colab-df-convert:hover {\n",
              "      background-color: #E2EBFA;\n",
              "      box-shadow: 0px 1px 2px rgba(60, 64, 67, 0.3), 0px 1px 3px 1px rgba(60, 64, 67, 0.15);\n",
              "      fill: #174EA6;\n",
              "    }\n",
              "\n",
              "    .colab-df-buttons div {\n",
              "      margin-bottom: 4px;\n",
              "    }\n",
              "\n",
              "    [theme=dark] .colab-df-convert {\n",
              "      background-color: #3B4455;\n",
              "      fill: #D2E3FC;\n",
              "    }\n",
              "\n",
              "    [theme=dark] .colab-df-convert:hover {\n",
              "      background-color: #434B5C;\n",
              "      box-shadow: 0px 1px 3px 1px rgba(0, 0, 0, 0.15);\n",
              "      filter: drop-shadow(0px 1px 2px rgba(0, 0, 0, 0.3));\n",
              "      fill: #FFFFFF;\n",
              "    }\n",
              "  </style>\n",
              "\n",
              "    <script>\n",
              "      const buttonEl =\n",
              "        document.querySelector('#df-cf099810-4c4e-4cb6-81af-712b7e4915f1 button.colab-df-convert');\n",
              "      buttonEl.style.display =\n",
              "        google.colab.kernel.accessAllowed ? 'block' : 'none';\n",
              "\n",
              "      async function convertToInteractive(key) {\n",
              "        const element = document.querySelector('#df-cf099810-4c4e-4cb6-81af-712b7e4915f1');\n",
              "        const dataTable =\n",
              "          await google.colab.kernel.invokeFunction('convertToInteractive',\n",
              "                                                    [key], {});\n",
              "        if (!dataTable) return;\n",
              "\n",
              "        const docLinkHtml = 'Like what you see? Visit the ' +\n",
              "          '<a target=\"_blank\" href=https://colab.research.google.com/notebooks/data_table.ipynb>data table notebook</a>'\n",
              "          + ' to learn more about interactive tables.';\n",
              "        element.innerHTML = '';\n",
              "        dataTable['output_type'] = 'display_data';\n",
              "        await google.colab.output.renderOutput(dataTable, element);\n",
              "        const docLink = document.createElement('div');\n",
              "        docLink.innerHTML = docLinkHtml;\n",
              "        element.appendChild(docLink);\n",
              "      }\n",
              "    </script>\n",
              "  </div>\n",
              "\n",
              "\n",
              "<div id=\"df-dad379dc-7111-4fe0-9a02-7c2000a70d0f\">\n",
              "  <button class=\"colab-df-quickchart\" onclick=\"quickchart('df-dad379dc-7111-4fe0-9a02-7c2000a70d0f')\"\n",
              "            title=\"Suggest charts\"\n",
              "            style=\"display:none;\">\n",
              "\n",
              "<svg xmlns=\"http://www.w3.org/2000/svg\" height=\"24px\"viewBox=\"0 0 24 24\"\n",
              "     width=\"24px\">\n",
              "    <g>\n",
              "        <path d=\"M19 3H5c-1.1 0-2 .9-2 2v14c0 1.1.9 2 2 2h14c1.1 0 2-.9 2-2V5c0-1.1-.9-2-2-2zM9 17H7v-7h2v7zm4 0h-2V7h2v10zm4 0h-2v-4h2v4z\"/>\n",
              "    </g>\n",
              "</svg>\n",
              "  </button>\n",
              "\n",
              "<style>\n",
              "  .colab-df-quickchart {\n",
              "      --bg-color: #E8F0FE;\n",
              "      --fill-color: #1967D2;\n",
              "      --hover-bg-color: #E2EBFA;\n",
              "      --hover-fill-color: #174EA6;\n",
              "      --disabled-fill-color: #AAA;\n",
              "      --disabled-bg-color: #DDD;\n",
              "  }\n",
              "\n",
              "  [theme=dark] .colab-df-quickchart {\n",
              "      --bg-color: #3B4455;\n",
              "      --fill-color: #D2E3FC;\n",
              "      --hover-bg-color: #434B5C;\n",
              "      --hover-fill-color: #FFFFFF;\n",
              "      --disabled-bg-color: #3B4455;\n",
              "      --disabled-fill-color: #666;\n",
              "  }\n",
              "\n",
              "  .colab-df-quickchart {\n",
              "    background-color: var(--bg-color);\n",
              "    border: none;\n",
              "    border-radius: 50%;\n",
              "    cursor: pointer;\n",
              "    display: none;\n",
              "    fill: var(--fill-color);\n",
              "    height: 32px;\n",
              "    padding: 0;\n",
              "    width: 32px;\n",
              "  }\n",
              "\n",
              "  .colab-df-quickchart:hover {\n",
              "    background-color: var(--hover-bg-color);\n",
              "    box-shadow: 0 1px 2px rgba(60, 64, 67, 0.3), 0 1px 3px 1px rgba(60, 64, 67, 0.15);\n",
              "    fill: var(--button-hover-fill-color);\n",
              "  }\n",
              "\n",
              "  .colab-df-quickchart-complete:disabled,\n",
              "  .colab-df-quickchart-complete:disabled:hover {\n",
              "    background-color: var(--disabled-bg-color);\n",
              "    fill: var(--disabled-fill-color);\n",
              "    box-shadow: none;\n",
              "  }\n",
              "\n",
              "  .colab-df-spinner {\n",
              "    border: 2px solid var(--fill-color);\n",
              "    border-color: transparent;\n",
              "    border-bottom-color: var(--fill-color);\n",
              "    animation:\n",
              "      spin 1s steps(1) infinite;\n",
              "  }\n",
              "\n",
              "  @keyframes spin {\n",
              "    0% {\n",
              "      border-color: transparent;\n",
              "      border-bottom-color: var(--fill-color);\n",
              "      border-left-color: var(--fill-color);\n",
              "    }\n",
              "    20% {\n",
              "      border-color: transparent;\n",
              "      border-left-color: var(--fill-color);\n",
              "      border-top-color: var(--fill-color);\n",
              "    }\n",
              "    30% {\n",
              "      border-color: transparent;\n",
              "      border-left-color: var(--fill-color);\n",
              "      border-top-color: var(--fill-color);\n",
              "      border-right-color: var(--fill-color);\n",
              "    }\n",
              "    40% {\n",
              "      border-color: transparent;\n",
              "      border-right-color: var(--fill-color);\n",
              "      border-top-color: var(--fill-color);\n",
              "    }\n",
              "    60% {\n",
              "      border-color: transparent;\n",
              "      border-right-color: var(--fill-color);\n",
              "    }\n",
              "    80% {\n",
              "      border-color: transparent;\n",
              "      border-right-color: var(--fill-color);\n",
              "      border-bottom-color: var(--fill-color);\n",
              "    }\n",
              "    90% {\n",
              "      border-color: transparent;\n",
              "      border-bottom-color: var(--fill-color);\n",
              "    }\n",
              "  }\n",
              "</style>\n",
              "\n",
              "  <script>\n",
              "    async function quickchart(key) {\n",
              "      const quickchartButtonEl =\n",
              "        document.querySelector('#' + key + ' button');\n",
              "      quickchartButtonEl.disabled = true;  // To prevent multiple clicks.\n",
              "      quickchartButtonEl.classList.add('colab-df-spinner');\n",
              "      try {\n",
              "        const charts = await google.colab.kernel.invokeFunction(\n",
              "            'suggestCharts', [key], {});\n",
              "      } catch (error) {\n",
              "        console.error('Error during call to suggestCharts:', error);\n",
              "      }\n",
              "      quickchartButtonEl.classList.remove('colab-df-spinner');\n",
              "      quickchartButtonEl.classList.add('colab-df-quickchart-complete');\n",
              "    }\n",
              "    (() => {\n",
              "      let quickchartButtonEl =\n",
              "        document.querySelector('#df-dad379dc-7111-4fe0-9a02-7c2000a70d0f button');\n",
              "      quickchartButtonEl.style.display =\n",
              "        google.colab.kernel.accessAllowed ? 'block' : 'none';\n",
              "    })();\n",
              "  </script>\n",
              "</div>\n",
              "\n",
              "  <div id=\"id_ccae7497-8aaf-4f27-b933-349fd24cf451\">\n",
              "    <style>\n",
              "      .colab-df-generate {\n",
              "        background-color: #E8F0FE;\n",
              "        border: none;\n",
              "        border-radius: 50%;\n",
              "        cursor: pointer;\n",
              "        display: none;\n",
              "        fill: #1967D2;\n",
              "        height: 32px;\n",
              "        padding: 0 0 0 0;\n",
              "        width: 32px;\n",
              "      }\n",
              "\n",
              "      .colab-df-generate:hover {\n",
              "        background-color: #E2EBFA;\n",
              "        box-shadow: 0px 1px 2px rgba(60, 64, 67, 0.3), 0px 1px 3px 1px rgba(60, 64, 67, 0.15);\n",
              "        fill: #174EA6;\n",
              "      }\n",
              "\n",
              "      [theme=dark] .colab-df-generate {\n",
              "        background-color: #3B4455;\n",
              "        fill: #D2E3FC;\n",
              "      }\n",
              "\n",
              "      [theme=dark] .colab-df-generate:hover {\n",
              "        background-color: #434B5C;\n",
              "        box-shadow: 0px 1px 3px 1px rgba(0, 0, 0, 0.15);\n",
              "        filter: drop-shadow(0px 1px 2px rgba(0, 0, 0, 0.3));\n",
              "        fill: #FFFFFF;\n",
              "      }\n",
              "    </style>\n",
              "    <button class=\"colab-df-generate\" onclick=\"generateWithVariable('data')\"\n",
              "            title=\"Generate code using this dataframe.\"\n",
              "            style=\"display:none;\">\n",
              "\n",
              "  <svg xmlns=\"http://www.w3.org/2000/svg\" height=\"24px\"viewBox=\"0 0 24 24\"\n",
              "       width=\"24px\">\n",
              "    <path d=\"M7,19H8.4L18.45,9,17,7.55,7,17.6ZM5,21V16.75L18.45,3.32a2,2,0,0,1,2.83,0l1.4,1.43a1.91,1.91,0,0,1,.58,1.4,1.91,1.91,0,0,1-.58,1.4L9.25,21ZM18.45,9,17,7.55Zm-12,3A5.31,5.31,0,0,0,4.9,8.1,5.31,5.31,0,0,0,1,6.5,5.31,5.31,0,0,0,4.9,4.9,5.31,5.31,0,0,0,6.5,1,5.31,5.31,0,0,0,8.1,4.9,5.31,5.31,0,0,0,12,6.5,5.46,5.46,0,0,0,6.5,12Z\"/>\n",
              "  </svg>\n",
              "    </button>\n",
              "    <script>\n",
              "      (() => {\n",
              "      const buttonEl =\n",
              "        document.querySelector('#id_ccae7497-8aaf-4f27-b933-349fd24cf451 button.colab-df-generate');\n",
              "      buttonEl.style.display =\n",
              "        google.colab.kernel.accessAllowed ? 'block' : 'none';\n",
              "\n",
              "      buttonEl.onclick = () => {\n",
              "        google.colab.notebook.generateWithVariable('data');\n",
              "      }\n",
              "      })();\n",
              "    </script>\n",
              "  </div>\n",
              "\n",
              "    </div>\n",
              "  </div>\n"
            ],
            "application/vnd.google.colaboratory.intrinsic+json": {
              "type": "dataframe",
              "variable_name": "data",
              "summary": "{\n  \"name\": \"data\",\n  \"rows\": 13867,\n  \"fields\": [\n    {\n      \"column\": \"brand\",\n      \"properties\": {\n        \"dtype\": \"category\",\n        \"num_unique_values\": 861,\n        \"samples\": [\n          \"angloindu\",\n          \"CELEBRAVO\",\n          \"AASK\"\n        ],\n        \"semantic_type\": \"\",\n        \"description\": \"\"\n      }\n    },\n    {\n      \"column\": \"seller\",\n      \"properties\": {\n        \"dtype\": \"category\",\n        \"num_unique_values\": 943,\n        \"samples\": [\n          \"Fabcartz\",\n          \"AAYU CREATION PRIVATE LIMITED\",\n          \"WOVEN CRAFTS\"\n        ],\n        \"semantic_type\": \"\",\n        \"description\": \"\"\n      }\n    },\n    {\n      \"column\": \"product_name\",\n      \"properties\": {\n        \"dtype\": \"string\",\n        \"num_unique_values\": 11048,\n        \"samples\": [\n          \"Men Navy Blue Slim Fit Cotton Trousers\",\n          \"Woven-Design Ruffle Cotton Saree Blouse\",\n          \"Men Khaki & Black Typography Print Back Slim Fit Cotton Casual Shirt\"\n        ],\n        \"semantic_type\": \"\",\n        \"description\": \"\"\n      }\n    },\n    {\n      \"column\": \"rating\",\n      \"properties\": {\n        \"dtype\": \"number\",\n        \"std\": 1.7198346907482285,\n        \"min\": 0.0,\n        \"max\": 5.0,\n        \"num_unique_values\": 42,\n        \"samples\": [\n          5.0,\n          4.5,\n          4.2\n        ],\n        \"semantic_type\": \"\",\n        \"description\": \"\"\n      }\n    },\n    {\n      \"column\": \"total_bought\",\n      \"properties\": {\n        \"dtype\": \"number\",\n        \"std\": 2017.513813106452,\n        \"min\": 0.0,\n        \"max\": 75300.0,\n        \"num_unique_values\": 1059,\n        \"samples\": [\n          908.0,\n          127.0,\n          478.0\n        ],\n        \"semantic_type\": \"\",\n        \"description\": \"\"\n      }\n    },\n    {\n      \"column\": \"strike_price\",\n      \"properties\": {\n        \"dtype\": \"number\",\n        \"std\": 2583.4333766732925,\n        \"min\": 299.0,\n        \"max\": 35999.0,\n        \"num_unique_values\": 707,\n        \"samples\": [\n          3398.0,\n          6499.0,\n          2245.0\n        ],\n        \"semantic_type\": \"\",\n        \"description\": \"\"\n      }\n    },\n    {\n      \"column\": \"discounted_price\",\n      \"properties\": {\n        \"dtype\": \"number\",\n        \"std\": 1456.3314999432087,\n        \"min\": 169.0,\n        \"max\": 35999.0,\n        \"num_unique_values\": 1510,\n        \"samples\": [\n          1127.0,\n          1795.0,\n          1498.0\n        ],\n        \"semantic_type\": \"\",\n        \"description\": \"\"\n      }\n    },\n    {\n      \"column\": \"discount\",\n      \"properties\": {\n        \"dtype\": \"number\",\n        \"std\": 26.069276381262057,\n        \"min\": 0.0,\n        \"max\": 90.0,\n        \"num_unique_values\": 85,\n        \"samples\": [\n          27.0,\n          70.0,\n          87.0\n        ],\n        \"semantic_type\": \"\",\n        \"description\": \"\"\n      }\n    },\n    {\n      \"column\": \"Available_sizes\",\n      \"properties\": {\n        \"dtype\": \"category\",\n        \"num_unique_values\": 1186,\n        \"samples\": [\n          \"36 Rs. 4199, 38 Rs. 4199, 40 Rs. 4199, 42 Rs. 4199, 44 Rs. 4899, 46, 48\",\n          \"XS Rs. 989, S Rs. 989, M Rs. 989, L Rs. 989, XL Rs. 1499, XXL Rs. 1499\",\n          \"26 Rs. 879, 28 Rs. 759, 30 Rs. 879, 32 Rs. 759, 34 Rs. 879, 36 Rs. 879\"\n        ],\n        \"semantic_type\": \"\",\n        \"description\": \"\"\n      }\n    },\n    {\n      \"column\": \"Specifications\",\n      \"properties\": {\n        \"dtype\": \"category\",\n        \"num_unique_values\": 6383,\n        \"samples\": [\n          \"Mickey Mouse, Pure Cotton, Regular Fit, Regular, Typography or Slogan Print, Single, Round Neck, 1 Mickey Mouse, Pure Cotton, Regular Fit, Regular, Typography or Slogan Print, Single, Round Neck, 1\",\n          \"Concealed Zip, Polyester, Overalls, Shoulder Straps, Casual, Solid, Sleeveless, Funky acrylic earrings, a classy leather tote, and round steampunk glares Concealed Zip, Polyester, Overalls, Shoulder Straps, Casual, Solid, Sleeveless, Funky acrylic earrings, a classy leather tote, and round steampunk glares\",\n          \"Long Sleeves, Parka, Hooded, Solid, Lightweight, Regular, Snap Button, Polyester Long Sleeves, Parka, Hooded, Solid, Lightweight, Regular, Snap Button, Polyester\"\n        ],\n        \"semantic_type\": \"\",\n        \"description\": \"\"\n      }\n    },\n    {\n      \"column\": \"reviews\",\n      \"properties\": {\n        \"dtype\": \"string\",\n        \"num_unique_values\": 8884,\n        \"samples\": [\n          \"usually i wear size L ..but as it is matter of denim jacket..so i bought size..M..niceone.., Bought L size.... I recommend L size for 5.8\\\" gyzs.... it's perfect for my height...., The jacket is good in quality and look.\",\n          \"I rate this product 3.5 stars that wasn't the option\\nNot my problem ?\\nI really like this product because it protects me from sun, looks good and I use it very often. It's a need for me so I loved it. I love it's color gradient. Though I hoped if the hoodie would be of some other fabric from inside., I think it's suitable for winters.....thick material....i was looking for a regular jacket so i need to return it, This is an amazing jacket?. Overall the look is amazing?. somewhat loose but its done. Absolutely go for this?\",\n          \"It is good but not as similar as in image., Night mode photo from phone. New buyers here this, You can get also good photo & look in sunlight. After washing don't dry in direct sunlight because item color and brand also spoiling our self, Super cool.... Loved it totally. Nice fitting, good quality cloth. Truly worth for money.\"\n        ],\n        \"semantic_type\": \"\",\n        \"description\": \"\"\n      }\n    },\n    {\n      \"column\": \"Material\",\n      \"properties\": {\n        \"dtype\": \"category\",\n        \"num_unique_values\": 4065,\n        \"samples\": [\n          \"Kurta: 70% Silk 30% Cotton Pyjamas: 70% Silk 30% Cotton Machine Wash\",\n          \"Georgette Machine Wash, Use Cold Water\",\n          \"50% Cotton, 50% polyester Machine wash\"\n        ],\n        \"semantic_type\": \"\",\n        \"description\": \"\"\n      }\n    },\n    {\n      \"column\": \"Type\",\n      \"properties\": {\n        \"dtype\": \"category\",\n        \"num_unique_values\": 27,\n        \"samples\": [\n          \"Men Kurtis\",\n          \"Sweatshirt\",\n          \"Men Sweater\"\n        ],\n        \"semantic_type\": \"\",\n        \"description\": \"\"\n      }\n    },\n    {\n      \"column\": \"review_clean\",\n      \"properties\": {\n        \"dtype\": \"string\",\n        \"num_unique_values\": 8884,\n        \"samples\": [\n          \"usually i wear size L ..but as it is matter of denim jacket..so i bought size..M..niceone.., Bought L size.... I recommend L size for 5.8\\\" gyzs.... it's perfect for my height...., The jacket is good in quality and look.\",\n          \"I rate this product 3.5 stars that wasn't the option\\nNot my problem ?\\nI really like this product because it protects me from sun, looks good and I use it very often. It's a need for me so I loved it. I love it's color gradient. Though I hoped if the hoodie would be of some other fabric from inside., I think it's suitable for winters.....thick material....i was looking for a regular jacket so i need to return it, This is an amazing jacket?. Overall the look is amazing?. somewhat loose but its done. Absolutely go for this?\",\n          \"It is good but not as similar as in image., Night mode photo from phone. New buyers here this, You can get also good photo & look in sunlight. After washing don't dry in direct sunlight because item color and brand also spoiling our self, Super cool.... Loved it totally. Nice fitting, good quality cloth. Truly worth for money.\"\n        ],\n        \"semantic_type\": \"\",\n        \"description\": \"\"\n      }\n    },\n    {\n      \"column\": \"review_sentiment\",\n      \"properties\": {\n        \"dtype\": \"category\",\n        \"num_unique_values\": 2,\n        \"samples\": [\n          \"NEGATIVE\",\n          \"POSITIVE\"\n        ],\n        \"semantic_type\": \"\",\n        \"description\": \"\"\n      }\n    },\n    {\n      \"column\": \"gender\",\n      \"properties\": {\n        \"dtype\": \"category\",\n        \"num_unique_values\": 2,\n        \"samples\": [\n          \"Men\",\n          \"Women\"\n        ],\n        \"semantic_type\": \"\",\n        \"description\": \"\"\n      }\n    }\n  ]\n}"
            }
          },
          "metadata": {},
          "execution_count": 12
        }
      ],
      "source": [
        "data"
      ]
    },
    {
      "cell_type": "code",
      "execution_count": null,
      "metadata": {
        "id": "FnY8pzmCtTqw"
      },
      "outputs": [],
      "source": [
        "text_features=data['brand']+\" \"+data['gender']+\" \"+data['seller']+\" \"+data['Available_sizes']+\" \"+data['Specifications']+\" \"+data['Material']+\" \"+data['Type']"
      ]
    },
    {
      "cell_type": "code",
      "execution_count": null,
      "metadata": {
        "id": "Serb-tbjkSMS"
      },
      "outputs": [],
      "source": [
        "feature_columns=data[['brand','gender','seller','Available_sizes','Specifications','Material','Type','strike_price']]"
      ]
    },
    {
      "cell_type": "code",
      "execution_count": null,
      "metadata": {
        "colab": {
          "base_uri": "https://localhost:8080/"
        },
        "id": "7nvAAcDbip9c",
        "outputId": "07c58b4c-d142-4bda-d7e4-30d4c5193086"
      },
      "outputs": [
        {
          "output_type": "execute_result",
          "data": {
            "text/plain": [
              "836     Fabcartz Women RK Textiles Onesize Art Silk, A...\n",
              "1880    Park Avenue Men Raymond Limited 39 Rs. 764, 40...\n",
              "460     Cottinfab Women D S S COTTINFAB LTD S, M, L, X...\n",
              "4889    Wintage Men WINTAGE GARMENTS PRIVATE LIMITED 3...\n",
              "3194    Harvard Men Indiflashmart 28, 30, 32, 34, 36 C...\n",
              "                              ...                        \n",
              "5191    CAMLA Men JAIN AMAR CLOTHING PVT LTD S, M, L, ...\n",
              "6440    Fleximaa Women FLEXIBLE APPARELS S, M, L, XL, ...\n",
              "5390    Roadster Men GARG ACRYLICS LTD.- SJIT S, M, L,...\n",
              "860     Nautica Men Truenet Commerce 38, 40, 42, 44, 4...\n",
              "292     SALT ATTIRE Women MIMOTO TECHNOLOGIES PRIVATE ...\n",
              "Length: 13867, dtype: object"
            ]
          },
          "metadata": {},
          "execution_count": 14
        }
      ],
      "source": [
        "text_features"
      ]
    },
    {
      "cell_type": "code",
      "execution_count": null,
      "metadata": {
        "colab": {
          "base_uri": "https://localhost:8080/",
          "height": 597
        },
        "id": "aRCLICUAkpi9",
        "outputId": "dab625a1-3ad0-4384-c584-07ce46f8631d"
      },
      "outputs": [
        {
          "output_type": "execute_result",
          "data": {
            "text/plain": [
              "            brand gender                               seller  \\\n",
              "836      Fabcartz  Women                          RK Textiles   \n",
              "1880  Park Avenue    Men                      Raymond Limited   \n",
              "460     Cottinfab  Women                  D S S COTTINFAB LTD   \n",
              "4889      Wintage    Men     WINTAGE GARMENTS PRIVATE LIMITED   \n",
              "3194      Harvard    Men                        Indiflashmart   \n",
              "...           ...    ...                                  ...   \n",
              "5191        CAMLA    Men           JAIN AMAR CLOTHING PVT LTD   \n",
              "6440     Fleximaa  Women                    FLEXIBLE APPARELS   \n",
              "5390     Roadster    Men             GARG ACRYLICS LTD.- SJIT   \n",
              "860       Nautica    Men                     Truenet Commerce   \n",
              "292   SALT ATTIRE  Women  MIMOTO TECHNOLOGIES PRIVATE LIMITED   \n",
              "\n",
              "                                        Available_sizes  \\\n",
              "836                                             Onesize   \n",
              "1880  39 Rs. 764, 40 Rs. 764, 42 Rs. 764, 44 Rs. 764...   \n",
              "460                               S, M, L, XL, XXL, 3XL   \n",
              "4889                             36, 38, 40, 42, 44, 46   \n",
              "3194                                 28, 30, 32, 34, 36   \n",
              "...                                                 ...   \n",
              "5191                              S, M, L, XL, XXL, 3XL   \n",
              "6440                         S, M, L, XL, XXL, 3XL, 4XL   \n",
              "5390                                        S, M, L, XL   \n",
              "860                                  38, 40, 42, 44, 46   \n",
              "292                                XS, S, M, L, XL, XXL   \n",
              "\n",
              "                                         Specifications  \\\n",
              "836   Art Silk, Art Silk, Silk, Silk, Zari, Flared, ...   \n",
              "1880  Long Sleeves, Spread Collar, Slim Fit, Grid Ta...   \n",
              "460   Button, Notched Lapel, Pure Cotton, Regular Fi...   \n",
              "4889  Solid, Polyviscose, Collarless, Party, Regular...   \n",
              "3194  Clean Look, Mid-Rise, Light Fade, Dark, Slim F...   \n",
              "...                                                 ...   \n",
              "5191  Acrylic, Self Design, Long Sleeves, Turtle Nec...   \n",
              "6440  Pure Cotton, Regular Fit, Regular, Typography ...   \n",
              "5390  Acrylic, Colourblocked, Long Sleeves, Mock Col...   \n",
              "860   Long Sleeves, Button-Down Collar, Regular Fit,...   \n",
              "292   Front-Open, Shawl Collar, Polyester, Comfort F...   \n",
              "\n",
              "                                               Material           Type  \\\n",
              "836   Top Fabric : Art Silk Bottom Fabric : Art Silk...         Cholis   \n",
              "1880  85% polyester, 15% cotton Machine Wash, Polyes...   Formal shirt   \n",
              "460          use mild detergent and wash similar colors  Women Blazers   \n",
              "4889                          Polycotton Dry Clean Only      Men Suits   \n",
              "3194  79% Cotton, 19% Polyester, 2% Elastane Machine...      Men Jeans   \n",
              "...                                                 ...            ...   \n",
              "5191                               Acrylic Machine Wash    Men Sweater   \n",
              "6440                              Pure Cotton Hand Wash  women Tshirts   \n",
              "5390                   Material: Acrylic   Machine Wash    Men Sweater   \n",
              "860                           100% Cotton  Machine wash   Casual Shirt   \n",
              "292                                Moss Lycra Dry clean  Women Blazers   \n",
              "\n",
              "      strike_price  \n",
              "836         5999.0  \n",
              "1880        1699.0  \n",
              "460         2599.0  \n",
              "4889        3999.0  \n",
              "3194        1698.0  \n",
              "...            ...  \n",
              "5191        2790.0  \n",
              "6440         749.0  \n",
              "5390        1499.0  \n",
              "860         2799.0  \n",
              "292         4250.0  \n",
              "\n",
              "[13867 rows x 8 columns]"
            ],
            "text/html": [
              "\n",
              "  <div id=\"df-8a06d7d0-620d-40da-9b49-57e811421d82\" class=\"colab-df-container\">\n",
              "    <div>\n",
              "<style scoped>\n",
              "    .dataframe tbody tr th:only-of-type {\n",
              "        vertical-align: middle;\n",
              "    }\n",
              "\n",
              "    .dataframe tbody tr th {\n",
              "        vertical-align: top;\n",
              "    }\n",
              "\n",
              "    .dataframe thead th {\n",
              "        text-align: right;\n",
              "    }\n",
              "</style>\n",
              "<table border=\"1\" class=\"dataframe\">\n",
              "  <thead>\n",
              "    <tr style=\"text-align: right;\">\n",
              "      <th></th>\n",
              "      <th>brand</th>\n",
              "      <th>gender</th>\n",
              "      <th>seller</th>\n",
              "      <th>Available_sizes</th>\n",
              "      <th>Specifications</th>\n",
              "      <th>Material</th>\n",
              "      <th>Type</th>\n",
              "      <th>strike_price</th>\n",
              "    </tr>\n",
              "  </thead>\n",
              "  <tbody>\n",
              "    <tr>\n",
              "      <th>836</th>\n",
              "      <td>Fabcartz</td>\n",
              "      <td>Women</td>\n",
              "      <td>RK Textiles</td>\n",
              "      <td>Onesize</td>\n",
              "      <td>Art Silk, Art Silk, Silk, Silk, Zari, Flared, ...</td>\n",
              "      <td>Top Fabric : Art Silk Bottom Fabric : Art Silk...</td>\n",
              "      <td>Cholis</td>\n",
              "      <td>5999.0</td>\n",
              "    </tr>\n",
              "    <tr>\n",
              "      <th>1880</th>\n",
              "      <td>Park Avenue</td>\n",
              "      <td>Men</td>\n",
              "      <td>Raymond Limited</td>\n",
              "      <td>39 Rs. 764, 40 Rs. 764, 42 Rs. 764, 44 Rs. 764...</td>\n",
              "      <td>Long Sleeves, Spread Collar, Slim Fit, Grid Ta...</td>\n",
              "      <td>85% polyester, 15% cotton Machine Wash, Polyes...</td>\n",
              "      <td>Formal shirt</td>\n",
              "      <td>1699.0</td>\n",
              "    </tr>\n",
              "    <tr>\n",
              "      <th>460</th>\n",
              "      <td>Cottinfab</td>\n",
              "      <td>Women</td>\n",
              "      <td>D S S COTTINFAB LTD</td>\n",
              "      <td>S, M, L, XL, XXL, 3XL</td>\n",
              "      <td>Button, Notched Lapel, Pure Cotton, Regular Fi...</td>\n",
              "      <td>use mild detergent and wash similar colors</td>\n",
              "      <td>Women Blazers</td>\n",
              "      <td>2599.0</td>\n",
              "    </tr>\n",
              "    <tr>\n",
              "      <th>4889</th>\n",
              "      <td>Wintage</td>\n",
              "      <td>Men</td>\n",
              "      <td>WINTAGE GARMENTS PRIVATE LIMITED</td>\n",
              "      <td>36, 38, 40, 42, 44, 46</td>\n",
              "      <td>Solid, Polyviscose, Collarless, Party, Regular...</td>\n",
              "      <td>Polycotton Dry Clean Only</td>\n",
              "      <td>Men Suits</td>\n",
              "      <td>3999.0</td>\n",
              "    </tr>\n",
              "    <tr>\n",
              "      <th>3194</th>\n",
              "      <td>Harvard</td>\n",
              "      <td>Men</td>\n",
              "      <td>Indiflashmart</td>\n",
              "      <td>28, 30, 32, 34, 36</td>\n",
              "      <td>Clean Look, Mid-Rise, Light Fade, Dark, Slim F...</td>\n",
              "      <td>79% Cotton, 19% Polyester, 2% Elastane Machine...</td>\n",
              "      <td>Men Jeans</td>\n",
              "      <td>1698.0</td>\n",
              "    </tr>\n",
              "    <tr>\n",
              "      <th>...</th>\n",
              "      <td>...</td>\n",
              "      <td>...</td>\n",
              "      <td>...</td>\n",
              "      <td>...</td>\n",
              "      <td>...</td>\n",
              "      <td>...</td>\n",
              "      <td>...</td>\n",
              "      <td>...</td>\n",
              "    </tr>\n",
              "    <tr>\n",
              "      <th>5191</th>\n",
              "      <td>CAMLA</td>\n",
              "      <td>Men</td>\n",
              "      <td>JAIN AMAR CLOTHING PVT LTD</td>\n",
              "      <td>S, M, L, XL, XXL, 3XL</td>\n",
              "      <td>Acrylic, Self Design, Long Sleeves, Turtle Nec...</td>\n",
              "      <td>Acrylic Machine Wash</td>\n",
              "      <td>Men Sweater</td>\n",
              "      <td>2790.0</td>\n",
              "    </tr>\n",
              "    <tr>\n",
              "      <th>6440</th>\n",
              "      <td>Fleximaa</td>\n",
              "      <td>Women</td>\n",
              "      <td>FLEXIBLE APPARELS</td>\n",
              "      <td>S, M, L, XL, XXL, 3XL, 4XL</td>\n",
              "      <td>Pure Cotton, Regular Fit, Regular, Typography ...</td>\n",
              "      <td>Pure Cotton Hand Wash</td>\n",
              "      <td>women Tshirts</td>\n",
              "      <td>749.0</td>\n",
              "    </tr>\n",
              "    <tr>\n",
              "      <th>5390</th>\n",
              "      <td>Roadster</td>\n",
              "      <td>Men</td>\n",
              "      <td>GARG ACRYLICS LTD.- SJIT</td>\n",
              "      <td>S, M, L, XL</td>\n",
              "      <td>Acrylic, Colourblocked, Long Sleeves, Mock Col...</td>\n",
              "      <td>Material: Acrylic   Machine Wash</td>\n",
              "      <td>Men Sweater</td>\n",
              "      <td>1499.0</td>\n",
              "    </tr>\n",
              "    <tr>\n",
              "      <th>860</th>\n",
              "      <td>Nautica</td>\n",
              "      <td>Men</td>\n",
              "      <td>Truenet Commerce</td>\n",
              "      <td>38, 40, 42, 44, 46</td>\n",
              "      <td>Long Sleeves, Button-Down Collar, Regular Fit,...</td>\n",
              "      <td>100% Cotton  Machine wash</td>\n",
              "      <td>Casual Shirt</td>\n",
              "      <td>2799.0</td>\n",
              "    </tr>\n",
              "    <tr>\n",
              "      <th>292</th>\n",
              "      <td>SALT ATTIRE</td>\n",
              "      <td>Women</td>\n",
              "      <td>MIMOTO TECHNOLOGIES PRIVATE LIMITED</td>\n",
              "      <td>XS, S, M, L, XL, XXL</td>\n",
              "      <td>Front-Open, Shawl Collar, Polyester, Comfort F...</td>\n",
              "      <td>Moss Lycra Dry clean</td>\n",
              "      <td>Women Blazers</td>\n",
              "      <td>4250.0</td>\n",
              "    </tr>\n",
              "  </tbody>\n",
              "</table>\n",
              "<p>13867 rows × 8 columns</p>\n",
              "</div>\n",
              "    <div class=\"colab-df-buttons\">\n",
              "\n",
              "  <div class=\"colab-df-container\">\n",
              "    <button class=\"colab-df-convert\" onclick=\"convertToInteractive('df-8a06d7d0-620d-40da-9b49-57e811421d82')\"\n",
              "            title=\"Convert this dataframe to an interactive table.\"\n",
              "            style=\"display:none;\">\n",
              "\n",
              "  <svg xmlns=\"http://www.w3.org/2000/svg\" height=\"24px\" viewBox=\"0 -960 960 960\">\n",
              "    <path d=\"M120-120v-720h720v720H120Zm60-500h600v-160H180v160Zm220 220h160v-160H400v160Zm0 220h160v-160H400v160ZM180-400h160v-160H180v160Zm440 0h160v-160H620v160ZM180-180h160v-160H180v160Zm440 0h160v-160H620v160Z\"/>\n",
              "  </svg>\n",
              "    </button>\n",
              "\n",
              "  <style>\n",
              "    .colab-df-container {\n",
              "      display:flex;\n",
              "      gap: 12px;\n",
              "    }\n",
              "\n",
              "    .colab-df-convert {\n",
              "      background-color: #E8F0FE;\n",
              "      border: none;\n",
              "      border-radius: 50%;\n",
              "      cursor: pointer;\n",
              "      display: none;\n",
              "      fill: #1967D2;\n",
              "      height: 32px;\n",
              "      padding: 0 0 0 0;\n",
              "      width: 32px;\n",
              "    }\n",
              "\n",
              "    .colab-df-convert:hover {\n",
              "      background-color: #E2EBFA;\n",
              "      box-shadow: 0px 1px 2px rgba(60, 64, 67, 0.3), 0px 1px 3px 1px rgba(60, 64, 67, 0.15);\n",
              "      fill: #174EA6;\n",
              "    }\n",
              "\n",
              "    .colab-df-buttons div {\n",
              "      margin-bottom: 4px;\n",
              "    }\n",
              "\n",
              "    [theme=dark] .colab-df-convert {\n",
              "      background-color: #3B4455;\n",
              "      fill: #D2E3FC;\n",
              "    }\n",
              "\n",
              "    [theme=dark] .colab-df-convert:hover {\n",
              "      background-color: #434B5C;\n",
              "      box-shadow: 0px 1px 3px 1px rgba(0, 0, 0, 0.15);\n",
              "      filter: drop-shadow(0px 1px 2px rgba(0, 0, 0, 0.3));\n",
              "      fill: #FFFFFF;\n",
              "    }\n",
              "  </style>\n",
              "\n",
              "    <script>\n",
              "      const buttonEl =\n",
              "        document.querySelector('#df-8a06d7d0-620d-40da-9b49-57e811421d82 button.colab-df-convert');\n",
              "      buttonEl.style.display =\n",
              "        google.colab.kernel.accessAllowed ? 'block' : 'none';\n",
              "\n",
              "      async function convertToInteractive(key) {\n",
              "        const element = document.querySelector('#df-8a06d7d0-620d-40da-9b49-57e811421d82');\n",
              "        const dataTable =\n",
              "          await google.colab.kernel.invokeFunction('convertToInteractive',\n",
              "                                                    [key], {});\n",
              "        if (!dataTable) return;\n",
              "\n",
              "        const docLinkHtml = 'Like what you see? Visit the ' +\n",
              "          '<a target=\"_blank\" href=https://colab.research.google.com/notebooks/data_table.ipynb>data table notebook</a>'\n",
              "          + ' to learn more about interactive tables.';\n",
              "        element.innerHTML = '';\n",
              "        dataTable['output_type'] = 'display_data';\n",
              "        await google.colab.output.renderOutput(dataTable, element);\n",
              "        const docLink = document.createElement('div');\n",
              "        docLink.innerHTML = docLinkHtml;\n",
              "        element.appendChild(docLink);\n",
              "      }\n",
              "    </script>\n",
              "  </div>\n",
              "\n",
              "\n",
              "<div id=\"df-68e429b1-959e-47e4-b170-9075862d2f9a\">\n",
              "  <button class=\"colab-df-quickchart\" onclick=\"quickchart('df-68e429b1-959e-47e4-b170-9075862d2f9a')\"\n",
              "            title=\"Suggest charts\"\n",
              "            style=\"display:none;\">\n",
              "\n",
              "<svg xmlns=\"http://www.w3.org/2000/svg\" height=\"24px\"viewBox=\"0 0 24 24\"\n",
              "     width=\"24px\">\n",
              "    <g>\n",
              "        <path d=\"M19 3H5c-1.1 0-2 .9-2 2v14c0 1.1.9 2 2 2h14c1.1 0 2-.9 2-2V5c0-1.1-.9-2-2-2zM9 17H7v-7h2v7zm4 0h-2V7h2v10zm4 0h-2v-4h2v4z\"/>\n",
              "    </g>\n",
              "</svg>\n",
              "  </button>\n",
              "\n",
              "<style>\n",
              "  .colab-df-quickchart {\n",
              "      --bg-color: #E8F0FE;\n",
              "      --fill-color: #1967D2;\n",
              "      --hover-bg-color: #E2EBFA;\n",
              "      --hover-fill-color: #174EA6;\n",
              "      --disabled-fill-color: #AAA;\n",
              "      --disabled-bg-color: #DDD;\n",
              "  }\n",
              "\n",
              "  [theme=dark] .colab-df-quickchart {\n",
              "      --bg-color: #3B4455;\n",
              "      --fill-color: #D2E3FC;\n",
              "      --hover-bg-color: #434B5C;\n",
              "      --hover-fill-color: #FFFFFF;\n",
              "      --disabled-bg-color: #3B4455;\n",
              "      --disabled-fill-color: #666;\n",
              "  }\n",
              "\n",
              "  .colab-df-quickchart {\n",
              "    background-color: var(--bg-color);\n",
              "    border: none;\n",
              "    border-radius: 50%;\n",
              "    cursor: pointer;\n",
              "    display: none;\n",
              "    fill: var(--fill-color);\n",
              "    height: 32px;\n",
              "    padding: 0;\n",
              "    width: 32px;\n",
              "  }\n",
              "\n",
              "  .colab-df-quickchart:hover {\n",
              "    background-color: var(--hover-bg-color);\n",
              "    box-shadow: 0 1px 2px rgba(60, 64, 67, 0.3), 0 1px 3px 1px rgba(60, 64, 67, 0.15);\n",
              "    fill: var(--button-hover-fill-color);\n",
              "  }\n",
              "\n",
              "  .colab-df-quickchart-complete:disabled,\n",
              "  .colab-df-quickchart-complete:disabled:hover {\n",
              "    background-color: var(--disabled-bg-color);\n",
              "    fill: var(--disabled-fill-color);\n",
              "    box-shadow: none;\n",
              "  }\n",
              "\n",
              "  .colab-df-spinner {\n",
              "    border: 2px solid var(--fill-color);\n",
              "    border-color: transparent;\n",
              "    border-bottom-color: var(--fill-color);\n",
              "    animation:\n",
              "      spin 1s steps(1) infinite;\n",
              "  }\n",
              "\n",
              "  @keyframes spin {\n",
              "    0% {\n",
              "      border-color: transparent;\n",
              "      border-bottom-color: var(--fill-color);\n",
              "      border-left-color: var(--fill-color);\n",
              "    }\n",
              "    20% {\n",
              "      border-color: transparent;\n",
              "      border-left-color: var(--fill-color);\n",
              "      border-top-color: var(--fill-color);\n",
              "    }\n",
              "    30% {\n",
              "      border-color: transparent;\n",
              "      border-left-color: var(--fill-color);\n",
              "      border-top-color: var(--fill-color);\n",
              "      border-right-color: var(--fill-color);\n",
              "    }\n",
              "    40% {\n",
              "      border-color: transparent;\n",
              "      border-right-color: var(--fill-color);\n",
              "      border-top-color: var(--fill-color);\n",
              "    }\n",
              "    60% {\n",
              "      border-color: transparent;\n",
              "      border-right-color: var(--fill-color);\n",
              "    }\n",
              "    80% {\n",
              "      border-color: transparent;\n",
              "      border-right-color: var(--fill-color);\n",
              "      border-bottom-color: var(--fill-color);\n",
              "    }\n",
              "    90% {\n",
              "      border-color: transparent;\n",
              "      border-bottom-color: var(--fill-color);\n",
              "    }\n",
              "  }\n",
              "</style>\n",
              "\n",
              "  <script>\n",
              "    async function quickchart(key) {\n",
              "      const quickchartButtonEl =\n",
              "        document.querySelector('#' + key + ' button');\n",
              "      quickchartButtonEl.disabled = true;  // To prevent multiple clicks.\n",
              "      quickchartButtonEl.classList.add('colab-df-spinner');\n",
              "      try {\n",
              "        const charts = await google.colab.kernel.invokeFunction(\n",
              "            'suggestCharts', [key], {});\n",
              "      } catch (error) {\n",
              "        console.error('Error during call to suggestCharts:', error);\n",
              "      }\n",
              "      quickchartButtonEl.classList.remove('colab-df-spinner');\n",
              "      quickchartButtonEl.classList.add('colab-df-quickchart-complete');\n",
              "    }\n",
              "    (() => {\n",
              "      let quickchartButtonEl =\n",
              "        document.querySelector('#df-68e429b1-959e-47e4-b170-9075862d2f9a button');\n",
              "      quickchartButtonEl.style.display =\n",
              "        google.colab.kernel.accessAllowed ? 'block' : 'none';\n",
              "    })();\n",
              "  </script>\n",
              "</div>\n",
              "\n",
              "  <div id=\"id_3d57b77a-6e74-4234-8207-e87a765cdd06\">\n",
              "    <style>\n",
              "      .colab-df-generate {\n",
              "        background-color: #E8F0FE;\n",
              "        border: none;\n",
              "        border-radius: 50%;\n",
              "        cursor: pointer;\n",
              "        display: none;\n",
              "        fill: #1967D2;\n",
              "        height: 32px;\n",
              "        padding: 0 0 0 0;\n",
              "        width: 32px;\n",
              "      }\n",
              "\n",
              "      .colab-df-generate:hover {\n",
              "        background-color: #E2EBFA;\n",
              "        box-shadow: 0px 1px 2px rgba(60, 64, 67, 0.3), 0px 1px 3px 1px rgba(60, 64, 67, 0.15);\n",
              "        fill: #174EA6;\n",
              "      }\n",
              "\n",
              "      [theme=dark] .colab-df-generate {\n",
              "        background-color: #3B4455;\n",
              "        fill: #D2E3FC;\n",
              "      }\n",
              "\n",
              "      [theme=dark] .colab-df-generate:hover {\n",
              "        background-color: #434B5C;\n",
              "        box-shadow: 0px 1px 3px 1px rgba(0, 0, 0, 0.15);\n",
              "        filter: drop-shadow(0px 1px 2px rgba(0, 0, 0, 0.3));\n",
              "        fill: #FFFFFF;\n",
              "      }\n",
              "    </style>\n",
              "    <button class=\"colab-df-generate\" onclick=\"generateWithVariable('feature_columns')\"\n",
              "            title=\"Generate code using this dataframe.\"\n",
              "            style=\"display:none;\">\n",
              "\n",
              "  <svg xmlns=\"http://www.w3.org/2000/svg\" height=\"24px\"viewBox=\"0 0 24 24\"\n",
              "       width=\"24px\">\n",
              "    <path d=\"M7,19H8.4L18.45,9,17,7.55,7,17.6ZM5,21V16.75L18.45,3.32a2,2,0,0,1,2.83,0l1.4,1.43a1.91,1.91,0,0,1,.58,1.4,1.91,1.91,0,0,1-.58,1.4L9.25,21ZM18.45,9,17,7.55Zm-12,3A5.31,5.31,0,0,0,4.9,8.1,5.31,5.31,0,0,0,1,6.5,5.31,5.31,0,0,0,4.9,4.9,5.31,5.31,0,0,0,6.5,1,5.31,5.31,0,0,0,8.1,4.9,5.31,5.31,0,0,0,12,6.5,5.46,5.46,0,0,0,6.5,12Z\"/>\n",
              "  </svg>\n",
              "    </button>\n",
              "    <script>\n",
              "      (() => {\n",
              "      const buttonEl =\n",
              "        document.querySelector('#id_3d57b77a-6e74-4234-8207-e87a765cdd06 button.colab-df-generate');\n",
              "      buttonEl.style.display =\n",
              "        google.colab.kernel.accessAllowed ? 'block' : 'none';\n",
              "\n",
              "      buttonEl.onclick = () => {\n",
              "        google.colab.notebook.generateWithVariable('feature_columns');\n",
              "      }\n",
              "      })();\n",
              "    </script>\n",
              "  </div>\n",
              "\n",
              "    </div>\n",
              "  </div>\n"
            ],
            "application/vnd.google.colaboratory.intrinsic+json": {
              "type": "dataframe",
              "variable_name": "feature_columns",
              "summary": "{\n  \"name\": \"feature_columns\",\n  \"rows\": 13867,\n  \"fields\": [\n    {\n      \"column\": \"brand\",\n      \"properties\": {\n        \"dtype\": \"category\",\n        \"num_unique_values\": 861,\n        \"samples\": [\n          \"angloindu\",\n          \"CELEBRAVO\",\n          \"AASK\"\n        ],\n        \"semantic_type\": \"\",\n        \"description\": \"\"\n      }\n    },\n    {\n      \"column\": \"gender\",\n      \"properties\": {\n        \"dtype\": \"category\",\n        \"num_unique_values\": 2,\n        \"samples\": [\n          \"Men\",\n          \"Women\"\n        ],\n        \"semantic_type\": \"\",\n        \"description\": \"\"\n      }\n    },\n    {\n      \"column\": \"seller\",\n      \"properties\": {\n        \"dtype\": \"category\",\n        \"num_unique_values\": 943,\n        \"samples\": [\n          \"Fabcartz\",\n          \"AAYU CREATION PRIVATE LIMITED\"\n        ],\n        \"semantic_type\": \"\",\n        \"description\": \"\"\n      }\n    },\n    {\n      \"column\": \"Available_sizes\",\n      \"properties\": {\n        \"dtype\": \"category\",\n        \"num_unique_values\": 1186,\n        \"samples\": [\n          \"36 Rs. 4199, 38 Rs. 4199, 40 Rs. 4199, 42 Rs. 4199, 44 Rs. 4899, 46, 48\",\n          \"XS Rs. 989, S Rs. 989, M Rs. 989, L Rs. 989, XL Rs. 1499, XXL Rs. 1499\"\n        ],\n        \"semantic_type\": \"\",\n        \"description\": \"\"\n      }\n    },\n    {\n      \"column\": \"Specifications\",\n      \"properties\": {\n        \"dtype\": \"category\",\n        \"num_unique_values\": 6383,\n        \"samples\": [\n          \"Mickey Mouse, Pure Cotton, Regular Fit, Regular, Typography or Slogan Print, Single, Round Neck, 1 Mickey Mouse, Pure Cotton, Regular Fit, Regular, Typography or Slogan Print, Single, Round Neck, 1\",\n          \"Concealed Zip, Polyester, Overalls, Shoulder Straps, Casual, Solid, Sleeveless, Funky acrylic earrings, a classy leather tote, and round steampunk glares Concealed Zip, Polyester, Overalls, Shoulder Straps, Casual, Solid, Sleeveless, Funky acrylic earrings, a classy leather tote, and round steampunk glares\"\n        ],\n        \"semantic_type\": \"\",\n        \"description\": \"\"\n      }\n    },\n    {\n      \"column\": \"Material\",\n      \"properties\": {\n        \"dtype\": \"category\",\n        \"num_unique_values\": 4065,\n        \"samples\": [\n          \"Kurta: 70% Silk 30% Cotton Pyjamas: 70% Silk 30% Cotton Machine Wash\",\n          \"Georgette Machine Wash, Use Cold Water\"\n        ],\n        \"semantic_type\": \"\",\n        \"description\": \"\"\n      }\n    },\n    {\n      \"column\": \"Type\",\n      \"properties\": {\n        \"dtype\": \"category\",\n        \"num_unique_values\": 27,\n        \"samples\": [\n          \"Men Kurtis\",\n          \"Sweatshirt\"\n        ],\n        \"semantic_type\": \"\",\n        \"description\": \"\"\n      }\n    },\n    {\n      \"column\": \"strike_price\",\n      \"properties\": {\n        \"dtype\": \"number\",\n        \"std\": 2583.4333766732925,\n        \"min\": 299.0,\n        \"max\": 35999.0,\n        \"num_unique_values\": 707,\n        \"samples\": [\n          3398.0,\n          6499.0\n        ],\n        \"semantic_type\": \"\",\n        \"description\": \"\"\n      }\n    }\n  ]\n}"
            }
          },
          "metadata": {},
          "execution_count": 16
        }
      ],
      "source": [
        "feature_columns"
      ]
    },
    {
      "cell_type": "code",
      "execution_count": null,
      "metadata": {
        "colab": {
          "base_uri": "https://localhost:8080/"
        },
        "id": "BGtVPG77zJGh",
        "outputId": "a900e476-415d-4d3b-f1ba-64e0d3de40a5"
      },
      "outputs": [
        {
          "output_type": "stream",
          "name": "stderr",
          "text": [
            "<ipython-input-17-d64f4d9e44c6>:1: SettingWithCopyWarning: \n",
            "A value is trying to be set on a copy of a slice from a DataFrame\n",
            "\n",
            "See the caveats in the documentation: https://pandas.pydata.org/pandas-docs/stable/user_guide/indexing.html#returning-a-view-versus-a-copy\n",
            "  feature_columns.fillna('No input',inplace=True)\n"
          ]
        }
      ],
      "source": [
        "feature_columns.fillna('No input',inplace=True)"
      ]
    },
    {
      "cell_type": "code",
      "execution_count": null,
      "metadata": {
        "colab": {
          "base_uri": "https://localhost:8080/"
        },
        "id": "kLzloitflklV",
        "outputId": "6d3d0334-ca74-4b73-bd9e-f192a577e484"
      },
      "outputs": [
        {
          "output_type": "execute_result",
          "data": {
            "text/plain": [
              "(13867, 8)"
            ]
          },
          "metadata": {},
          "execution_count": 18
        }
      ],
      "source": [
        "feature_columns.shape"
      ]
    },
    {
      "cell_type": "code",
      "execution_count": null,
      "metadata": {
        "id": "6IQfFyjWkutK"
      },
      "outputs": [],
      "source": [
        "import pandas as pd\n",
        "from sklearn.model_selection import train_test_split\n",
        "from sklearn.ensemble import RandomForestRegressor\n",
        "from sklearn.feature_extraction.text import TfidfVectorizer\n",
        "from sklearn.metrics import mean_squared_error"
      ]
    },
    {
      "cell_type": "code",
      "execution_count": null,
      "metadata": {
        "id": "h1EgBRHampyg"
      },
      "outputs": [],
      "source": []
    },
    {
      "cell_type": "code",
      "execution_count": null,
      "metadata": {
        "id": "T_sLrc6bkuvu"
      },
      "outputs": [],
      "source": [
        "tfidf_vectorizer = TfidfVectorizer()\n",
        "text_vectorized = tfidf_vectorizer.fit_transform(text_features)"
      ]
    },
    {
      "cell_type": "code",
      "execution_count": null,
      "metadata": {
        "colab": {
          "base_uri": "https://localhost:8080/"
        },
        "id": "KlvEz7_8lunA",
        "outputId": "b7826f24-62da-423f-c59c-ef3842d605b5"
      },
      "outputs": [
        {
          "output_type": "execute_result",
          "data": {
            "text/plain": [
              "(13867, 3455)"
            ]
          },
          "metadata": {},
          "execution_count": 19
        }
      ],
      "source": [
        "text_vectorized.shape"
      ]
    },
    {
      "cell_type": "code",
      "execution_count": null,
      "metadata": {
        "id": "hVrxV8K1kuyH"
      },
      "outputs": [],
      "source": [
        "target=data['strike_price']"
      ]
    },
    {
      "cell_type": "code",
      "execution_count": null,
      "metadata": {
        "id": "2bxaJ03ElUWI"
      },
      "outputs": [],
      "source": [
        "X=text_vectorized\n",
        "y=target"
      ]
    },
    {
      "cell_type": "code",
      "source": [],
      "metadata": {
        "id": "pHswV0-OQRtB"
      },
      "execution_count": null,
      "outputs": []
    },
    {
      "cell_type": "code",
      "execution_count": null,
      "metadata": {
        "colab": {
          "base_uri": "https://localhost:8080/"
        },
        "id": "b7bvDqRnlVqg",
        "outputId": "0786388e-00a0-43ab-c61d-22635c71345a"
      },
      "outputs": [
        {
          "output_type": "stream",
          "name": "stdout",
          "text": [
            "Shape of X:  (13867, 3455)\n",
            "Shape of y:  (13867,)\n"
          ]
        }
      ],
      "source": [
        "print(\"Shape of X: \",X.shape)\n",
        "print(\"Shape of y: \",y.shape)"
      ]
    },
    {
      "cell_type": "code",
      "execution_count": null,
      "metadata": {
        "colab": {
          "base_uri": "https://localhost:8080/"
        },
        "id": "vt6PrNFQku0V",
        "outputId": "68034b33-b7a7-4f2f-bfbf-4bd3d74d31c8"
      },
      "outputs": [
        {
          "name": "stdout",
          "output_type": "stream",
          "text": [
            "(13867, 3455)\n",
            "(13867,)\n",
            "Mean Squared Error: 512389.917724019\n"
          ]
        }
      ],
      "source": [
        "X=text_vectorized\n",
        "y=target\n",
        "print(X.shape)\n",
        "print(y.shape)\n",
        "X_train, X_test, y_train, y_test = train_test_split(X, y, test_size=0.2, random_state=42)\n",
        "\n",
        "# Train the Random Forest Regressor\n",
        "model = RandomForestRegressor(random_state=42)\n",
        "model.fit(X_train, y_train)\n",
        "\n",
        "# Make predictions\n",
        "predictions = model.predict(X_test)\n",
        "\n",
        "# Evaluate the model\n",
        "mse = mean_squared_error(y_test, predictions)\n",
        "print(f'Mean Squared Error: {mse}')"
      ]
    },
    {
      "cell_type": "code",
      "execution_count": null,
      "metadata": {
        "colab": {
          "base_uri": "https://localhost:8080/"
        },
        "id": "LStvBUaQku2x",
        "outputId": "239a4d6a-8cff-42c5-defa-5dba57a150af"
      },
      "outputs": [
        {
          "name": "stdout",
          "output_type": "stream",
          "text": [
            "Mean Absolute Error: 395.4765654928849\n",
            "Mean Squared Error: 512389.917724019\n",
            "R^2 Score: 0.9231496763271603\n"
          ]
        }
      ],
      "source": [
        "from sklearn.metrics import mean_absolute_error, r2_score\n",
        "\n",
        "# Calculate Mean Absolute Error (MAE)\n",
        "mae = mean_absolute_error(y_test, predictions)\n",
        "print(f'Mean Absolute Error: {mae}')\n",
        "\n",
        "# Calculate Mean Squared Error (MSE)\n",
        "mse = mean_squared_error(y_test, predictions)\n",
        "print(f'Mean Squared Error: {mse}')\n",
        "\n",
        "# Calculate R^2 score\n",
        "r2 = r2_score(y_test, predictions)\n",
        "print(f'R^2 Score: {r2}')"
      ]
    },
    {
      "cell_type": "code",
      "execution_count": null,
      "metadata": {
        "colab": {
          "base_uri": "https://localhost:8080/",
          "height": 937
        },
        "id": "X-f3evQVtXLF",
        "outputId": "439d6ee4-0e9e-4699-d09b-58ec7073eac4"
      },
      "outputs": [
        {
          "data": {
            "image/png": "[encoded data removed]",
            "text/plain": [
              "<Figure size 1000x600 with 1 Axes>"
            ]
          },
          "metadata": {},
          "output_type": "display_data"
        },
        {
          "data": {
            "image/png": "[encoded data removed]",
            "text/plain": [
              "<Figure size 1000x600 with 1 Axes>"
            ]
          },
          "metadata": {},
          "output_type": "display_data"
        }
      ],
      "source": [
        "from sklearn.metrics import r2_score\n",
        "\n",
        "# Train the Random Forest Regressor on the training data\n",
        "\n",
        "\n",
        "# Make predictions on the training and testing data\n",
        "train_predictions = model.predict(X_train)\n",
        "test_predictions = model.predict(X_test)\n",
        "\n",
        "# Calculate MSE and R-squared scores for training and testing data\n",
        "train_mse = mean_squared_error(y_train, train_predictions)\n",
        "test_mse = mean_squared_error(y_test, test_predictions)\n",
        "\n",
        "train_r2 = r2_score(y_train, train_predictions)\n",
        "test_r2 = r2_score(y_test, test_predictions)\n",
        "\n",
        "# Plot training and testing MSE\n",
        "plt.figure(figsize=(10, 6))\n",
        "plt.plot([train_mse, test_mse], label=['Training MSE', 'Testing MSE'], marker='o')\n",
        "plt.xlabel('Dataset')\n",
        "plt.ylabel('Mean Squared Error')\n",
        "plt.title('Training and Testing Mean Squared Error')\n",
        "plt.xticks(range(2), ['Training', 'Testing'])\n",
        "plt.legend()\n",
        "plt.grid(True)\n",
        "plt.show()\n",
        "\n",
        "# Plot training and testing R-squared scores\n",
        "plt.figure(figsize=(10, 6))\n",
        "plt.plot([train_r2, test_r2], label=['Training R-squared', 'Testing R-squared'], marker='o')\n",
        "plt.xlabel('Dataset')\n",
        "plt.ylabel('R-squared Score')\n",
        "plt.title('Training and Testing R-squared Scores')\n",
        "plt.xticks(range(2), ['Training', 'Testing'])\n",
        "plt.legend()\n",
        "plt.grid(True)\n",
        "plt.show()\n"
      ]
    },
    {
      "cell_type": "code",
      "execution_count": null,
      "metadata": {
        "colab": {
          "base_uri": "https://localhost:8080/",
          "height": 582
        },
        "id": "fqcPKZ4LupTN",
        "outputId": "d2cbd9f2-5938-40dc-f07e-5b4a1df6b312"
      },
      "outputs": [
        {
          "data": {
            "text/plain": [
              "<matplotlib.legend.Legend at 0x7b87adcdd3f0>"
            ]
          },
          "execution_count": 51,
          "metadata": {},
          "output_type": "execute_result"
        },
        {
          "data": {
            "image/png": "[encoded data removed]",
            "text/plain": [
              "<Figure size 1200x600 with 1 Axes>"
            ]
          },
          "metadata": {},
          "output_type": "display_data"
        }
      ],
      "source": [
        "# Lists to store training and validation MSE and R-squared scores\n",
        "train_mse_scores = []\n",
        "val_mse_scores = []\n",
        "train_r2_scores = []\n",
        "val_r2_scores = []\n",
        "\n",
        "# Train the Random Forest Regressor\n",
        "model = RandomForestRegressor(random_state=42)\n",
        "\n",
        "# Iterate over different training set sizes\n",
        "for train_size in range(10, 91, 10):\n",
        "    # Split the data into training and validation sets\n",
        "    X_train, X_val, y_train, y_val = train_test_split(X, y, train_size=train_size/100, random_state=42)\n",
        "\n",
        "    # Train the model\n",
        "    model.fit(X_train, y_train)\n",
        "\n",
        "    # Make predictions\n",
        "    y_train_pred = model.predict(X_train)\n",
        "    y_val_pred = model.predict(X_val)\n",
        "\n",
        "    # Calculate MSE and R-squared for training and validation sets\n",
        "    train_mse = mean_squared_error(y_train, y_train_pred)\n",
        "    val_mse = mean_squared_error(y_val, y_val_pred)\n",
        "    train_r2 = r2_score(y_train, y_train_pred)\n",
        "    val_r2 = r2_score(y_val, y_val_pred)\n",
        "\n",
        "    # Append scores to lists\n",
        "    train_mse_scores.append(train_mse)\n",
        "    val_mse_scores.append(val_mse)\n",
        "    train_r2_scores.append(train_r2)\n",
        "    val_r2_scores.append(val_r2)\n",
        "\n",
        "# Plotting\n",
        "plt.figure(figsize=(12, 6))\n",
        "\n",
        "# MSE plot\n",
        "plt.subplot(1, 2, 1)\n",
        "plt.plot(range(10, 91, 10), train_mse_scores, label='Training MSE', marker='o')\n",
        "plt.plot(range(10, 91, 10), val_mse_scores, label='Validation MSE', marker='o')\n",
        "plt.title('Training and Validation MSE')\n",
        "plt.xlabel('Training Set Size (%)')\n",
        "plt.ylabel('Mean Squared Error')\n",
        "plt.legend()\n",
        "\n",
        "#\n"
      ]
    },
    {
      "cell_type": "code",
      "execution_count": null,
      "metadata": {
        "colab": {
          "base_uri": "https://localhost:8080/",
          "height": 1000
        },
        "id": "zK1YvWDvupXw",
        "outputId": "af2dc9c8-2e79-402c-efc5-f35f82f56e6f"
      },
      "outputs": [
        {
          "name": "stdout",
          "output_type": "stream",
          "text": [
            "n_estimators: 10, max_depth: None, min_samples_split: 2\n",
            "Train R-squared: 0.9728486100170004, Validation R-squared: 0.9168497762936425, MSE: 554393.7129661273\n",
            "n_estimators: 10, max_depth: None, min_samples_split: 5\n",
            "Train R-squared: 0.9697442649542096, Validation R-squared: 0.9159454618585214, MSE: 560423.1163162149\n",
            "n_estimators: 10, max_depth: None, min_samples_split: 10\n",
            "Train R-squared: 0.9617121723610901, Validation R-squared: 0.9142280670749383, MSE: 571873.6311586243\n",
            "n_estimators: 10, max_depth: 10, min_samples_split: 2\n",
            "Train R-squared: 0.9002615127084187, Validation R-squared: 0.8744465554120626, MSE: 837111.8827846468\n",
            "n_estimators: 10, max_depth: 10, min_samples_split: 5\n",
            "Train R-squared: 0.898546191535736, Validation R-squared: 0.873668691446682, MSE: 842298.1934489795\n",
            "n_estimators: 10, max_depth: 10, min_samples_split: 10\n",
            "Train R-squared: 0.893726414904501, Validation R-squared: 0.8752800950594811, MSE: 831554.3614763614\n",
            "n_estimators: 10, max_depth: 20, min_samples_split: 2\n",
            "Train R-squared: 0.9497438801641116, Validation R-squared: 0.9040501718321347, MSE: 639733.474251347\n",
            "n_estimators: 10, max_depth: 20, min_samples_split: 5\n",
            "Train R-squared: 0.9473150224201663, Validation R-squared: 0.9059251088092934, MSE: 627232.5665446476\n",
            "n_estimators: 10, max_depth: 20, min_samples_split: 10\n",
            "Train R-squared: 0.9399572535566396, Validation R-squared: 0.9036645492700784, MSE: 642304.5644355033\n",
            "n_estimators: 50, max_depth: None, min_samples_split: 2\n",
            "Train R-squared: 0.9783586108851782, Validation R-squared: 0.9221090689823538, MSE: 519328.03699672705\n",
            "n_estimators: 50, max_depth: None, min_samples_split: 5\n",
            "Train R-squared: 0.9746452247716539, Validation R-squared: 0.9202533495895595, MSE: 531700.8138641426\n",
            "n_estimators: 50, max_depth: None, min_samples_split: 10\n",
            "Train R-squared: 0.9670838648253158, Validation R-squared: 0.919609574841218, MSE: 535993.1014508524\n",
            "n_estimators: 50, max_depth: 10, min_samples_split: 2\n",
            "Train R-squared: 0.9040323349024965, Validation R-squared: 0.8767697210820812, MSE: 821622.4663498173\n",
            "n_estimators: 50, max_depth: 10, min_samples_split: 5\n",
            "Train R-squared: 0.9024635241101437, Validation R-squared: 0.8761649864796707, MSE: 825654.4586481594\n",
            "n_estimators: 50, max_depth: 10, min_samples_split: 10\n",
            "Train R-squared: 0.8981842522020496, Validation R-squared: 0.8760268068877861, MSE: 826575.7537882851\n",
            "n_estimators: 50, max_depth: 20, min_samples_split: 2\n",
            "Train R-squared: 0.9551891290493804, Validation R-squared: 0.9090391989268581, MSE: 606469.7603147489\n",
            "n_estimators: 50, max_depth: 20, min_samples_split: 5\n",
            "Train R-squared: 0.9522495258790566, Validation R-squared: 0.908245763381204, MSE: 611759.892542269\n",
            "n_estimators: 50, max_depth: 20, min_samples_split: 10\n",
            "Train R-squared: 0.9454377297286612, Validation R-squared: 0.9078309857068334, MSE: 614525.370789951\n",
            "n_estimators: 100, max_depth: None, min_samples_split: 2\n",
            "Train R-squared: 0.9796840502130315, Validation R-squared: 0.9231496763271603, MSE: 512389.917724019\n",
            "n_estimators: 100, max_depth: None, min_samples_split: 5\n",
            "Train R-squared: 0.9761181033648931, Validation R-squared: 0.921379534100537, MSE: 524192.11954324023\n",
            "n_estimators: 100, max_depth: None, min_samples_split: 10\n",
            "Train R-squared: 0.9684873378667355, Validation R-squared: 0.9200704836334384, MSE: 532920.0497467445\n",
            "n_estimators: 100, max_depth: 10, min_samples_split: 2\n",
            "Train R-squared: 0.9051429190443284, Validation R-squared: 0.8780366633887982, MSE: 813175.2870371655\n",
            "n_estimators: 100, max_depth: 10, min_samples_split: 5\n",
            "Train R-squared: 0.9037630284469194, Validation R-squared: 0.8775768133004482, MSE: 816241.2799656803\n",
            "n_estimators: 100, max_depth: 10, min_samples_split: 10\n",
            "Train R-squared: 0.899388532958539, Validation R-squared: 0.8766114333278889, MSE: 822677.8301462345\n",
            "n_estimators: 100, max_depth: 20, min_samples_split: 2\n",
            "Train R-squared: 0.9567179159309557, Validation R-squared: 0.9108739944875383, MSE: 594236.4904800052\n",
            "n_estimators: 100, max_depth: 20, min_samples_split: 5\n",
            "Train R-squared: 0.9537616046808923, Validation R-squared: 0.909083269740055, MSE: 606175.9236818142\n"
          ]
        },
        {
          "data": {
            "image/png": "[encoded data removed]",
            "text/plain": [
              "<Figure size 1000x600 with 1 Axes>"
            ]
          },
          "metadata": {},
          "output_type": "display_data"
        }
      ],
      "source": [
        "import numpy as np\n",
        "import matplotlib.pyplot as plt\n",
        "from sklearn.ensemble import RandomForestRegressor\n",
        "from sklearn.model_selection import train_test_split\n",
        "from sklearn.metrics import mean_squared_error, r2_score\n",
        "\n",
        "# Define X and y\n",
        "X = text_vectorized\n",
        "y = target\n",
        "\n",
        "# Split data into train and test sets\n",
        "X_train, X_test, y_train, y_test = train_test_split(X, y, test_size=0.2, random_state=42)\n",
        "\n",
        "# Lists to store R-squared error for training and validation\n",
        "train_r2_scores = []\n",
        "val_r2_scores = []\n",
        "\n",
        "# Hyperparameters to tune\n",
        "n_estimators_values = [10, 50, 100]\n",
        "max_depth_values = [None, 10, 20]\n",
        "min_samples_split_values = [2, 5, 10]\n",
        "\n",
        "# Iterate over hyperparameters\n",
        "for n_estimators in n_estimators_values:\n",
        "    for max_depth in max_depth_values:\n",
        "        for min_samples_split in min_samples_split_values:\n",
        "            # Initialize and train the model\n",
        "            model = RandomForestRegressor(n_estimators=n_estimators, max_depth=max_depth, min_samples_split=min_samples_split, random_state=42)\n",
        "            model.fit(X_train, y_train)\n",
        "\n",
        "            # Make predictions\n",
        "            y_train_pred = model.predict(X_train)\n",
        "            y_val_pred = model.predict(X_test)\n",
        "\n",
        "            # Calculate R-squared for training and validation sets\n",
        "            train_r2 = r2_score(y_train, y_train_pred)\n",
        "            val_r2 = r2_score(y_test, y_val_pred)\n",
        "\n",
        "            # Append R-squared scores to lists\n",
        "            train_r2_scores.append(train_r2)\n",
        "            val_r2_scores.append(val_r2)\n",
        "\n",
        "            # Print and evaluate other metrics\n",
        "            mse = mean_squared_error(y_test, y_val_pred)\n",
        "            print(f\"n_estimators: {n_estimators}, max_depth: {max_depth}, min_samples_split: {min_samples_split}\")\n",
        "            print(f\"Train R-squared: {train_r2}, Validation R-squared: {val_r2}, MSE: {mse}\")\n",
        "\n",
        "# Plot variation of R-squared error during training and validation\n",
        "plt.figure(figsize=(10, 6))\n",
        "plt.plot(range(len(train_r2_scores)), train_r2_scores, label='Training R-squared', marker='o')\n",
        "plt.plot(range(len(val_r2_scores)), val_r2_scores, label='Validation R-squared', marker='o')\n",
        "plt.xlabel('Hyperparameter Combination')\n",
        "plt.ylabel('R-squared Error')\n",
        "plt.title('Variation of R-squared Error during Training and Validation')\n",
        "plt.legend()\n",
        "plt.show()\n"
      ]
    },
    {
      "cell_type": "code",
      "execution_count": null,
      "metadata": {
        "colab": {
          "base_uri": "https://localhost:8080/"
        },
        "id": "niz5-JIkb3gb",
        "outputId": "7ba70279-78a7-474c-a0b8-e3e864cd9928"
      },
      "outputs": [
        {
          "output_type": "stream",
          "name": "stdout",
          "text": [
            "Mean Absolute Error: 395.4765654928849\n",
            "Mean Squared Error: 512389.917724019\n",
            "R^2 Score: 0.9231496763271603\n"
          ]
        }
      ],
      "source": [
        "# Split the data into training and testing sets\n",
        "X_train, X_test, y_train, y_test = train_test_split(X, y, test_size=0.2, random_state=42)\n",
        "\n",
        "# Initialize the Random Forest Regressor with specified hyperparameters\n",
        "final_model = RandomForestRegressor(n_estimators=100, max_depth=None, min_samples_split=2, random_state=42)\n",
        "\n",
        "# Train the Random Forest Regressor\n",
        "final_model.fit(X_train, y_train)\n",
        "\n",
        "# Make predictions on the test set\n",
        "predictions1 = final_model.predict(X_test)\n",
        "\n",
        "# Evaluate the model u\n",
        "\n",
        "from sklearn.metrics import mean_squared_error, mean_absolute_error, r2_score\n",
        "\n",
        "# Calculate Mean Absolute Error (MAE)\n",
        "mae = mean_absolute_error(y_test, predictions1)\n",
        "print(f'Mean Absolute Error: {mae}')\n",
        "\n",
        "# Calculate Mean Squared Error (MSE)\n",
        "mse = mean_squared_error(y_test, predictions1)\n",
        "print(f'Mean Squared Error: {mse}')\n",
        "\n",
        "# Calculate R^2 score\n",
        "r2 = r2_score(y_test, predictions1)\n",
        "print(f'R^2 Score: {r2}')\n"
      ]
    },
    {
      "cell_type": "code",
      "execution_count": null,
      "metadata": {
        "id": "Iy7PXGJIupZv",
        "colab": {
          "base_uri": "https://localhost:8080/"
        },
        "outputId": "04ceb746-f3a0-40f9-8821-23492cf432da"
      },
      "outputs": [
        {
          "output_type": "stream",
          "name": "stdout",
          "text": [
            "Enter the text feature: SINGNI Women Purple Ethnic Motifs Embroidered Mirror Work Kurta with Trousers & Dupatta S, M, L, XL, XXL, XXXL Purple embroidered Kurta with Trousers with dupatta Ethnic motifs embroidered Anarkali shape Regular style Round neck, three-quarter regular sleeves Mirror work detail Floor length length with flared hem Viscose rayon machine weave fabric Printed Trousers Elasticated waistband Kurta material: Viscose Rayon Trouser material: Viscose Rayon Dupatta; Poly chiffon Dry Clean  Specifications Sleeve Length Three-Quarter Sleeves Top Shape Anarkali Top Type Kurta Bottom Type Trousers Dupatta With Dupatta Top Pattern Embroidered Top Design Styling Regular Top Hemline Flared transparency low\n",
            "Predicted Price: 5754.888000000001\n"
          ]
        }
      ],
      "source": [
        "user_text_input = input(\"Enter the text feature: \")\n",
        "user_text_vectorized = tfidf_vectorizer.transform([user_text_input])\n",
        "user_prediction = final_model.predict(user_text_vectorized)\n",
        "\n",
        "# Display the predicted price\n",
        "print(f'Predicted Price: {user_prediction[0]}')"
      ]
    },
    {
      "cell_type": "code",
      "execution_count": null,
      "metadata": {
        "id": "244qPqqAupb6"
      },
      "outputs": [],
      "source": []
    },
    {
      "cell_type": "code",
      "execution_count": null,
      "metadata": {
        "id": "7IabRx17upfV"
      },
      "outputs": [],
      "source": []
    },
    {
      "cell_type": "markdown",
      "metadata": {
        "id": "VWuiTBJ7tbqB"
      },
      "source": [
        "Training a model by splitting columns and then vectorizing using TF-IDF vectorizer"
      ]
    },
    {
      "cell_type": "code",
      "execution_count": null,
      "metadata": {
        "colab": {
          "base_uri": "https://localhost:8080/"
        },
        "id": "McMd81Ekku5L",
        "outputId": "f77780d4-dd26-4f55-e937-73f5db06e4ea"
      },
      "outputs": [
        {
          "name": "stdout",
          "output_type": "stream",
          "text": [
            "Training R-squared: 0.691826866943998\n",
            "Testing R-squared: 0.7162302941955712\n",
            "Training MSE: 2057119.0872497845\n",
            "Testing MSE: 1891999.0087314036\n",
            "Training MAE: 832.8772737377577\n",
            "Testing MAE: 806.853322637357\n"
          ]
        }
      ],
      "source": [
        "import pandas as pd\n",
        "from sklearn.feature_extraction.text import TfidfVectorizer\n",
        "from sklearn.model_selection import train_test_split\n",
        "from sklearn.ensemble import RandomForestRegressor\n",
        "from sklearn.metrics import r2_score, mean_squared_error, mean_absolute_error\n",
        "import matplotlib.pyplot as plt\n",
        "\n",
        "# Load the dataset\n",
        "data = feature_columns\n",
        "\n",
        "# TF-IDF Vectorization for each column\n",
        "tfidf_vectorizers = {}\n",
        "for col in data.columns:\n",
        "    if col != 'strike_price':\n",
        "        tfidf_vectorizer = TfidfVectorizer()\n",
        "        tfidf_matrix = tfidf_vectorizer.fit_transform(data[col])\n",
        "        tfidf_vectorizers[col] = tfidf_vectorizer\n",
        "\n",
        "# Combine TF-IDF vectors\n",
        "X = tfidf_matrix\n",
        "y = data['strike_price']\n",
        "\n",
        "# Train-test split\n",
        "X_train, X_test, y_train, y_test = train_test_split(X, y, test_size=0.2, random_state=42)\n",
        "\n",
        "# Random Forest Regression\n",
        "model = RandomForestRegressor(random_state=42)\n",
        "model.fit(X_train, y_train)\n",
        "\n",
        "# Predictions\n",
        "y_pred_train = model.predict(X_train)\n",
        "y_pred_test = model.predict(X_test)\n",
        "\n",
        "# Evaluation metrics\n",
        "r2_train = r2_score(y_train, y_pred_train)\n",
        "r2_test = r2_score(y_test, y_pred_test)\n",
        "mse_train = mean_squared_error(y_train, y_pred_train)\n",
        "mse_test = mean_squared_error(y_test, y_pred_test)\n",
        "mae_train = mean_absolute_error(y_train, y_pred_train)\n",
        "mae_test = mean_absolute_error(y_test, y_pred_test)\n",
        "\n",
        "print(\"Training R-squared:\", r2_train)\n",
        "print(\"Testing R-squared:\", r2_test)\n",
        "print(\"Training MSE:\", mse_train)\n",
        "print(\"Testing MSE:\", mse_test)\n",
        "print(\"Training MAE:\", mae_train)\n",
        "print(\"Testing MAE:\", mae_test)\n",
        "\n",
        "\n"
      ]
    },
    {
      "cell_type": "code",
      "execution_count": null,
      "metadata": {
        "colab": {
          "base_uri": "https://localhost:8080/",
          "height": 472
        },
        "id": "osttrgYVku78",
        "outputId": "e783ae45-6b3a-48fa-dd5e-23436f159d8d"
      },
      "outputs": [
        {
          "data": {
            "image/png": "[encoded data removed]",
            "text/plain": [
              "<Figure size 640x480 with 1 Axes>"
            ]
          },
          "metadata": {},
          "output_type": "display_data"
        }
      ],
      "source": [
        "import numpy as np\n",
        "import matplotlib.pyplot as plt\n",
        "\n",
        "# Range of number of estimators to try\n",
        "n_estimators_range = np.arange(1, 100, 5)\n",
        "\n",
        "# Train Random Forest Regressor with different number of estimators\n",
        "train_mse = []\n",
        "test_mse = []\n",
        "for n_estimators in n_estimators_range:\n",
        "    model = RandomForestRegressor(n_estimators=n_estimators, random_state=42)\n",
        "    model.fit(X_train, y_train)\n",
        "    y_pred_train = model.predict(X_train)\n",
        "    y_pred_test = model.predict(X_test)\n",
        "    train_mse.append(mean_squared_error(y_train, y_pred_train))\n",
        "    test_mse.append(mean_squared_error(y_test, y_pred_test))\n",
        "\n",
        "# Plot the Mean Squared Error (MSE) across different numbers of estimators\n",
        "plt.plot(n_estimators_range, train_mse, label='Training MSE')\n",
        "plt.plot(n_estimators_range, test_mse, label='Testing MSE')\n",
        "plt.xlabel('Number of Estimators')\n",
        "plt.ylabel('Mean Squared Error (MSE)')\n",
        "plt.title('Random Forest Regression Performance')\n",
        "plt.legend()\n",
        "plt.show()\n"
      ]
    },
    {
      "cell_type": "code",
      "execution_count": null,
      "metadata": {
        "id": "LRzM4HiukvA0"
      },
      "outputs": [],
      "source": [
        "#ValueError: Invalid parameter 'max_samples_leaf' for estimator RandomForestRegressor(random_state=42). Valid parameters are: ['bootstrap', 'ccp_alpha', 'criterion', 'max_depth', 'max_features', 'max_leaf_nodes', 'max_samples', 'min_impurity_decrease', 'min_samples_leaf', 'min_samples_split', 'min_weight_fraction_leaf', 'n_estimators', 'n_jobs', 'oob_score', 'random_state', 'verbose', 'warm_start']."
      ]
    },
    {
      "cell_type": "code",
      "execution_count": null,
      "metadata": {
        "id": "HUBILLEMkvDP"
      },
      "outputs": [],
      "source": []
    },
    {
      "cell_type": "code",
      "execution_count": null,
      "metadata": {
        "id": "XWbJaUawkvGw"
      },
      "outputs": [],
      "source": [
        "#Previous works"
      ]
    },
    {
      "cell_type": "code",
      "execution_count": null,
      "metadata": {
        "id": "T_VAJYISuOch"
      },
      "outputs": [],
      "source": [
        "target=data['strike_price']"
      ]
    },
    {
      "cell_type": "code",
      "execution_count": null,
      "metadata": {
        "id": "-4Vr8s49ky-2"
      },
      "outputs": [],
      "source": [
        "text_features.fillna('No input',inplace=True)"
      ]
    },
    {
      "cell_type": "code",
      "execution_count": null,
      "metadata": {
        "id": "jxvuSHxGxrPQ"
      },
      "outputs": [],
      "source": [
        "import pandas as pd\n",
        "from sklearn.model_selection import train_test_split\n",
        "from sklearn.ensemble import RandomForestRegressor\n",
        "from sklearn.feature_extraction.text import TfidfVectorizer\n",
        "from sklearn.metrics import mean_squared_error"
      ]
    },
    {
      "cell_type": "code",
      "execution_count": null,
      "metadata": {
        "id": "4Lg3TvPExxkl"
      },
      "outputs": [],
      "source": [
        "tfidf_vectorizer = TfidfVectorizer()\n",
        "text_vectorized = tfidf_vectorizer.fit_transform(text_features)"
      ]
    },
    {
      "cell_type": "code",
      "execution_count": null,
      "metadata": {
        "colab": {
          "base_uri": "https://localhost:8080/"
        },
        "id": "B9OZaUBvx0iV",
        "outputId": "0eb161ac-f6ea-428f-d680-85d83480bd7b"
      },
      "outputs": [
        {
          "name": "stdout",
          "output_type": "stream",
          "text": [
            "(13867, 3455)\n",
            "(13867,)\n",
            "Mean Squared Error: 512389.917724019\n"
          ]
        }
      ],
      "source": [
        "X=text_vectorized\n",
        "y=target\n",
        "print(X.shape)\n",
        "print(y.shape)\n",
        "X_train, X_test, y_train, y_test = train_test_split(X, y, test_size=0.2, random_state=42)\n",
        "\n",
        "# Train the Random Forest Regressor\n",
        "model = RandomForestRegressor(random_state=42)\n",
        "model.fit(X_train, y_train)\n",
        "\n",
        "# Make predictions\n",
        "predictions = model.predict(X_test)\n",
        "\n",
        "# Evaluate the model\n",
        "mse = mean_squared_error(y_test, predictions)\n",
        "print(f'Mean Squared Error: {mse}')"
      ]
    },
    {
      "cell_type": "code",
      "execution_count": null,
      "metadata": {
        "id": "k2zLaORKDj_j"
      },
      "outputs": [],
      "source": []
    },
    {
      "cell_type": "code",
      "execution_count": null,
      "metadata": {
        "colab": {
          "base_uri": "https://localhost:8080/"
        },
        "id": "rughdG9hCiVN",
        "outputId": "05617a48-299f-4a9e-d664-2b3f465269f9"
      },
      "outputs": [
        {
          "name": "stdout",
          "output_type": "stream",
          "text": [
            "Mean Absolute Error: 395.4765654928849\n",
            "Mean Squared Error: 512389.917724019\n",
            "R^2 Score: 0.9231496763271603\n"
          ]
        }
      ],
      "source": [
        "from sklearn.metrics import mean_absolute_error, r2_score\n",
        "\n",
        "# Calculate Mean Absolute Error (MAE)\n",
        "mae = mean_absolute_error(y_test, predictions)\n",
        "print(f'Mean Absolute Error: {mae}')\n",
        "\n",
        "# Calculate Mean Squared Error (MSE)\n",
        "mse = mean_squared_error(y_test, predictions)\n",
        "print(f'Mean Squared Error: {mse}')\n",
        "\n",
        "# Calculate R^2 score\n",
        "r2 = r2_score(y_test, predictions)\n",
        "print(f'R^2 Score: {r2}')"
      ]
    },
    {
      "cell_type": "code",
      "execution_count": null,
      "metadata": {
        "colab": {
          "base_uri": "https://localhost:8080/"
        },
        "id": "CmCbWMrdyKo8",
        "outputId": "d2c295b3-5e25-4214-dedf-b4346513151c"
      },
      "outputs": [
        {
          "name": "stdout",
          "output_type": "stream",
          "text": [
            "Enter the text feature:  women lehenga choli polister fusion wear georgette dupatta embrodary\n",
            "Predicted Price: 5036.42\n"
          ]
        }
      ],
      "source": [
        "user_text_input = input(\"Enter the text feature: \")\n",
        "user_text_vectorized = tfidf_vectorizer.transform([user_text_input])\n",
        "user_prediction = model.predict(user_text_vectorized)\n",
        "\n",
        "# Display the predicted price\n",
        "print(f'Predicted Price: {user_prediction[0]}')"
      ]
    },
    {
      "cell_type": "code",
      "execution_count": null,
      "metadata": {
        "colab": {
          "base_uri": "https://localhost:8080/"
        },
        "id": "M1VbbVyV1oRr",
        "outputId": "66e3bbcb-da81-44dd-8505-ee7a71009faa"
      },
      "outputs": [
        {
          "name": "stdout",
          "output_type": "stream",
          "text": [
            "Mean Squared Error: 860289.4862942527\n"
          ]
        }
      ],
      "source": [
        "from sklearn.tree import DecisionTreeRegressor\n",
        "model2 = DecisionTreeRegressor(random_state=42)\n",
        "model2.fit(X_train, y_train)\n",
        "\n",
        "# Make predictions\n",
        "predictions2 = model2.predict(X_test)\n",
        "\n",
        "# Evaluate the model\n",
        "mse2 = mean_squared_error(y_test, predictions2)\n",
        "print(f'Mean Squared Error: {mse2}')"
      ]
    },
    {
      "cell_type": "code",
      "execution_count": null,
      "metadata": {
        "colab": {
          "base_uri": "https://localhost:8080/"
        },
        "id": "6-dZBCfBDp40",
        "outputId": "cbd78310-ea4f-4f56-bd6d-5d79f62c68be"
      },
      "outputs": [
        {
          "name": "stdout",
          "output_type": "stream",
          "text": [
            "Mean Absolute Error: 452.4401872000466\n",
            "Mean Squared Error: 873150.1977108568\n",
            "R^2 Score: 0.8690413823770329\n"
          ]
        }
      ],
      "source": [
        "from sklearn.metrics import mean_absolute_error, r2_score\n",
        "\n",
        "# Calculate Mean Absolute Error (MAE)\n",
        "mae = mean_absolute_error(y_test, predictions2)\n",
        "print(f'Mean Absolute Error: {mae}')\n",
        "\n",
        "# Calculate Mean Squared Error (MSE)\n",
        "mse = mean_squared_error(y_test, predictions2)\n",
        "print(f'Mean Squared Error: {mse}')\n",
        "\n",
        "# Calculate R^2 score\n",
        "r2 = r2_score(y_test, predictions2)\n",
        "print(f'R^2 Score: {r2}')"
      ]
    },
    {
      "cell_type": "code",
      "execution_count": null,
      "metadata": {
        "colab": {
          "base_uri": "https://localhost:8080/"
        },
        "id": "wfrHPn-p2qvu",
        "outputId": "70d77837-941b-435b-8e2e-c70fccc79329"
      },
      "outputs": [
        {
          "name": "stdout",
          "output_type": "stream",
          "text": [
            "Enter the text feature: women lehenga choli polister fusion wear georgette dupatta embrodary\n",
            "Predicted Price: 4399.0\n"
          ]
        }
      ],
      "source": [
        "user_text_input = input(\"Enter the text feature: \")\n",
        "user_text_vectorized = tfidf_vectorizer.transform([user_text_input])\n",
        "user_prediction = model2.predict(user_text_vectorized)\n",
        "\n",
        "# Display the predicted price\n",
        "print(f'Predicted Price: {user_prediction[0]}')"
      ]
    },
    {
      "cell_type": "code",
      "execution_count": null,
      "metadata": {
        "id": "0KfydkYU208O"
      },
      "outputs": [],
      "source": [
        "import pandas as pd\n",
        "from sklearn.model_selection import train_test_split\n",
        "from sklearn.metrics import mean_squared_error\n",
        "from sklearn.feature_extraction.text import TfidfVectorizer\n",
        "from xgboost import XGBRegressor"
      ]
    },
    {
      "cell_type": "code",
      "execution_count": null,
      "metadata": {
        "colab": {
          "base_uri": "https://localhost:8080/"
        },
        "id": "64zpoc1H92iJ",
        "outputId": "3355bafb-3779-47b0-8718-b63f6f59317e"
      },
      "outputs": [
        {
          "name": "stdout",
          "output_type": "stream",
          "text": [
            "Mean Squared Error: 547640.7940136391\n"
          ]
        }
      ],
      "source": [
        "X=text_vectorized\n",
        "y=target\n",
        "X_train, X_test, y_train, y_test = train_test_split(X, y, test_size=0.2, random_state=42)\n",
        "\n",
        "# Train the XGBoost Regressor\n",
        "model3 = XGBRegressor(random_state=42)\n",
        "model3.fit(X_train, y_train)\n",
        "\n",
        "# Make predictions\n",
        "predictions3 = model3.predict(X_test)\n",
        "\n",
        "# Evaluate the model\n",
        "mse = mean_squared_error(y_test, predictions3)\n",
        "print(f'Mean Squared Error: {mse}')"
      ]
    },
    {
      "cell_type": "code",
      "execution_count": null,
      "metadata": {
        "colab": {
          "base_uri": "https://localhost:8080/"
        },
        "id": "az7xO34mCU8D",
        "outputId": "69b6caaf-a384-4b71-d58f-16857e93dce7"
      },
      "outputs": [
        {
          "name": "stdout",
          "output_type": "stream",
          "text": [
            "Mean Absolute Error: 467.5945914006525\n",
            "Mean Squared Error: 547640.7940136391\n",
            "R^2 Score: 0.9178626065412405\n"
          ]
        }
      ],
      "source": [
        "from sklearn.metrics import mean_absolute_error, r2_score\n",
        "\n",
        "# Calculate Mean Absolute Error (MAE)\n",
        "mae = mean_absolute_error(y_test, predictions3)\n",
        "print(f'Mean Absolute Error: {mae}')\n",
        "\n",
        "# Calculate Mean Squared Error (MSE)\n",
        "mse = mean_squared_error(y_test, predictions3)\n",
        "print(f'Mean Squared Error: {mse}')\n",
        "\n",
        "# Calculate R^2 score\n",
        "r2 = r2_score(y_test, predictions3)\n",
        "print(f'R^2 Score: {r2}')"
      ]
    },
    {
      "cell_type": "code",
      "execution_count": null,
      "metadata": {
        "colab": {
          "base_uri": "https://localhost:8080/"
        },
        "id": "GPaclbEg9_zU",
        "outputId": "aa2c1e0b-b2be-4563-9b77-9325265fc33d"
      },
      "outputs": [
        {
          "name": "stdout",
          "output_type": "stream",
          "text": [
            "Enter the text feature: women lehenga choli polyster fusion wear georgette dupatta embroidary\n",
            "Predicted Price: 3345.218505859375\n"
          ]
        }
      ],
      "source": [
        "user_text_input = input(\"Enter the text feature: \")\n",
        "user_text_vectorized = tfidf_vectorizer.transform([user_text_input])\n",
        "user_prediction = model3.predict(user_text_vectorized)\n",
        "\n",
        "# Display the predicted price\n",
        "print(f'Predicted Price: {user_prediction[0]}')"
      ]
    },
    {
      "cell_type": "code",
      "execution_count": null,
      "metadata": {
        "id": "RdJicQ7VB-AE"
      },
      "outputs": [],
      "source": [
        "import pandas as pd\n",
        "from sklearn.model_selection import train_test_split\n",
        "from sklearn.ensemble import AdaBoostRegressor  # Import AdaBoostRegressor\n",
        "from sklearn.feature_extraction.text import TfidfVectorizer\n",
        "from sklearn.metrics import mean_squared_error"
      ]
    },
    {
      "cell_type": "code",
      "execution_count": null,
      "metadata": {
        "colab": {
          "base_uri": "https://localhost:8080/"
        },
        "id": "07rh6pb9Emay",
        "outputId": "a519d598-a124-42cc-8e2e-c9db14bda17c"
      },
      "outputs": [
        {
          "name": "stdout",
          "output_type": "stream",
          "text": [
            "Mean Squared Error: 5128525.1901606945\n",
            "Mean Absolute Error: 2031.5777775745673\n",
            "Mean Squared Error: 5128525.1901606945\n",
            "R^2 Score: 0.23080293504048777\n"
          ]
        }
      ],
      "source": [
        "X_train, X_test, y_train, y_test = train_test_split(X, y, test_size=0.2, random_state=42)\n",
        "\n",
        "# Train the AdaBoost Regressor\n",
        "model4 = AdaBoostRegressor(random_state=42)  # Use AdaBoostRegressor\n",
        "model4.fit(X_train, y_train)\n",
        "\n",
        "# Make predictions\n",
        "predictions4 = model4.predict(X_test)\n",
        "\n",
        "# Evaluate the model\n",
        "mse = mean_squared_error(y_test, predictions4)\n",
        "print(f'Mean Squared Error: {mse}')\n",
        "\n",
        "from sklearn.metrics import mean_absolute_error, r2_score\n",
        "\n",
        "# Calculate Mean Absolute Error (MAE)\n",
        "mae = mean_absolute_error(y_test, predictions4)\n",
        "print(f'Mean Absolute Error: {mae}')\n",
        "\n",
        "# Calculate Mean Squared Error (MSE)\n",
        "mse = mean_squared_error(y_test, predictions4)\n",
        "print(f'Mean Squared Error: {mse}')\n",
        "\n",
        "# Calculate R^2 score\n",
        "r2 = r2_score(y_test, predictions4)\n",
        "print(f'R^2 Score: {r2}')"
      ]
    },
    {
      "cell_type": "code",
      "execution_count": null,
      "metadata": {
        "colab": {
          "base_uri": "https://localhost:8080/"
        },
        "id": "PiBRO5dQFv5O",
        "outputId": "b203f529-142f-4868-e81b-b2c4dfbcc8a3"
      },
      "outputs": [
        {
          "name": "stdout",
          "output_type": "stream",
          "text": [
            "Enter the text feature: women lehenga choli polyster fusion wear georgette dupatta embroidary\n",
            "Predicted Price: 5193.553360413589\n"
          ]
        }
      ],
      "source": [
        "user_text_input = input(\"Enter the text feature: \")\n",
        "user_text_vectorized = tfidf_vectorizer.transform([user_text_input])\n",
        "user_prediction = model4.predict(user_text_vectorized)\n",
        "\n",
        "# Display the predicted price\n",
        "print(f'Predicted Price: {user_prediction[0]}')"
      ]
    },
    {
      "cell_type": "code",
      "execution_count": null,
      "metadata": {
        "colab": {
          "base_uri": "https://localhost:8080/"
        },
        "id": "P_D-mQLOF3Ki",
        "outputId": "d93f8c26-9e1d-4a9f-8958-d165a3fe47a5"
      },
      "outputs": [
        {
          "name": "stdout",
          "output_type": "stream",
          "text": [
            "Best Parameters: {'max_depth': None, 'min_samples_leaf': 1, 'min_samples_split': 10}\n",
            "Mean Squared Error: 755781.5680702253\n"
          ]
        }
      ],
      "source": [
        "param_grid = {\n",
        "    'max_depth': [None, 10, 20, 30],\n",
        "    'min_samples_split': [2, 5, 10],\n",
        "    'min_samples_leaf': [1, 2, 4]\n",
        "}\n",
        "X_train, X_test, y_train, y_test = train_test_split(X, y, test_size=0.2, random_state=42)\n",
        "from sklearn.model_selection import GridSearchCV\n",
        "\n",
        "grid_search = GridSearchCV(model2, param_grid, cv=5, scoring='neg_mean_squared_error')\n",
        "grid_search.fit(X_train, y_train)\n",
        "best_params = grid_search.best_params_\n",
        "print(\"Best Parameters:\", best_params)\n",
        "best_model = grid_search.best_estimator_\n",
        "y_pred = best_model.predict(X_test)\n",
        "from sklearn.metrics import mean_squared_error\n",
        "\n",
        "mse = mean_squared_error(y_test, y_pred)\n",
        "print(\"Mean Squared Error:\", mse)\n"
      ]
    },
    {
      "cell_type": "code",
      "execution_count": null,
      "metadata": {
        "colab": {
          "base_uri": "https://localhost:8080/"
        },
        "id": "4M_zNPDeqJqz",
        "outputId": "ded65632-f87b-43ca-ba3f-ad05a9c3315d"
      },
      "outputs": [
        {
          "name": "stdout",
          "output_type": "stream",
          "text": [
            "Enter the text feature: Mast & Harbour Men Blue & White Slim Fit Striped Casual Sustainable Shirt Blue and white striped casual shirt, has a button-down collar, long sleeves, curved hem, one patch pocket 100% cotton Machine Wash Long Sleeves Slim Fit Regular Button Down\n",
            "Predicted Price: 1998.0\n"
          ]
        }
      ],
      "source": [
        "user_text_input = input(\"Enter the text feature: \")\n",
        "user_text_vectorized = tfidf_vectorizer.transform([user_text_input])\n",
        "user_prediction = best_model.predict(user_text_vectorized)\n",
        "\n",
        "# Display the predicted price\n",
        "print(f'Predicted Price: {user_prediction[0]}')"
      ]
    },
    {
      "cell_type": "code",
      "execution_count": null,
      "metadata": {
        "id": "zm1gOsXospc4"
      },
      "outputs": [],
      "source": [
        "https://www.analyticsvidhya.com/blog/2015/06/tuning-random-forest-model/"
      ]
    },
    {
      "cell_type": "markdown",
      "source": [
        "# Rating prediction model"
      ],
      "metadata": {
        "id": "2Gbh7tTBNIjC"
      }
    },
    {
      "cell_type": "code",
      "source": [
        "text_features_r=data['brand']+\" \"+data['gender']+\" \"+data['seller']+\" \"+data['Available_sizes']+\" \"+data['Specifications']+\" \"+data['Material']+\" \"+data['Type']"
      ],
      "metadata": {
        "id": "hfxedWGCNH1N"
      },
      "execution_count": null,
      "outputs": []
    },
    {
      "cell_type": "code",
      "source": [
        "tfidf_vectorizer = TfidfVectorizer()\n",
        "text_vectorized_r = tfidf_vectorizer.fit_transform(text_features_r)"
      ],
      "metadata": {
        "id": "aQmEsIfbNHxs"
      },
      "execution_count": null,
      "outputs": []
    },
    {
      "cell_type": "code",
      "source": [
        "target1=data['rating']"
      ],
      "metadata": {
        "id": "TpgEJs6INHm4"
      },
      "execution_count": null,
      "outputs": []
    },
    {
      "cell_type": "code",
      "source": [
        "X1=text_vectorized_r\n",
        "y1=target1"
      ],
      "metadata": {
        "id": "jDAuJKVRQTYh"
      },
      "execution_count": null,
      "outputs": []
    },
    {
      "cell_type": "code",
      "source": [
        "\n",
        "print(X.shape)\n",
        "print(y.shape)\n",
        "X_train, X_test, y_train, y_test = train_test_split(X1, y1, test_size=0.2, random_state=42)\n",
        "\n",
        "# Train the Random Forest Regressor\n",
        "model_r = RandomForestRegressor(random_state=42)\n",
        "model_r.fit(X_train, y_train)\n",
        "\n",
        "# Make predictions\n",
        "predictions = model_r.predict(X_test)\n"
      ],
      "metadata": {
        "colab": {
          "base_uri": "https://localhost:8080/"
        },
        "id": "cdp-gpv0Q-o_",
        "outputId": "75480590-92af-4e6e-f570-f895be29e7f2"
      },
      "execution_count": null,
      "outputs": [
        {
          "output_type": "stream",
          "name": "stdout",
          "text": [
            "(13867, 3455)\n",
            "(13867,)\n"
          ]
        }
      ]
    },
    {
      "cell_type": "markdown",
      "source": [
        "Evaluate the model"
      ],
      "metadata": {
        "id": "Vzo1psWJRV2v"
      }
    },
    {
      "cell_type": "code",
      "source": [
        "from sklearn.metrics import mean_absolute_error, r2_score\n",
        "\n",
        "# Calculate Mean Absolute Error (MAE)\n",
        "mae = mean_absolute_error(y_test, predictions)\n",
        "print(f'Mean Absolute Error: {mae}')\n",
        "\n",
        "# Calculate Mean Squared Error (MSE)\n",
        "mse = mean_squared_error(y_test, predictions)\n",
        "print(f'Mean Squared Error: {mse}')\n",
        "\n",
        "# Calculate R^2 score\n",
        "r2 = r2_score(y_test, predictions)\n",
        "print(f'R^2 Score: {r2}')"
      ],
      "metadata": {
        "colab": {
          "base_uri": "https://localhost:8080/"
        },
        "id": "LBMYG_7wROVF",
        "outputId": "e00c5c75-746c-4b64-b705-069223eda90e"
      },
      "execution_count": null,
      "outputs": [
        {
          "output_type": "stream",
          "name": "stdout",
          "text": [
            "Mean Absolute Error: 0.895922966787633\n",
            "Mean Squared Error: 1.8956412573963437\n",
            "R^2 Score: 0.3705306564141483\n"
          ]
        }
      ]
    },
    {
      "cell_type": "code",
      "source": [
        "# Train the XGBoost Regressor\n",
        "from xgboost import XGBRegressor\n",
        "model3_r = XGBRegressor(random_state=42)\n",
        "model3_r.fit(X_train, y_train)\n",
        "\n",
        "# Make predictions\n",
        "predictions3_r = model3_r.predict(X_test)\n",
        "\n",
        "#Evaluate the model\n",
        "\n",
        "# Calculate Mean Absolute Error (MAE)\n",
        "mae = mean_absolute_error(y_test, predictions3_r)\n",
        "print(f'Mean Absolute Error: {mae}')\n",
        "\n",
        "# Calculate Mean Squared Error (MSE)\n",
        "mse = mean_squared_error(y_test, predictions3_r)\n",
        "print(f'Mean Squared Error: {mse}')\n",
        "\n",
        "# Calculate R^2 score\n",
        "r2 = r2_score(y_test, predictions3_r)\n",
        "print(f'R^2 Score: {r2}')"
      ],
      "metadata": {
        "colab": {
          "base_uri": "https://localhost:8080/"
        },
        "id": "ya9JwN8CTatp",
        "outputId": "352f76ba-199e-462d-d623-14bb3686ad13"
      },
      "execution_count": null,
      "outputs": [
        {
          "output_type": "stream",
          "name": "stdout",
          "text": [
            "Mean Absolute Error: 0.9830753305482409\n",
            "Mean Squared Error: 1.9467448960978777\n",
            "R^2 Score: 0.3535611091526132\n"
          ]
        }
      ]
    },
    {
      "cell_type": "code",
      "source": [
        "print(\"Mean Squared Error: 5128525.1901606945\",\"Mean Absolute Error: 2031.5777775745673\",\"R^2 Score: 0.23080293504048777\",sep=\"\\n\")"
      ],
      "metadata": {
        "id": "z0vnoeDhT6gv",
        "colab": {
          "base_uri": "https://localhost:8080/"
        },
        "outputId": "b576bc41-b369-4061-e5d9-8787d67a5059"
      },
      "execution_count": null,
      "outputs": [
        {
          "output_type": "stream",
          "name": "stdout",
          "text": [
            "Mean Squared Error: 5128525.1901606945\n",
            "Mean Absolute Error: 2031.5777775745673\n",
            "R^2 Score: 0.23080293504048777\n"
          ]
        }
      ]
    },
    {
      "cell_type": "markdown",
      "source": [
        "Fine tuning XG Boost Regressor"
      ],
      "metadata": {
        "id": "Gr785hUxU8yl"
      }
    },
    {
      "cell_type": "code",
      "source": [],
      "metadata": {
        "id": "FgUimgjYVauN"
      },
      "execution_count": null,
      "outputs": []
    }
  ],
  "metadata": {
    "colab": {
      "provenance": []
    },
    "kernelspec": {
      "display_name": "Python 3",
      "name": "python3"
    },
    "language_info": {
      "name": "python"
    }
  },
  "nbformat": 4,
  "nbformat_minor": 0
}