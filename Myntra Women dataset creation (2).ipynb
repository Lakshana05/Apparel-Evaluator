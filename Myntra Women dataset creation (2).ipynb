{
 "cells": [
  {
   "cell_type": "code",
   "execution_count": 1,
   "id": "10a3c231",
   "metadata": {},
   "outputs": [],
   "source": [
    "import pandas as pd\n",
    "import numpy as np"
   ]
  },
  {
   "cell_type": "code",
   "execution_count": 2,
   "id": "974246ac",
   "metadata": {},
   "outputs": [
    {
     "name": "stdout",
     "output_type": "stream",
     "text": [
      "(499, 19)\n",
      "(499, 20)\n"
     ]
    }
   ],
   "source": [
    "women_blazers=pd.read_csv(r\"C:\\Users\\sarla\\OneDrive\\Documents\\myntra_scraped_data\\myntra_women_blazers.csv\")\n",
    "print(women_blazers.shape)\n",
    "women_blazers['Type']='Women Blazers'\n",
    "print(women_blazers.shape)"
   ]
  },
  {
   "cell_type": "code",
   "execution_count": 3,
   "id": "a84b6b65",
   "metadata": {},
   "outputs": [
    {
     "name": "stdout",
     "output_type": "stream",
     "text": [
      "(499, 20)\n"
     ]
    }
   ],
   "source": [
    "women_dresses=pd.read_csv(r\"C:\\Users\\sarla\\OneDrive\\Documents\\myntra_scraped_data\\myntra_women_dresses.csv\")\n",
    "women_dresses.shape\n",
    "women_dresses['Type']='Women Dresses'\n",
    "print(women_dresses.shape)"
   ]
  },
  {
   "cell_type": "code",
   "execution_count": 4,
   "id": "71b16b4c",
   "metadata": {},
   "outputs": [
    {
     "name": "stdout",
     "output_type": "stream",
     "text": [
      "(499, 19)\n",
      "(499, 20)\n"
     ]
    }
   ],
   "source": [
    "women_ethnictops=pd.read_csv(r\"C:\\Users\\sarla\\OneDrive\\Documents\\myntra_scraped_data\\myntra_women_ethnictops.csv\")\n",
    "print(women_ethnictops.shape)\n",
    "women_ethnictops['Type']='Ethnic Tops'\n",
    "print(women_ethnictops.shape)"
   ]
  },
  {
   "cell_type": "code",
   "execution_count": 5,
   "id": "60fd810f",
   "metadata": {},
   "outputs": [
    {
     "name": "stdout",
     "output_type": "stream",
     "text": [
      "(499, 19)\n",
      "(499, 20)\n"
     ]
    }
   ],
   "source": [
    "women_ethnicwear=pd.read_csv(r\"C:\\Users\\sarla\\OneDrive\\Documents\\myntra_scraped_data\\myntra_women_ethnicwear.csv\")\n",
    "print(women_ethnicwear.shape)\n",
    "women_ethnicwear['Type']='Ethnic Wear'\n",
    "print(women_ethnicwear.shape)"
   ]
  },
  {
   "cell_type": "code",
   "execution_count": 6,
   "id": "64b810d3",
   "metadata": {},
   "outputs": [
    {
     "name": "stdout",
     "output_type": "stream",
     "text": [
      "(496, 19)\n",
      "(496, 20)\n"
     ]
    }
   ],
   "source": [
    "women_jackets=pd.read_csv(r\"C:\\Users\\sarla\\OneDrive\\Documents\\myntra_scraped_data\\myntra_women_jacket.csv\")\n",
    "print(women_jackets.shape)\n",
    "women_jackets['Type']='Women Jackets'\n",
    "print(women_jackets.shape)"
   ]
  },
  {
   "cell_type": "code",
   "execution_count": 7,
   "id": "3b2c3e70",
   "metadata": {},
   "outputs": [
    {
     "name": "stdout",
     "output_type": "stream",
     "text": [
      "(499, 19)\n",
      "(499, 20)\n"
     ]
    }
   ],
   "source": [
    "women_jean=pd.read_csv(r\"C:\\Users\\sarla\\OneDrive\\Documents\\myntra_scraped_data\\myntra_women_jean.csv\")\n",
    "print(women_jean.shape)\n",
    "women_jean['Type']='Jeans'\n",
    "print(women_jean.shape)"
   ]
  },
  {
   "cell_type": "code",
   "execution_count": 8,
   "id": "e28f53b2",
   "metadata": {},
   "outputs": [
    {
     "name": "stdout",
     "output_type": "stream",
     "text": [
      "(498, 19)\n",
      "(498, 20)\n"
     ]
    }
   ],
   "source": [
    "women_jumpsuits=pd.read_csv(r\"C:\\Users\\sarla\\OneDrive\\Documents\\myntra_scraped_data\\myntra_women_jumpsuits.csv\")\n",
    "print(women_jumpsuits.shape)\n",
    "women_jumpsuits['Type']='Jumpsuits'\n",
    "print(women_jumpsuits.shape)"
   ]
  },
  {
   "cell_type": "code",
   "execution_count": 9,
   "id": "0bb2d755",
   "metadata": {},
   "outputs": [
    {
     "name": "stdout",
     "output_type": "stream",
     "text": [
      "(497, 19)\n",
      "(497, 20)\n"
     ]
    }
   ],
   "source": [
    "women_leggins=pd.read_csv(r\"C:\\Users\\sarla\\OneDrive\\Documents\\myntra_scraped_data\\myntra_women_leggins.csv\")\n",
    "print(women_leggins.shape)\n",
    "women_leggins['Type']='Leggins'\n",
    "print(women_leggins.shape)"
   ]
  },
  {
   "cell_type": "code",
   "execution_count": 10,
   "id": "be1eacd8",
   "metadata": {},
   "outputs": [
    {
     "name": "stdout",
     "output_type": "stream",
     "text": [
      "(499, 19)\n",
      "(499, 20)\n"
     ]
    }
   ],
   "source": [
    "women_sarees=pd.read_csv(r\"C:\\Users\\sarla\\OneDrive\\Documents\\myntra_scraped_data\\myntra_women_sarees.csv\")\n",
    "print(women_sarees.shape)\n",
    "women_sarees['Type']='Sarees'\n",
    "print(women_sarees.shape)"
   ]
  },
  {
   "cell_type": "code",
   "execution_count": 11,
   "id": "4d1eb796",
   "metadata": {},
   "outputs": [
    {
     "name": "stdout",
     "output_type": "stream",
     "text": [
      "(498, 19)\n",
      "(498, 20)\n"
     ]
    }
   ],
   "source": [
    "women_shrugs=pd.read_csv(r\"C:\\Users\\sarla\\OneDrive\\Documents\\myntra_scraped_data\\myntra_women_shrugs.csv\")\n",
    "print(women_shrugs.shape)\n",
    "women_shrugs['Type']='Shrugs'\n",
    "print(women_shrugs.shape)"
   ]
  },
  {
   "cell_type": "code",
   "execution_count": 12,
   "id": "99fec9a2",
   "metadata": {},
   "outputs": [
    {
     "name": "stdout",
     "output_type": "stream",
     "text": [
      "(425, 19)\n",
      "(425, 20)\n"
     ]
    }
   ],
   "source": [
    "women_skirts=pd.read_csv(r\"C:\\Users\\sarla\\OneDrive\\Documents\\myntra_scraped_data\\myntra_women_skirts.csv\")\n",
    "print(women_skirts.shape)\n",
    "women_skirts['Type']='Skirts'\n",
    "print(women_skirts.shape)"
   ]
  },
  {
   "cell_type": "code",
   "execution_count": 13,
   "id": "304ec160",
   "metadata": {},
   "outputs": [
    {
     "name": "stdout",
     "output_type": "stream",
     "text": [
      "(484, 19)\n",
      "(484, 20)\n"
     ]
    }
   ],
   "source": [
    "women_sweatshirt=pd.read_csv(r\"C:\\Users\\sarla\\OneDrive\\Documents\\myntra_scraped_data\\myntra_women_sweatshirt.csv\")\n",
    "print(women_sweatshirt.shape)\n",
    "women_sweatshirt['Type']='Sweatshirt'\n",
    "print(women_sweatshirt.shape)"
   ]
  },
  {
   "cell_type": "code",
   "execution_count": 14,
   "id": "3a204ccc",
   "metadata": {},
   "outputs": [
    {
     "name": "stdout",
     "output_type": "stream",
     "text": [
      "(499, 19)\n",
      "(499, 20)\n"
     ]
    }
   ],
   "source": [
    "women_tshirts=pd.read_csv(r\"C:\\Users\\sarla\\OneDrive\\Documents\\myntra_scraped_data\\myntra_women_tshirt.csv\")\n",
    "print(women_tshirts.shape)\n",
    "women_tshirts['Type']='women Tshirts'\n",
    "print(women_tshirts.shape)"
   ]
  },
  {
   "cell_type": "code",
   "execution_count": 15,
   "id": "e65d4794",
   "metadata": {},
   "outputs": [
    {
     "name": "stdout",
     "output_type": "stream",
     "text": [
      "(498, 19)\n",
      "(498, 20)\n"
     ]
    }
   ],
   "source": [
    "women_cholis=pd.read_csv(r\"C:\\Users\\sarla\\OneDrive\\Documents\\myntra_scraped_data\\women_lehenga_cholis.csv\")\n",
    "print(women_cholis.shape)\n",
    "women_cholis['Type']='Cholis'\n",
    "print(women_cholis.shape)"
   ]
  },
  {
   "cell_type": "code",
   "execution_count": 16,
   "id": "1f61f3d6",
   "metadata": {},
   "outputs": [
    {
     "data": {
      "text/plain": [
       "(6889, 20)"
      ]
     },
     "execution_count": 16,
     "metadata": {},
     "output_type": "execute_result"
    }
   ],
   "source": [
    "frames=[women_blazers,women_cholis,women_dresses,women_ethnictops,women_ethnicwear,women_jackets,\n",
    "         women_jean,women_jumpsuits,women_leggins,women_sarees,\n",
    "        women_shrugs,women_skirts,women_sweatshirt,women_tshirts]\n",
    "women_clothings=pd.concat(frames)\n",
    "women_clothings.shape"
   ]
  },
  {
   "cell_type": "code",
   "execution_count": 17,
   "id": "3d6b1029",
   "metadata": {},
   "outputs": [
    {
     "data": {
      "text/html": [
       "<div>\n",
       "<style scoped>\n",
       "    .dataframe tbody tr th:only-of-type {\n",
       "        vertical-align: middle;\n",
       "    }\n",
       "\n",
       "    .dataframe tbody tr th {\n",
       "        vertical-align: top;\n",
       "    }\n",
       "\n",
       "    .dataframe thead th {\n",
       "        text-align: right;\n",
       "    }\n",
       "</style>\n",
       "<table border=\"1\" class=\"dataframe\">\n",
       "  <thead>\n",
       "    <tr style=\"text-align: right;\">\n",
       "      <th></th>\n",
       "      <th>web-scraper-order</th>\n",
       "      <th>web-scraper-start-url</th>\n",
       "      <th>nextpage</th>\n",
       "      <th>nextpage-href</th>\n",
       "      <th>prod_link</th>\n",
       "      <th>prod_link-href</th>\n",
       "      <th>brand</th>\n",
       "      <th>product_name</th>\n",
       "      <th>rating</th>\n",
       "      <th>total_bought</th>\n",
       "      <th>strike_price</th>\n",
       "      <th>discounted_price</th>\n",
       "      <th>available_sizes</th>\n",
       "      <th>prod_details</th>\n",
       "      <th>sizeandfit</th>\n",
       "      <th>seller</th>\n",
       "      <th>reviews</th>\n",
       "      <th>Materialandcare</th>\n",
       "      <th>specifications</th>\n",
       "      <th>Type</th>\n",
       "    </tr>\n",
       "  </thead>\n",
       "  <tbody>\n",
       "    <tr>\n",
       "      <th>0</th>\n",
       "      <td>1707039248-1</td>\n",
       "      <td>https://www.myntra.com/women-blazers-waistcoats</td>\n",
       "      <td>NaN</td>\n",
       "      <td>NaN</td>\n",
       "      <td>Tokyo TalkiesSingle-Breasted BlazersSizes: MRs...</td>\n",
       "      <td>https://www.myntra.com/blazers/tokyo+talkies/t...</td>\n",
       "      <td>Tokyo Talkies</td>\n",
       "      <td>Grey Single-Breasted Blazers</td>\n",
       "      <td>4.4</td>\n",
       "      <td>15 Ratings</td>\n",
       "      <td>₹3599</td>\n",
       "      <td>₹1099</td>\n",
       "      <td>[{\"available_sizes\":\"XS\"},{\"available_sizes\":\"...</td>\n",
       "      <td>[]</td>\n",
       "      <td>Regular-fit\\nThe model (height 5'8\") is wearin...</td>\n",
       "      <td>S &amp; S Marketing</td>\n",
       "      <td>[]</td>\n",
       "      <td>Polyester\\nMachine Wash</td>\n",
       "      <td>[{\"specifications\":\"Front-Open\"},{\"specificati...</td>\n",
       "      <td>Women Blazers</td>\n",
       "    </tr>\n",
       "    <tr>\n",
       "      <th>1</th>\n",
       "      <td>1707039252-2</td>\n",
       "      <td>https://www.myntra.com/women-blazers-waistcoats</td>\n",
       "      <td>NaN</td>\n",
       "      <td>NaN</td>\n",
       "      <td>Tokyo TalkiesDouble Breasted BlazersSizes: XSR...</td>\n",
       "      <td>https://www.myntra.com/blazers/tokyo+talkies/t...</td>\n",
       "      <td>Tokyo Talkies</td>\n",
       "      <td>Notched Lapel Longline Double Breasted Blazers</td>\n",
       "      <td>5.0</td>\n",
       "      <td>2 Ratings</td>\n",
       "      <td>₹4099</td>\n",
       "      <td>₹1149</td>\n",
       "      <td>[{\"available_sizes\":\"XS\"},{\"available_sizes\":\"...</td>\n",
       "      <td>[]</td>\n",
       "      <td>The model (height 5'8\") is wearing a size S</td>\n",
       "      <td>S &amp; S Marketing</td>\n",
       "      <td>[]</td>\n",
       "      <td>70% Polyester &amp; 30% Viscose\\nMachine Wash</td>\n",
       "      <td>[{\"specifications\":\"Button\"},{\"specifications\"...</td>\n",
       "      <td>Women Blazers</td>\n",
       "    </tr>\n",
       "    <tr>\n",
       "      <th>2</th>\n",
       "      <td>1707039254-3</td>\n",
       "      <td>https://www.myntra.com/women-blazers-waistcoats</td>\n",
       "      <td>NaN</td>\n",
       "      <td>NaN</td>\n",
       "      <td>NEW SEASONH&amp;MWomen Gathered Sleeve BlazersSize...</td>\n",
       "      <td>https://www.myntra.com/blazers/h%26m/-hm-women...</td>\n",
       "      <td>H&amp;M</td>\n",
       "      <td>Women Relaxed-Fit Gathered Sleeve Blazers</td>\n",
       "      <td>NaN</td>\n",
       "      <td>NaN</td>\n",
       "      <td>NaN</td>\n",
       "      <td>Rs. 2999</td>\n",
       "      <td>[{\"available_sizes\":\"XS\"},{\"available_sizes\":\"...</td>\n",
       "      <td>[]</td>\n",
       "      <td>Relaxed-fit\\nThe model (height 5'8\") is wearin...</td>\n",
       "      <td>H &amp; M Hennes &amp; Mauritz Retail Private Limited</td>\n",
       "      <td>[]</td>\n",
       "      <td>61% Viscose, 39% Polyester\\nDry Clean</td>\n",
       "      <td>[{\"specifications\":\"Front-Open\"},{\"specificati...</td>\n",
       "      <td>Women Blazers</td>\n",
       "    </tr>\n",
       "    <tr>\n",
       "      <th>3</th>\n",
       "      <td>1707039256-4</td>\n",
       "      <td>https://www.myntra.com/women-blazers-waistcoats</td>\n",
       "      <td>NaN</td>\n",
       "      <td>NaN</td>\n",
       "      <td>STYLECAST X KASSUALLYSingle Breasted BlazersSi...</td>\n",
       "      <td>https://www.myntra.com/blazers/stylecast+x+kas...</td>\n",
       "      <td>STYLECAST X KASSUALLY</td>\n",
       "      <td>Green Notched Lapel Long Sleeve Regular Fit Si...</td>\n",
       "      <td>1.6</td>\n",
       "      <td>5 Ratings</td>\n",
       "      <td>₹3299</td>\n",
       "      <td>₹1286</td>\n",
       "      <td>[{\"available_sizes\":\"S\"},{\"available_sizes\":\"M...</td>\n",
       "      <td>[]</td>\n",
       "      <td>The model (height 5'8\") is wearing a size S</td>\n",
       "      <td>Khullar Appearls</td>\n",
       "      <td>[]</td>\n",
       "      <td>95% Polyester 5% Spandex\\nMachine Wash</td>\n",
       "      <td>[{\"specifications\":\"Button\"},{\"specifications\"...</td>\n",
       "      <td>Women Blazers</td>\n",
       "    </tr>\n",
       "    <tr>\n",
       "      <th>4</th>\n",
       "      <td>1707039258-5</td>\n",
       "      <td>https://www.myntra.com/women-blazers-waistcoats</td>\n",
       "      <td>NaN</td>\n",
       "      <td>NaN</td>\n",
       "      <td>CottinfabStriped Front Open BlazerSizes: 3XLRs...</td>\n",
       "      <td>https://www.myntra.com/blazers/cottinfab/cotti...</td>\n",
       "      <td>Cottinfab</td>\n",
       "      <td>Women Pink &amp; White Cotton Striped Front Open B...</td>\n",
       "      <td>4.1</td>\n",
       "      <td>302 Ratings</td>\n",
       "      <td>₹2499</td>\n",
       "      <td>₹999</td>\n",
       "      <td>[{\"available_sizes\":\"S\"},{\"available_sizes\":\"M...</td>\n",
       "      <td>[]</td>\n",
       "      <td>The model (height 5'8\") is wearing a size S</td>\n",
       "      <td>D S S COTTINFAB LTD</td>\n",
       "      <td>[{\"reviews\":\"One of my best buys from myntra. ...</td>\n",
       "      <td>Cotton\\nMachine-wash</td>\n",
       "      <td>[{\"specifications\":\"Front-Open\"},{\"specificati...</td>\n",
       "      <td>Women Blazers</td>\n",
       "    </tr>\n",
       "    <tr>\n",
       "      <th>...</th>\n",
       "      <td>...</td>\n",
       "      <td>...</td>\n",
       "      <td>...</td>\n",
       "      <td>...</td>\n",
       "      <td>...</td>\n",
       "      <td>...</td>\n",
       "      <td>...</td>\n",
       "      <td>...</td>\n",
       "      <td>...</td>\n",
       "      <td>...</td>\n",
       "      <td>...</td>\n",
       "      <td>...</td>\n",
       "      <td>...</td>\n",
       "      <td>...</td>\n",
       "      <td>...</td>\n",
       "      <td>...</td>\n",
       "      <td>...</td>\n",
       "      <td>...</td>\n",
       "      <td>...</td>\n",
       "      <td>...</td>\n",
       "    </tr>\n",
       "    <tr>\n",
       "      <th>494</th>\n",
       "      <td>1707020924-495</td>\n",
       "      <td>https://www.myntra.com/myntra-fashion-store?f=...</td>\n",
       "      <td>2.0</td>\n",
       "      <td>https://www.myntra.com/myntra-fashion-store?f=...</td>\n",
       "      <td>RoadsterWomen V-Neck Pure Cotton T-shirtSizes:...</td>\n",
       "      <td>https://www.myntra.com/tshirts/roadster/roadst...</td>\n",
       "      <td>Roadster</td>\n",
       "      <td>Women White Solid V-Neck Pure Cotton T-shirt</td>\n",
       "      <td>4.0</td>\n",
       "      <td>8.9k Ratings</td>\n",
       "      <td>₹699</td>\n",
       "      <td>₹209</td>\n",
       "      <td>[{\"available_sizes\":\"XS\"},{\"available_sizes\":\"...</td>\n",
       "      <td>[]</td>\n",
       "      <td>The model (height 5'8\") is wearing a size S</td>\n",
       "      <td>Truenet Commerce</td>\n",
       "      <td>[{\"reviews\":\"4 stars for the quality, which is...</td>\n",
       "      <td>100% cotton\\nMachine-wash</td>\n",
       "      <td>[{\"specifications\":\"Pure Cotton\"},{\"specificat...</td>\n",
       "      <td>women Tshirts</td>\n",
       "    </tr>\n",
       "    <tr>\n",
       "      <th>495</th>\n",
       "      <td>1707020927-496</td>\n",
       "      <td>https://www.myntra.com/myntra-fashion-store?f=...</td>\n",
       "      <td>2.0</td>\n",
       "      <td>https://www.myntra.com/myntra-fashion-store?f=...</td>\n",
       "      <td>The Souled StoreOversized Crop T-ShirtSizes: X...</td>\n",
       "      <td>https://www.myntra.com/tshirts/the+souled+stor...</td>\n",
       "      <td>The Souled Store</td>\n",
       "      <td>Minions Stay Weird Stay Happy Oversized Croppe...</td>\n",
       "      <td>4.6</td>\n",
       "      <td>283 Ratings</td>\n",
       "      <td>₹1499</td>\n",
       "      <td>₹524</td>\n",
       "      <td>[{\"available_sizes\":\"XS\"},{\"available_sizes\":\"...</td>\n",
       "      <td>[{\"prod_details\":\"Yellow T-shirt for women\"},{...</td>\n",
       "      <td>Boxy fit\\nThe model (height 5'8) is wearing a ...</td>\n",
       "      <td>THE SOULED STORE PVT. LTD.</td>\n",
       "      <td>[{\"reviews\":\"Super cute top!\\nPro tip: Pair wi...</td>\n",
       "      <td>100% Cotton\\nMachine Wash</td>\n",
       "      <td>[{\"specifications\":\"Minions\"},{\"specifications...</td>\n",
       "      <td>women Tshirts</td>\n",
       "    </tr>\n",
       "    <tr>\n",
       "      <th>496</th>\n",
       "      <td>1707020930-497</td>\n",
       "      <td>https://www.myntra.com/myntra-fashion-store?f=...</td>\n",
       "      <td>2.0</td>\n",
       "      <td>https://www.myntra.com/myntra-fashion-store?f=...</td>\n",
       "      <td>HRX by Hrithik RoshanWomen Brand Logo Printed ...</td>\n",
       "      <td>https://www.myntra.com/tshirts/hrx+by+hrithik+...</td>\n",
       "      <td>HRX by Hrithik Roshan</td>\n",
       "      <td>Women Navy Blue Printed Rapid-Dry T-shirt with...</td>\n",
       "      <td>4.3</td>\n",
       "      <td>681 Ratings</td>\n",
       "      <td>₹799</td>\n",
       "      <td>₹375</td>\n",
       "      <td>[{\"available_sizes\":\"XS\"},{\"available_sizes\":\"...</td>\n",
       "      <td>[{\"prod_details\":\"Navy blue Tshirt for women\"}...</td>\n",
       "      <td>Regular Fit \\n The model (height 5'8) is weari...</td>\n",
       "      <td>PARAS FABRICS</td>\n",
       "      <td>[{\"reviews\":\"I really liked the quality. A ver...</td>\n",
       "      <td>100% Polyester\\nMachine Wash</td>\n",
       "      <td>[{\"specifications\":\"Follow the garment wash ca...</td>\n",
       "      <td>women Tshirts</td>\n",
       "    </tr>\n",
       "    <tr>\n",
       "      <th>497</th>\n",
       "      <td>1707020933-498</td>\n",
       "      <td>https://www.myntra.com/myntra-fashion-store?f=...</td>\n",
       "      <td>2.0</td>\n",
       "      <td>https://www.myntra.com/myntra-fashion-store?f=...</td>\n",
       "      <td>DILLINGERLoose Printed Longline Cotton Pure Co...</td>\n",
       "      <td>https://www.myntra.com/tshirts/dillinger/dilli...</td>\n",
       "      <td>DILLINGER</td>\n",
       "      <td>Women Rust Pink Printed Longline Oversized Cot...</td>\n",
       "      <td>4.5</td>\n",
       "      <td>4.8k Ratings</td>\n",
       "      <td>₹1199</td>\n",
       "      <td>₹491</td>\n",
       "      <td>[{\"available_sizes\":\"XS\"},{\"available_sizes\":\"...</td>\n",
       "      <td>[]</td>\n",
       "      <td>Loose Fit\\nThe model (height 5'8\") is wearing ...</td>\n",
       "      <td>Elcinco Inc - SJIT</td>\n",
       "      <td>[{\"reviews\":\"Superb! I’ve tried this brand for...</td>\n",
       "      <td>Material: 100% Cotton\\nMachine Wash</td>\n",
       "      <td>[{\"specifications\":\"Pure Cotton\"},{\"specificat...</td>\n",
       "      <td>women Tshirts</td>\n",
       "    </tr>\n",
       "    <tr>\n",
       "      <th>498</th>\n",
       "      <td>1707020936-499</td>\n",
       "      <td>https://www.myntra.com/myntra-fashion-store?f=...</td>\n",
       "      <td>2.0</td>\n",
       "      <td>https://www.myntra.com/myntra-fashion-store?f=...</td>\n",
       "      <td>Mast &amp; HarbourPolo Collar Boxy T-shirtSizes: S...</td>\n",
       "      <td>https://www.myntra.com/tshirts/mast+%26+harbou...</td>\n",
       "      <td>Mast &amp; Harbour</td>\n",
       "      <td>Ribbed Polo Collar Drop-Shoulder Sleeves Boxy ...</td>\n",
       "      <td>4.3</td>\n",
       "      <td>150 Ratings</td>\n",
       "      <td>₹999</td>\n",
       "      <td>₹349</td>\n",
       "      <td>[{\"available_sizes\":\"XS\"},{\"available_sizes\":\"...</td>\n",
       "      <td>[{\"prod_details\":\"Peach-coloured Tshirt for wo...</td>\n",
       "      <td>Boxy\\nSize worn by the model: S\\nChest: 30\"\\nH...</td>\n",
       "      <td>Truecom Retail</td>\n",
       "      <td>[{\"reviews\":\"\"},{\"reviews\":\"Nice t shirt\"},{\"r...</td>\n",
       "      <td>55% cotton, 35% polyester and  10% Lycra\\nMach...</td>\n",
       "      <td>[{\"specifications\":\"Cotton\"},{\"specifications\"...</td>\n",
       "      <td>women Tshirts</td>\n",
       "    </tr>\n",
       "  </tbody>\n",
       "</table>\n",
       "<p>6889 rows × 20 columns</p>\n",
       "</div>"
      ],
      "text/plain": [
       "    web-scraper-order                              web-scraper-start-url  \\\n",
       "0        1707039248-1    https://www.myntra.com/women-blazers-waistcoats   \n",
       "1        1707039252-2    https://www.myntra.com/women-blazers-waistcoats   \n",
       "2        1707039254-3    https://www.myntra.com/women-blazers-waistcoats   \n",
       "3        1707039256-4    https://www.myntra.com/women-blazers-waistcoats   \n",
       "4        1707039258-5    https://www.myntra.com/women-blazers-waistcoats   \n",
       "..                ...                                                ...   \n",
       "494    1707020924-495  https://www.myntra.com/myntra-fashion-store?f=...   \n",
       "495    1707020927-496  https://www.myntra.com/myntra-fashion-store?f=...   \n",
       "496    1707020930-497  https://www.myntra.com/myntra-fashion-store?f=...   \n",
       "497    1707020933-498  https://www.myntra.com/myntra-fashion-store?f=...   \n",
       "498    1707020936-499  https://www.myntra.com/myntra-fashion-store?f=...   \n",
       "\n",
       "     nextpage                                      nextpage-href  \\\n",
       "0         NaN                                                NaN   \n",
       "1         NaN                                                NaN   \n",
       "2         NaN                                                NaN   \n",
       "3         NaN                                                NaN   \n",
       "4         NaN                                                NaN   \n",
       "..        ...                                                ...   \n",
       "494       2.0  https://www.myntra.com/myntra-fashion-store?f=...   \n",
       "495       2.0  https://www.myntra.com/myntra-fashion-store?f=...   \n",
       "496       2.0  https://www.myntra.com/myntra-fashion-store?f=...   \n",
       "497       2.0  https://www.myntra.com/myntra-fashion-store?f=...   \n",
       "498       2.0  https://www.myntra.com/myntra-fashion-store?f=...   \n",
       "\n",
       "                                             prod_link  \\\n",
       "0    Tokyo TalkiesSingle-Breasted BlazersSizes: MRs...   \n",
       "1    Tokyo TalkiesDouble Breasted BlazersSizes: XSR...   \n",
       "2    NEW SEASONH&MWomen Gathered Sleeve BlazersSize...   \n",
       "3    STYLECAST X KASSUALLYSingle Breasted BlazersSi...   \n",
       "4    CottinfabStriped Front Open BlazerSizes: 3XLRs...   \n",
       "..                                                 ...   \n",
       "494  RoadsterWomen V-Neck Pure Cotton T-shirtSizes:...   \n",
       "495  The Souled StoreOversized Crop T-ShirtSizes: X...   \n",
       "496  HRX by Hrithik RoshanWomen Brand Logo Printed ...   \n",
       "497  DILLINGERLoose Printed Longline Cotton Pure Co...   \n",
       "498  Mast & HarbourPolo Collar Boxy T-shirtSizes: S...   \n",
       "\n",
       "                                        prod_link-href                  brand  \\\n",
       "0    https://www.myntra.com/blazers/tokyo+talkies/t...          Tokyo Talkies   \n",
       "1    https://www.myntra.com/blazers/tokyo+talkies/t...          Tokyo Talkies   \n",
       "2    https://www.myntra.com/blazers/h%26m/-hm-women...                    H&M   \n",
       "3    https://www.myntra.com/blazers/stylecast+x+kas...  STYLECAST X KASSUALLY   \n",
       "4    https://www.myntra.com/blazers/cottinfab/cotti...              Cottinfab   \n",
       "..                                                 ...                    ...   \n",
       "494  https://www.myntra.com/tshirts/roadster/roadst...               Roadster   \n",
       "495  https://www.myntra.com/tshirts/the+souled+stor...       The Souled Store   \n",
       "496  https://www.myntra.com/tshirts/hrx+by+hrithik+...  HRX by Hrithik Roshan   \n",
       "497  https://www.myntra.com/tshirts/dillinger/dilli...              DILLINGER   \n",
       "498  https://www.myntra.com/tshirts/mast+%26+harbou...         Mast & Harbour   \n",
       "\n",
       "                                          product_name  rating  total_bought  \\\n",
       "0                         Grey Single-Breasted Blazers     4.4    15 Ratings   \n",
       "1       Notched Lapel Longline Double Breasted Blazers     5.0     2 Ratings   \n",
       "2            Women Relaxed-Fit Gathered Sleeve Blazers     NaN           NaN   \n",
       "3    Green Notched Lapel Long Sleeve Regular Fit Si...     1.6     5 Ratings   \n",
       "4    Women Pink & White Cotton Striped Front Open B...     4.1   302 Ratings   \n",
       "..                                                 ...     ...           ...   \n",
       "494       Women White Solid V-Neck Pure Cotton T-shirt     4.0  8.9k Ratings   \n",
       "495  Minions Stay Weird Stay Happy Oversized Croppe...     4.6   283 Ratings   \n",
       "496  Women Navy Blue Printed Rapid-Dry T-shirt with...     4.3   681 Ratings   \n",
       "497  Women Rust Pink Printed Longline Oversized Cot...     4.5  4.8k Ratings   \n",
       "498  Ribbed Polo Collar Drop-Shoulder Sleeves Boxy ...     4.3   150 Ratings   \n",
       "\n",
       "    strike_price discounted_price  \\\n",
       "0          ₹3599            ₹1099   \n",
       "1          ₹4099            ₹1149   \n",
       "2            NaN         Rs. 2999   \n",
       "3          ₹3299            ₹1286   \n",
       "4          ₹2499             ₹999   \n",
       "..           ...              ...   \n",
       "494         ₹699             ₹209   \n",
       "495        ₹1499             ₹524   \n",
       "496         ₹799             ₹375   \n",
       "497        ₹1199             ₹491   \n",
       "498         ₹999             ₹349   \n",
       "\n",
       "                                       available_sizes  \\\n",
       "0    [{\"available_sizes\":\"XS\"},{\"available_sizes\":\"...   \n",
       "1    [{\"available_sizes\":\"XS\"},{\"available_sizes\":\"...   \n",
       "2    [{\"available_sizes\":\"XS\"},{\"available_sizes\":\"...   \n",
       "3    [{\"available_sizes\":\"S\"},{\"available_sizes\":\"M...   \n",
       "4    [{\"available_sizes\":\"S\"},{\"available_sizes\":\"M...   \n",
       "..                                                 ...   \n",
       "494  [{\"available_sizes\":\"XS\"},{\"available_sizes\":\"...   \n",
       "495  [{\"available_sizes\":\"XS\"},{\"available_sizes\":\"...   \n",
       "496  [{\"available_sizes\":\"XS\"},{\"available_sizes\":\"...   \n",
       "497  [{\"available_sizes\":\"XS\"},{\"available_sizes\":\"...   \n",
       "498  [{\"available_sizes\":\"XS\"},{\"available_sizes\":\"...   \n",
       "\n",
       "                                          prod_details  \\\n",
       "0                                                   []   \n",
       "1                                                   []   \n",
       "2                                                   []   \n",
       "3                                                   []   \n",
       "4                                                   []   \n",
       "..                                                 ...   \n",
       "494                                                 []   \n",
       "495  [{\"prod_details\":\"Yellow T-shirt for women\"},{...   \n",
       "496  [{\"prod_details\":\"Navy blue Tshirt for women\"}...   \n",
       "497                                                 []   \n",
       "498  [{\"prod_details\":\"Peach-coloured Tshirt for wo...   \n",
       "\n",
       "                                            sizeandfit  \\\n",
       "0    Regular-fit\\nThe model (height 5'8\") is wearin...   \n",
       "1          The model (height 5'8\") is wearing a size S   \n",
       "2    Relaxed-fit\\nThe model (height 5'8\") is wearin...   \n",
       "3          The model (height 5'8\") is wearing a size S   \n",
       "4          The model (height 5'8\") is wearing a size S   \n",
       "..                                                 ...   \n",
       "494        The model (height 5'8\") is wearing a size S   \n",
       "495  Boxy fit\\nThe model (height 5'8) is wearing a ...   \n",
       "496  Regular Fit \\n The model (height 5'8) is weari...   \n",
       "497  Loose Fit\\nThe model (height 5'8\") is wearing ...   \n",
       "498  Boxy\\nSize worn by the model: S\\nChest: 30\"\\nH...   \n",
       "\n",
       "                                            seller  \\\n",
       "0                                  S & S Marketing   \n",
       "1                                  S & S Marketing   \n",
       "2    H & M Hennes & Mauritz Retail Private Limited   \n",
       "3                                 Khullar Appearls   \n",
       "4                              D S S COTTINFAB LTD   \n",
       "..                                             ...   \n",
       "494                               Truenet Commerce   \n",
       "495                     THE SOULED STORE PVT. LTD.   \n",
       "496                                  PARAS FABRICS   \n",
       "497                             Elcinco Inc - SJIT   \n",
       "498                                 Truecom Retail   \n",
       "\n",
       "                                               reviews  \\\n",
       "0                                                   []   \n",
       "1                                                   []   \n",
       "2                                                   []   \n",
       "3                                                   []   \n",
       "4    [{\"reviews\":\"One of my best buys from myntra. ...   \n",
       "..                                                 ...   \n",
       "494  [{\"reviews\":\"4 stars for the quality, which is...   \n",
       "495  [{\"reviews\":\"Super cute top!\\nPro tip: Pair wi...   \n",
       "496  [{\"reviews\":\"I really liked the quality. A ver...   \n",
       "497  [{\"reviews\":\"Superb! I’ve tried this brand for...   \n",
       "498  [{\"reviews\":\"\"},{\"reviews\":\"Nice t shirt\"},{\"r...   \n",
       "\n",
       "                                       Materialandcare  \\\n",
       "0                              Polyester\\nMachine Wash   \n",
       "1            70% Polyester & 30% Viscose\\nMachine Wash   \n",
       "2                61% Viscose, 39% Polyester\\nDry Clean   \n",
       "3               95% Polyester 5% Spandex\\nMachine Wash   \n",
       "4                                 Cotton\\nMachine-wash   \n",
       "..                                                 ...   \n",
       "494                          100% cotton\\nMachine-wash   \n",
       "495                          100% Cotton\\nMachine Wash   \n",
       "496                       100% Polyester\\nMachine Wash   \n",
       "497                Material: 100% Cotton\\nMachine Wash   \n",
       "498  55% cotton, 35% polyester and  10% Lycra\\nMach...   \n",
       "\n",
       "                                        specifications           Type  \n",
       "0    [{\"specifications\":\"Front-Open\"},{\"specificati...  Women Blazers  \n",
       "1    [{\"specifications\":\"Button\"},{\"specifications\"...  Women Blazers  \n",
       "2    [{\"specifications\":\"Front-Open\"},{\"specificati...  Women Blazers  \n",
       "3    [{\"specifications\":\"Button\"},{\"specifications\"...  Women Blazers  \n",
       "4    [{\"specifications\":\"Front-Open\"},{\"specificati...  Women Blazers  \n",
       "..                                                 ...            ...  \n",
       "494  [{\"specifications\":\"Pure Cotton\"},{\"specificat...  women Tshirts  \n",
       "495  [{\"specifications\":\"Minions\"},{\"specifications...  women Tshirts  \n",
       "496  [{\"specifications\":\"Follow the garment wash ca...  women Tshirts  \n",
       "497  [{\"specifications\":\"Pure Cotton\"},{\"specificat...  women Tshirts  \n",
       "498  [{\"specifications\":\"Cotton\"},{\"specifications\"...  women Tshirts  \n",
       "\n",
       "[6889 rows x 20 columns]"
      ]
     },
     "execution_count": 17,
     "metadata": {},
     "output_type": "execute_result"
    }
   ],
   "source": [
    "women_clothings"
   ]
  },
  {
   "cell_type": "code",
   "execution_count": 18,
   "id": "cb906c55",
   "metadata": {},
   "outputs": [],
   "source": [
    "women_clothings.drop([\"web-scraper-order\",\"web-scraper-start-url\",\"nextpage\",\"nextpage-href\",\"prod_link-href\"],axis=1,inplace=True)"
   ]
  },
  {
   "cell_type": "code",
   "execution_count": 19,
   "id": "10bac4c4",
   "metadata": {},
   "outputs": [
    {
     "data": {
      "text/plain": [
       "prod_link              0\n",
       "brand                  0\n",
       "product_name           0\n",
       "rating              1437\n",
       "total_bought        1437\n",
       "strike_price         568\n",
       "discounted_price       0\n",
       "available_sizes        0\n",
       "prod_details           0\n",
       "sizeandfit             9\n",
       "seller                 0\n",
       "reviews                0\n",
       "Materialandcare      261\n",
       "specifications         0\n",
       "Type                   0\n",
       "dtype: int64"
      ]
     },
     "execution_count": 19,
     "metadata": {},
     "output_type": "execute_result"
    }
   ],
   "source": [
    "women_clothings.isnull().sum()"
   ]
  },
  {
   "cell_type": "code",
   "execution_count": 20,
   "id": "58d07079",
   "metadata": {},
   "outputs": [
    {
     "data": {
      "text/plain": [
       "prod_link            object\n",
       "brand                object\n",
       "product_name         object\n",
       "rating              float64\n",
       "total_bought         object\n",
       "strike_price         object\n",
       "discounted_price     object\n",
       "available_sizes      object\n",
       "prod_details         object\n",
       "sizeandfit           object\n",
       "seller               object\n",
       "reviews              object\n",
       "Materialandcare      object\n",
       "specifications       object\n",
       "Type                 object\n",
       "dtype: object"
      ]
     },
     "execution_count": 20,
     "metadata": {},
     "output_type": "execute_result"
    }
   ],
   "source": [
    "women_clothings.dtypes"
   ]
  },
  {
   "cell_type": "code",
   "execution_count": 21,
   "id": "046753e5",
   "metadata": {},
   "outputs": [
    {
     "name": "stderr",
     "output_type": "stream",
     "text": [
      "C:\\Users\\sarla\\anaconda3\\envs\\rstudio\\lib\\site-packages\\ipykernel_launcher.py:3: FutureWarning: The default value of regex will change from True to False in a future version.\n",
      "  This is separate from the ipykernel package so we can avoid doing imports until\n"
     ]
    }
   ],
   "source": [
    "women_clothings['strike_price'] = women_clothings['strike_price'].str.replace('₹', '') \n",
    "women_clothings['discounted_price'] = women_clothings['discounted_price'].str.replace('₹', '') \n",
    "women_clothings['discounted_price'] = women_clothings['discounted_price'].str.replace('Rs. ', '') "
   ]
  },
  {
   "cell_type": "code",
   "execution_count": 22,
   "id": "93661a56",
   "metadata": {},
   "outputs": [],
   "source": [
    "women_clothings[\"strike_price\"]=women_clothings[\"strike_price\"].astype(float)\n",
    "women_clothings[\"discounted_price\"]=women_clothings[\"discounted_price\"].astype(float)"
   ]
  },
  {
   "cell_type": "code",
   "execution_count": 23,
   "id": "620dbb11",
   "metadata": {},
   "outputs": [],
   "source": [
    "def convert_to_numeric(value):\n",
    "    if isinstance(value, str):\n",
    "        if 'k' in value:\n",
    "            return float(value.replace('k', '')) * 1000\n",
    "        else:\n",
    "            return float(value)\n",
    "    else:\n",
    "        return value"
   ]
  },
  {
   "cell_type": "code",
   "execution_count": 24,
   "id": "66631a48",
   "metadata": {},
   "outputs": [],
   "source": [
    "women_clothings[\"total_bought\"] = women_clothings[\"total_bought\"].str.replace(\" Ratings\", '')"
   ]
  },
  {
   "cell_type": "code",
   "execution_count": 25,
   "id": "a0bda9bd",
   "metadata": {},
   "outputs": [
    {
     "name": "stdout",
     "output_type": "stream",
     "text": [
      "0        15.0\n",
      "1         2.0\n",
      "2         NaN\n",
      "3         5.0\n",
      "4       302.0\n",
      "        ...  \n",
      "494    8900.0\n",
      "495     283.0\n",
      "496     681.0\n",
      "497    4800.0\n",
      "498     150.0\n",
      "Name: total_bought, Length: 6889, dtype: float64\n"
     ]
    }
   ],
   "source": [
    "women_clothings[\"total_bought\"] = women_clothings[\"total_bought\"].apply(convert_to_numeric)\n",
    "print(women_clothings[\"total_bought\"])"
   ]
  },
  {
   "cell_type": "code",
   "execution_count": 26,
   "id": "690edab7",
   "metadata": {},
   "outputs": [
    {
     "name": "stdout",
     "output_type": "stream",
     "text": [
      "0          NaN\n",
      "1          NaN\n",
      "2          NaN\n",
      "3      61% OFF\n",
      "4      60% OFF\n",
      "        ...   \n",
      "494    70% OFF\n",
      "495    65% OFF\n",
      "496    56% OFF\n",
      "497    59% OFF\n",
      "498        NaN\n",
      "Name: discount, Length: 6889, dtype: object\n"
     ]
    }
   ],
   "source": [
    "# Extract the percentage discount using a regular expression\n",
    "women_clothings['discount'] = women_clothings['prod_link'].str.extract(r'(\\d+% OFF)')\n",
    "\n",
    "# Replace the values in the \"prod_link\" column\n",
    "women_clothings['prod_link'] = women_clothings['prod_link'].str.replace(r'\\(\\d+% OFF\\)', '', regex=True)\n",
    "\n",
    "# Print the updated DataFrame\n",
    "print(women_clothings['discount'])\n"
   ]
  },
  {
   "cell_type": "code",
   "execution_count": 27,
   "id": "a00adc34",
   "metadata": {},
   "outputs": [
    {
     "data": {
      "text/html": [
       "<div>\n",
       "<style scoped>\n",
       "    .dataframe tbody tr th:only-of-type {\n",
       "        vertical-align: middle;\n",
       "    }\n",
       "\n",
       "    .dataframe tbody tr th {\n",
       "        vertical-align: top;\n",
       "    }\n",
       "\n",
       "    .dataframe thead th {\n",
       "        text-align: right;\n",
       "    }\n",
       "</style>\n",
       "<table border=\"1\" class=\"dataframe\">\n",
       "  <thead>\n",
       "    <tr style=\"text-align: right;\">\n",
       "      <th></th>\n",
       "      <th>prod_link</th>\n",
       "      <th>brand</th>\n",
       "      <th>product_name</th>\n",
       "      <th>rating</th>\n",
       "      <th>total_bought</th>\n",
       "      <th>strike_price</th>\n",
       "      <th>discounted_price</th>\n",
       "      <th>available_sizes</th>\n",
       "      <th>prod_details</th>\n",
       "      <th>sizeandfit</th>\n",
       "      <th>seller</th>\n",
       "      <th>reviews</th>\n",
       "      <th>Materialandcare</th>\n",
       "      <th>specifications</th>\n",
       "      <th>Type</th>\n",
       "      <th>discount</th>\n",
       "    </tr>\n",
       "  </thead>\n",
       "  <tbody>\n",
       "    <tr>\n",
       "      <th>0</th>\n",
       "      <td>Tokyo TalkiesSingle-Breasted BlazersSizes: MRs...</td>\n",
       "      <td>Tokyo Talkies</td>\n",
       "      <td>Grey Single-Breasted Blazers</td>\n",
       "      <td>4.4</td>\n",
       "      <td>15.0</td>\n",
       "      <td>3599.0</td>\n",
       "      <td>1099.0</td>\n",
       "      <td>[{\"available_sizes\":\"XS\"},{\"available_sizes\":\"...</td>\n",
       "      <td>[]</td>\n",
       "      <td>Regular-fit\\nThe model (height 5'8\") is wearin...</td>\n",
       "      <td>S &amp; S Marketing</td>\n",
       "      <td>[]</td>\n",
       "      <td>Polyester\\nMachine Wash</td>\n",
       "      <td>[{\"specifications\":\"Front-Open\"},{\"specificati...</td>\n",
       "      <td>Women Blazers</td>\n",
       "      <td>NaN</td>\n",
       "    </tr>\n",
       "    <tr>\n",
       "      <th>1</th>\n",
       "      <td>Tokyo TalkiesDouble Breasted BlazersSizes: XSR...</td>\n",
       "      <td>Tokyo Talkies</td>\n",
       "      <td>Notched Lapel Longline Double Breasted Blazers</td>\n",
       "      <td>5.0</td>\n",
       "      <td>2.0</td>\n",
       "      <td>4099.0</td>\n",
       "      <td>1149.0</td>\n",
       "      <td>[{\"available_sizes\":\"XS\"},{\"available_sizes\":\"...</td>\n",
       "      <td>[]</td>\n",
       "      <td>The model (height 5'8\") is wearing a size S</td>\n",
       "      <td>S &amp; S Marketing</td>\n",
       "      <td>[]</td>\n",
       "      <td>70% Polyester &amp; 30% Viscose\\nMachine Wash</td>\n",
       "      <td>[{\"specifications\":\"Button\"},{\"specifications\"...</td>\n",
       "      <td>Women Blazers</td>\n",
       "      <td>NaN</td>\n",
       "    </tr>\n",
       "    <tr>\n",
       "      <th>2</th>\n",
       "      <td>NEW SEASONH&amp;MWomen Gathered Sleeve BlazersSize...</td>\n",
       "      <td>H&amp;M</td>\n",
       "      <td>Women Relaxed-Fit Gathered Sleeve Blazers</td>\n",
       "      <td>NaN</td>\n",
       "      <td>NaN</td>\n",
       "      <td>NaN</td>\n",
       "      <td>2999.0</td>\n",
       "      <td>[{\"available_sizes\":\"XS\"},{\"available_sizes\":\"...</td>\n",
       "      <td>[]</td>\n",
       "      <td>Relaxed-fit\\nThe model (height 5'8\") is wearin...</td>\n",
       "      <td>H &amp; M Hennes &amp; Mauritz Retail Private Limited</td>\n",
       "      <td>[]</td>\n",
       "      <td>61% Viscose, 39% Polyester\\nDry Clean</td>\n",
       "      <td>[{\"specifications\":\"Front-Open\"},{\"specificati...</td>\n",
       "      <td>Women Blazers</td>\n",
       "      <td>NaN</td>\n",
       "    </tr>\n",
       "    <tr>\n",
       "      <th>3</th>\n",
       "      <td>STYLECAST X KASSUALLYSingle Breasted BlazersSi...</td>\n",
       "      <td>STYLECAST X KASSUALLY</td>\n",
       "      <td>Green Notched Lapel Long Sleeve Regular Fit Si...</td>\n",
       "      <td>1.6</td>\n",
       "      <td>5.0</td>\n",
       "      <td>3299.0</td>\n",
       "      <td>1286.0</td>\n",
       "      <td>[{\"available_sizes\":\"S\"},{\"available_sizes\":\"M...</td>\n",
       "      <td>[]</td>\n",
       "      <td>The model (height 5'8\") is wearing a size S</td>\n",
       "      <td>Khullar Appearls</td>\n",
       "      <td>[]</td>\n",
       "      <td>95% Polyester 5% Spandex\\nMachine Wash</td>\n",
       "      <td>[{\"specifications\":\"Button\"},{\"specifications\"...</td>\n",
       "      <td>Women Blazers</td>\n",
       "      <td>61</td>\n",
       "    </tr>\n",
       "    <tr>\n",
       "      <th>4</th>\n",
       "      <td>CottinfabStriped Front Open BlazerSizes: 3XLRs...</td>\n",
       "      <td>Cottinfab</td>\n",
       "      <td>Women Pink &amp; White Cotton Striped Front Open B...</td>\n",
       "      <td>4.1</td>\n",
       "      <td>302.0</td>\n",
       "      <td>2499.0</td>\n",
       "      <td>999.0</td>\n",
       "      <td>[{\"available_sizes\":\"S\"},{\"available_sizes\":\"M...</td>\n",
       "      <td>[]</td>\n",
       "      <td>The model (height 5'8\") is wearing a size S</td>\n",
       "      <td>D S S COTTINFAB LTD</td>\n",
       "      <td>[{\"reviews\":\"One of my best buys from myntra. ...</td>\n",
       "      <td>Cotton\\nMachine-wash</td>\n",
       "      <td>[{\"specifications\":\"Front-Open\"},{\"specificati...</td>\n",
       "      <td>Women Blazers</td>\n",
       "      <td>60</td>\n",
       "    </tr>\n",
       "  </tbody>\n",
       "</table>\n",
       "</div>"
      ],
      "text/plain": [
       "                                           prod_link                  brand  \\\n",
       "0  Tokyo TalkiesSingle-Breasted BlazersSizes: MRs...          Tokyo Talkies   \n",
       "1  Tokyo TalkiesDouble Breasted BlazersSizes: XSR...          Tokyo Talkies   \n",
       "2  NEW SEASONH&MWomen Gathered Sleeve BlazersSize...                    H&M   \n",
       "3  STYLECAST X KASSUALLYSingle Breasted BlazersSi...  STYLECAST X KASSUALLY   \n",
       "4  CottinfabStriped Front Open BlazerSizes: 3XLRs...              Cottinfab   \n",
       "\n",
       "                                        product_name  rating  total_bought  \\\n",
       "0                       Grey Single-Breasted Blazers     4.4          15.0   \n",
       "1     Notched Lapel Longline Double Breasted Blazers     5.0           2.0   \n",
       "2          Women Relaxed-Fit Gathered Sleeve Blazers     NaN           NaN   \n",
       "3  Green Notched Lapel Long Sleeve Regular Fit Si...     1.6           5.0   \n",
       "4  Women Pink & White Cotton Striped Front Open B...     4.1         302.0   \n",
       "\n",
       "   strike_price  discounted_price  \\\n",
       "0        3599.0            1099.0   \n",
       "1        4099.0            1149.0   \n",
       "2           NaN            2999.0   \n",
       "3        3299.0            1286.0   \n",
       "4        2499.0             999.0   \n",
       "\n",
       "                                     available_sizes prod_details  \\\n",
       "0  [{\"available_sizes\":\"XS\"},{\"available_sizes\":\"...           []   \n",
       "1  [{\"available_sizes\":\"XS\"},{\"available_sizes\":\"...           []   \n",
       "2  [{\"available_sizes\":\"XS\"},{\"available_sizes\":\"...           []   \n",
       "3  [{\"available_sizes\":\"S\"},{\"available_sizes\":\"M...           []   \n",
       "4  [{\"available_sizes\":\"S\"},{\"available_sizes\":\"M...           []   \n",
       "\n",
       "                                          sizeandfit  \\\n",
       "0  Regular-fit\\nThe model (height 5'8\") is wearin...   \n",
       "1        The model (height 5'8\") is wearing a size S   \n",
       "2  Relaxed-fit\\nThe model (height 5'8\") is wearin...   \n",
       "3        The model (height 5'8\") is wearing a size S   \n",
       "4        The model (height 5'8\") is wearing a size S   \n",
       "\n",
       "                                          seller  \\\n",
       "0                                S & S Marketing   \n",
       "1                                S & S Marketing   \n",
       "2  H & M Hennes & Mauritz Retail Private Limited   \n",
       "3                               Khullar Appearls   \n",
       "4                            D S S COTTINFAB LTD   \n",
       "\n",
       "                                             reviews  \\\n",
       "0                                                 []   \n",
       "1                                                 []   \n",
       "2                                                 []   \n",
       "3                                                 []   \n",
       "4  [{\"reviews\":\"One of my best buys from myntra. ...   \n",
       "\n",
       "                             Materialandcare  \\\n",
       "0                    Polyester\\nMachine Wash   \n",
       "1  70% Polyester & 30% Viscose\\nMachine Wash   \n",
       "2      61% Viscose, 39% Polyester\\nDry Clean   \n",
       "3     95% Polyester 5% Spandex\\nMachine Wash   \n",
       "4                       Cotton\\nMachine-wash   \n",
       "\n",
       "                                      specifications           Type discount  \n",
       "0  [{\"specifications\":\"Front-Open\"},{\"specificati...  Women Blazers      NaN  \n",
       "1  [{\"specifications\":\"Button\"},{\"specifications\"...  Women Blazers      NaN  \n",
       "2  [{\"specifications\":\"Front-Open\"},{\"specificati...  Women Blazers      NaN  \n",
       "3  [{\"specifications\":\"Button\"},{\"specifications\"...  Women Blazers       61  \n",
       "4  [{\"specifications\":\"Front-Open\"},{\"specificati...  Women Blazers       60  "
      ]
     },
     "execution_count": 27,
     "metadata": {},
     "output_type": "execute_result"
    }
   ],
   "source": [
    "women_clothings['discount']=women_clothings['discount'].str.replace('% OFF','')\n",
    "women_clothings.head()"
   ]
  },
  {
   "cell_type": "code",
   "execution_count": 28,
   "id": "ab3c7b31",
   "metadata": {},
   "outputs": [],
   "source": [
    "women_clothings['discount']=women_clothings['discount'].astype(float)"
   ]
  },
  {
   "cell_type": "code",
   "execution_count": 29,
   "id": "f9335a19",
   "metadata": {},
   "outputs": [
    {
     "name": "stdout",
     "output_type": "stream",
     "text": [
      "                                       available_sizes        extracted_sizes\n",
      "0    [{\"available_sizes\":\"XS\"},{\"available_sizes\":\"...   XS, S, M, L, XL, XXL\n",
      "1    [{\"available_sizes\":\"XS\"},{\"available_sizes\":\"...   XS, S, M, L, XL, XXL\n",
      "2    [{\"available_sizes\":\"XS\"},{\"available_sizes\":\"...        XS, S, M, L, XL\n",
      "3    [{\"available_sizes\":\"S\"},{\"available_sizes\":\"M...            S, M, L, XL\n",
      "4    [{\"available_sizes\":\"S\"},{\"available_sizes\":\"M...  S, M, L, XL, XXL, 3XL\n",
      "..                                                 ...                    ...\n",
      "494  [{\"available_sizes\":\"XS\"},{\"available_sizes\":\"...   XS, S, M, L, XL, XXL\n",
      "495  [{\"available_sizes\":\"XS\"},{\"available_sizes\":\"...   XS, S, M, L, XL, XXL\n",
      "496  [{\"available_sizes\":\"XS\"},{\"available_sizes\":\"...        XS, S, M, L, XL\n",
      "497  [{\"available_sizes\":\"XS\"},{\"available_sizes\":\"...        XS, S, M, L, XL\n",
      "498  [{\"available_sizes\":\"XS\"},{\"available_sizes\":\"...        XS, S, M, L, XL\n",
      "\n",
      "[6889 rows x 2 columns]\n"
     ]
    }
   ],
   "source": [
    "import json\n",
    "\n",
    "# Function to extract sizes from the JSON-like format\n",
    "def extract_sizes(json_str):\n",
    "    try:\n",
    "        sizes_list = json.loads(json_str)\n",
    "        sizes = [entry['available_sizes'] for entry in sizes_list]\n",
    "        return ', '.join(sizes)\n",
    "    except (json.JSONDecodeError, KeyError):\n",
    "        return None\n",
    "\n",
    "# Apply the function to the 'available_sizes' column\n",
    "women_clothings['extracted_sizes'] = women_clothings['available_sizes'].apply(extract_sizes)\n",
    "\n",
    "# Display the result\n",
    "print(women_clothings[['available_sizes', 'extracted_sizes']])"
   ]
  },
  {
   "cell_type": "code",
   "execution_count": 30,
   "id": "a120066c",
   "metadata": {},
   "outputs": [
    {
     "name": "stdout",
     "output_type": "stream",
     "text": [
      "                                        specifications  \\\n",
      "0    [{\"specifications\":\"Front-Open\"},{\"specificati...   \n",
      "1    [{\"specifications\":\"Button\"},{\"specifications\"...   \n",
      "2    [{\"specifications\":\"Front-Open\"},{\"specificati...   \n",
      "3    [{\"specifications\":\"Button\"},{\"specifications\"...   \n",
      "4    [{\"specifications\":\"Front-Open\"},{\"specificati...   \n",
      "..                                                 ...   \n",
      "494  [{\"specifications\":\"Pure Cotton\"},{\"specificat...   \n",
      "495  [{\"specifications\":\"Minions\"},{\"specifications...   \n",
      "496  [{\"specifications\":\"Follow the garment wash ca...   \n",
      "497  [{\"specifications\":\"Pure Cotton\"},{\"specificat...   \n",
      "498  [{\"specifications\":\"Cotton\"},{\"specifications\"...   \n",
      "\n",
      "                                       extracted_specs  \n",
      "0    Front-Open, Notched Lapel, Polyester, Regular ...  \n",
      "1    Button, Notched Lapel, Polyester, Regular Fit,...  \n",
      "2    Front-Open, Notched Lapel, Comfort Fit, Open F...  \n",
      "3    Button, Notched Lapel, Polyester, Regular Fit,...  \n",
      "4    Front-Open, Shawl Collar, Pure Cotton, Regular...  \n",
      "..                                                 ...  \n",
      "494  Pure Cotton, Regular Fit, Regular, New Basics,...  \n",
      "495  Minions, Pure Cotton, Oversized, Crop, Graphic...  \n",
      "496  Follow the garment wash care label\\n\\nCan be t...  \n",
      "497  Pure Cotton, Oversized, Longline, Typography o...  \n",
      "498  Cotton, Polyester, Elastane, Boxy, Crop, New B...  \n",
      "\n",
      "[6889 rows x 2 columns]\n"
     ]
    }
   ],
   "source": [
    "def extract_specs(json_str):\n",
    "    try:\n",
    "        sizes_list = json.loads(json_str)\n",
    "        sizes = [entry['specifications'] for entry in sizes_list]\n",
    "        return ', '.join(sizes)\n",
    "    except (json.JSONDecodeError, KeyError):\n",
    "        return None\n",
    "\n",
    "# Apply the function to the 'available_sizes' column\n",
    "women_clothings['extracted_specs'] = women_clothings['specifications'].apply(extract_specs)\n",
    "\n",
    "# Display the result\n",
    "print(women_clothings[['specifications', 'extracted_specs']])\n"
   ]
  },
  {
   "cell_type": "code",
   "execution_count": 31,
   "id": "ac88f58a",
   "metadata": {},
   "outputs": [
    {
     "name": "stdout",
     "output_type": "stream",
     "text": [
      "                                          prod_details  \\\n",
      "0                                                   []   \n",
      "1                                                   []   \n",
      "2                                                   []   \n",
      "3                                                   []   \n",
      "4                                                   []   \n",
      "..                                                 ...   \n",
      "494                                                 []   \n",
      "495  [{\"prod_details\":\"Yellow T-shirt for women\"},{...   \n",
      "496  [{\"prod_details\":\"Navy blue Tshirt for women\"}...   \n",
      "497                                                 []   \n",
      "498  [{\"prod_details\":\"Peach-coloured Tshirt for wo...   \n",
      "\n",
      "                             extracted_product_details  \n",
      "0                                                       \n",
      "1                                                       \n",
      "2                                                       \n",
      "3                                                       \n",
      "4                                                       \n",
      "..                                                 ...  \n",
      "494                                                     \n",
      "495  Yellow T-shirt for women, Graphic Minionsprint...  \n",
      "496  Navy blue Tshirt for women, Brand logo printed...  \n",
      "497                                                     \n",
      "498  Peach-coloured Tshirt for women, Solid. ribbed...  \n",
      "\n",
      "[6889 rows x 2 columns]\n"
     ]
    }
   ],
   "source": [
    "def extract_product_details(json_str):\n",
    "    try:\n",
    "        sizes_list = json.loads(json_str)\n",
    "        sizes = [entry['prod_details'] for entry in sizes_list]\n",
    "        return ', '.join(sizes)\n",
    "    except (json.JSONDecodeError, KeyError):\n",
    "        return None\n",
    "\n",
    "# Apply the function to the 'available_sizes' column\n",
    "women_clothings['extracted_product_details'] = women_clothings['prod_details'].apply(extract_product_details)\n",
    "\n",
    "# Display the result\n",
    "print(women_clothings[['prod_details', 'extracted_product_details']])\n"
   ]
  },
  {
   "cell_type": "code",
   "execution_count": 32,
   "id": "95660290",
   "metadata": {},
   "outputs": [
    {
     "data": {
      "text/plain": [
       "array(['Polyester Machine Wash',\n",
       "       '70% Polyester & 30% Viscose Machine Wash',\n",
       "       '61% Viscose, 39% Polyester Dry Clean', ...,\n",
       "       '90% Polyester, 10% Spandex Follow the garment wash care label  Can be tumble dried in a cool setting if machine washed  Prevent static build-up by drying while damp  Use low heat to iron',\n",
       "       '95% Cotton and 5% Elastane Hand Wash',\n",
       "       '57% Cotton, 38% Polyester & 5% Elastane Machine Wash'],\n",
       "      dtype=object)"
      ]
     },
     "execution_count": 32,
     "metadata": {},
     "output_type": "execute_result"
    }
   ],
   "source": [
    "women_clothings['Materialandcare']=women_clothings['Materialandcare'].str.replace('\\n',' ')\n",
    "women_clothings['Materialandcare'].unique()"
   ]
  },
  {
   "cell_type": "code",
   "execution_count": 33,
   "id": "79b8a5e1",
   "metadata": {},
   "outputs": [],
   "source": [
    "women_clothings['Product Details and Specifications']=women_clothings['extracted_specs']+\" \"+women_clothings['extracted_specs']"
   ]
  },
  {
   "cell_type": "code",
   "execution_count": 34,
   "id": "93da3b53",
   "metadata": {},
   "outputs": [
    {
     "name": "stdout",
     "output_type": "stream",
     "text": [
      "                                               reviews  \\\n",
      "0                                                   []   \n",
      "1                                                   []   \n",
      "2                                                   []   \n",
      "3                                                   []   \n",
      "4    [{\"reviews\":\"One of my best buys from myntra. ...   \n",
      "..                                                 ...   \n",
      "494  [{\"reviews\":\"4 stars for the quality, which is...   \n",
      "495  [{\"reviews\":\"Super cute top!\\nPro tip: Pair wi...   \n",
      "496  [{\"reviews\":\"I really liked the quality. A ver...   \n",
      "497  [{\"reviews\":\"Superb! I’ve tried this brand for...   \n",
      "498  [{\"reviews\":\"\"},{\"reviews\":\"Nice t shirt\"},{\"r...   \n",
      "\n",
      "                                     extracted_reviews  \n",
      "0                                                       \n",
      "1                                                       \n",
      "2                                                       \n",
      "3                                                       \n",
      "4    One of my best buys from myntra. I wanted a bl...  \n",
      "..                                                 ...  \n",
      "494  4 stars for the quality, which isn't superb bu...  \n",
      "495  Super cute top!\\nPro tip: Pair with high waist...  \n",
      "496  I really liked the quality. A very perfect pro...  \n",
      "497  Superb! I’ve tried this brand for the first ti...  \n",
      "498  , Nice t shirt, Good ribbed top and the fittin...  \n",
      "\n",
      "[6889 rows x 2 columns]\n"
     ]
    }
   ],
   "source": [
    "def extract_reviews(json_str):\n",
    "    try:\n",
    "        sizes_list = json.loads(json_str)\n",
    "        sizes = [entry['reviews'] for entry in sizes_list]\n",
    "        return ', '.join(sizes)\n",
    "    except (json.JSONDecodeError, KeyError):\n",
    "        return None\n",
    "\n",
    "# Apply the function to the 'available_sizes' column\n",
    "women_clothings['extracted_reviews'] = women_clothings['reviews'].apply(extract_reviews)\n",
    "\n",
    "# Display the result\n",
    "print(women_clothings[['reviews', 'extracted_reviews']])\n"
   ]
  },
  {
   "cell_type": "code",
   "execution_count": 35,
   "id": "4efc10f5",
   "metadata": {},
   "outputs": [],
   "source": [
    "women=women_clothings[['brand','seller','product_name','rating','total_bought','strike_price', 'discounted_price','discount','extracted_sizes','Product Details and Specifications','extracted_reviews','Materialandcare','Type']]"
   ]
  },
  {
   "cell_type": "code",
   "execution_count": 36,
   "id": "13bc5948",
   "metadata": {},
   "outputs": [
    {
     "name": "stderr",
     "output_type": "stream",
     "text": [
      "C:\\Users\\sarla\\anaconda3\\envs\\rstudio\\lib\\site-packages\\pandas\\core\\frame.py:5047: SettingWithCopyWarning: \n",
      "A value is trying to be set on a copy of a slice from a DataFrame\n",
      "\n",
      "See the caveats in the documentation: https://pandas.pydata.org/pandas-docs/stable/user_guide/indexing.html#returning-a-view-versus-a-copy\n",
      "  errors=errors,\n"
     ]
    }
   ],
   "source": [
    "women.rename(columns={'extracted_sizes': 'Available_sizes','Product Details and Specifications': 'Specifications','extracted_reviews': 'reviews','Materialandcare': 'Material'}, inplace=True)"
   ]
  },
  {
   "cell_type": "code",
   "execution_count": 37,
   "id": "2e632a6c",
   "metadata": {},
   "outputs": [
    {
     "data": {
      "text/plain": [
       "Index(['brand', 'seller', 'product_name', 'rating', 'total_bought',\n",
       "       'strike_price', 'discounted_price', 'discount', 'Available_sizes',\n",
       "       'Specifications', 'reviews', 'Material', 'Type'],\n",
       "      dtype='object')"
      ]
     },
     "execution_count": 37,
     "metadata": {},
     "output_type": "execute_result"
    }
   ],
   "source": [
    "women.columns"
   ]
  },
  {
   "cell_type": "code",
   "execution_count": 38,
   "id": "cdfb2661",
   "metadata": {},
   "outputs": [],
   "source": [
    "women.to_csv(r\"C:\\Users\\sarla\\OneDrive\\Documents\\myntra_scraped_data\\women_preprocessed_dataset_new.csv\",index=False)"
   ]
  },
  {
   "cell_type": "code",
   "execution_count": 39,
   "id": "4e01d50e",
   "metadata": {},
   "outputs": [
    {
     "data": {
      "text/html": [
       "<div>\n",
       "<style scoped>\n",
       "    .dataframe tbody tr th:only-of-type {\n",
       "        vertical-align: middle;\n",
       "    }\n",
       "\n",
       "    .dataframe tbody tr th {\n",
       "        vertical-align: top;\n",
       "    }\n",
       "\n",
       "    .dataframe thead th {\n",
       "        text-align: right;\n",
       "    }\n",
       "</style>\n",
       "<table border=\"1\" class=\"dataframe\">\n",
       "  <thead>\n",
       "    <tr style=\"text-align: right;\">\n",
       "      <th></th>\n",
       "      <th>brand</th>\n",
       "      <th>seller</th>\n",
       "      <th>product_name</th>\n",
       "      <th>rating</th>\n",
       "      <th>total_bought</th>\n",
       "      <th>strike_price</th>\n",
       "      <th>discounted_price</th>\n",
       "      <th>discount</th>\n",
       "      <th>Available_sizes</th>\n",
       "      <th>Specifications</th>\n",
       "      <th>reviews</th>\n",
       "      <th>Material</th>\n",
       "      <th>Type</th>\n",
       "    </tr>\n",
       "  </thead>\n",
       "  <tbody>\n",
       "    <tr>\n",
       "      <th>0</th>\n",
       "      <td>Tokyo Talkies</td>\n",
       "      <td>S &amp; S Marketing</td>\n",
       "      <td>Grey Single-Breasted Blazers</td>\n",
       "      <td>4.4</td>\n",
       "      <td>15.0</td>\n",
       "      <td>3599.0</td>\n",
       "      <td>1099.0</td>\n",
       "      <td>NaN</td>\n",
       "      <td>XS, S, M, L, XL, XXL</td>\n",
       "      <td>Front-Open, Notched Lapel, Polyester, Regular ...</td>\n",
       "      <td></td>\n",
       "      <td>Polyester Machine Wash</td>\n",
       "      <td>Women Blazers</td>\n",
       "    </tr>\n",
       "    <tr>\n",
       "      <th>1</th>\n",
       "      <td>Tokyo Talkies</td>\n",
       "      <td>S &amp; S Marketing</td>\n",
       "      <td>Notched Lapel Longline Double Breasted Blazers</td>\n",
       "      <td>5.0</td>\n",
       "      <td>2.0</td>\n",
       "      <td>4099.0</td>\n",
       "      <td>1149.0</td>\n",
       "      <td>NaN</td>\n",
       "      <td>XS, S, M, L, XL, XXL</td>\n",
       "      <td>Button, Notched Lapel, Polyester, Regular Fit,...</td>\n",
       "      <td></td>\n",
       "      <td>70% Polyester &amp; 30% Viscose Machine Wash</td>\n",
       "      <td>Women Blazers</td>\n",
       "    </tr>\n",
       "    <tr>\n",
       "      <th>2</th>\n",
       "      <td>H&amp;M</td>\n",
       "      <td>H &amp; M Hennes &amp; Mauritz Retail Private Limited</td>\n",
       "      <td>Women Relaxed-Fit Gathered Sleeve Blazers</td>\n",
       "      <td>NaN</td>\n",
       "      <td>NaN</td>\n",
       "      <td>NaN</td>\n",
       "      <td>2999.0</td>\n",
       "      <td>NaN</td>\n",
       "      <td>XS, S, M, L, XL</td>\n",
       "      <td>Front-Open, Notched Lapel, Comfort Fit, Open F...</td>\n",
       "      <td></td>\n",
       "      <td>61% Viscose, 39% Polyester Dry Clean</td>\n",
       "      <td>Women Blazers</td>\n",
       "    </tr>\n",
       "    <tr>\n",
       "      <th>3</th>\n",
       "      <td>STYLECAST X KASSUALLY</td>\n",
       "      <td>Khullar Appearls</td>\n",
       "      <td>Green Notched Lapel Long Sleeve Regular Fit Si...</td>\n",
       "      <td>1.6</td>\n",
       "      <td>5.0</td>\n",
       "      <td>3299.0</td>\n",
       "      <td>1286.0</td>\n",
       "      <td>61.0</td>\n",
       "      <td>S, M, L, XL</td>\n",
       "      <td>Button, Notched Lapel, Polyester, Regular Fit,...</td>\n",
       "      <td></td>\n",
       "      <td>95% Polyester 5% Spandex Machine Wash</td>\n",
       "      <td>Women Blazers</td>\n",
       "    </tr>\n",
       "    <tr>\n",
       "      <th>4</th>\n",
       "      <td>Cottinfab</td>\n",
       "      <td>D S S COTTINFAB LTD</td>\n",
       "      <td>Women Pink &amp; White Cotton Striped Front Open B...</td>\n",
       "      <td>4.1</td>\n",
       "      <td>302.0</td>\n",
       "      <td>2499.0</td>\n",
       "      <td>999.0</td>\n",
       "      <td>60.0</td>\n",
       "      <td>S, M, L, XL, XXL, 3XL</td>\n",
       "      <td>Front-Open, Shawl Collar, Pure Cotton, Regular...</td>\n",
       "      <td>One of my best buys from myntra. I wanted a bl...</td>\n",
       "      <td>Cotton Machine-wash</td>\n",
       "      <td>Women Blazers</td>\n",
       "    </tr>\n",
       "  </tbody>\n",
       "</table>\n",
       "</div>"
      ],
      "text/plain": [
       "                   brand                                         seller  \\\n",
       "0          Tokyo Talkies                                S & S Marketing   \n",
       "1          Tokyo Talkies                                S & S Marketing   \n",
       "2                    H&M  H & M Hennes & Mauritz Retail Private Limited   \n",
       "3  STYLECAST X KASSUALLY                               Khullar Appearls   \n",
       "4              Cottinfab                            D S S COTTINFAB LTD   \n",
       "\n",
       "                                        product_name  rating  total_bought  \\\n",
       "0                       Grey Single-Breasted Blazers     4.4          15.0   \n",
       "1     Notched Lapel Longline Double Breasted Blazers     5.0           2.0   \n",
       "2          Women Relaxed-Fit Gathered Sleeve Blazers     NaN           NaN   \n",
       "3  Green Notched Lapel Long Sleeve Regular Fit Si...     1.6           5.0   \n",
       "4  Women Pink & White Cotton Striped Front Open B...     4.1         302.0   \n",
       "\n",
       "   strike_price  discounted_price  discount        Available_sizes  \\\n",
       "0        3599.0            1099.0       NaN   XS, S, M, L, XL, XXL   \n",
       "1        4099.0            1149.0       NaN   XS, S, M, L, XL, XXL   \n",
       "2           NaN            2999.0       NaN        XS, S, M, L, XL   \n",
       "3        3299.0            1286.0      61.0            S, M, L, XL   \n",
       "4        2499.0             999.0      60.0  S, M, L, XL, XXL, 3XL   \n",
       "\n",
       "                                      Specifications  \\\n",
       "0  Front-Open, Notched Lapel, Polyester, Regular ...   \n",
       "1  Button, Notched Lapel, Polyester, Regular Fit,...   \n",
       "2  Front-Open, Notched Lapel, Comfort Fit, Open F...   \n",
       "3  Button, Notched Lapel, Polyester, Regular Fit,...   \n",
       "4  Front-Open, Shawl Collar, Pure Cotton, Regular...   \n",
       "\n",
       "                                             reviews  \\\n",
       "0                                                      \n",
       "1                                                      \n",
       "2                                                      \n",
       "3                                                      \n",
       "4  One of my best buys from myntra. I wanted a bl...   \n",
       "\n",
       "                                   Material           Type  \n",
       "0                    Polyester Machine Wash  Women Blazers  \n",
       "1  70% Polyester & 30% Viscose Machine Wash  Women Blazers  \n",
       "2      61% Viscose, 39% Polyester Dry Clean  Women Blazers  \n",
       "3     95% Polyester 5% Spandex Machine Wash  Women Blazers  \n",
       "4                       Cotton Machine-wash  Women Blazers  "
      ]
     },
     "execution_count": 39,
     "metadata": {},
     "output_type": "execute_result"
    }
   ],
   "source": [
    "women.head()"
   ]
  },
  {
   "cell_type": "code",
   "execution_count": 40,
   "id": "65603161",
   "metadata": {},
   "outputs": [
    {
     "data": {
      "text/plain": [
       "brand                  0\n",
       "seller                 0\n",
       "product_name           0\n",
       "rating              1437\n",
       "total_bought        1437\n",
       "strike_price         568\n",
       "discounted_price       0\n",
       "discount            1389\n",
       "Available_sizes        0\n",
       "Specifications         0\n",
       "reviews                0\n",
       "Material             261\n",
       "Type                   0\n",
       "dtype: int64"
      ]
     },
     "execution_count": 40,
     "metadata": {},
     "output_type": "execute_result"
    }
   ],
   "source": [
    "women.isnull().sum()"
   ]
  },
  {
   "cell_type": "code",
   "execution_count": 41,
   "id": "d932dd0b",
   "metadata": {},
   "outputs": [
    {
     "data": {
      "text/plain": [
       "brand                object\n",
       "seller               object\n",
       "product_name         object\n",
       "rating              float64\n",
       "total_bought        float64\n",
       "strike_price        float64\n",
       "discounted_price    float64\n",
       "discount            float64\n",
       "Available_sizes      object\n",
       "Specifications       object\n",
       "reviews              object\n",
       "Material             object\n",
       "Type                 object\n",
       "dtype: object"
      ]
     },
     "execution_count": 41,
     "metadata": {},
     "output_type": "execute_result"
    }
   ],
   "source": [
    "women.dtypes"
   ]
  },
  {
   "cell_type": "code",
   "execution_count": 42,
   "id": "27cc21fb",
   "metadata": {},
   "outputs": [
    {
     "name": "stderr",
     "output_type": "stream",
     "text": [
      "C:\\Users\\sarla\\anaconda3\\envs\\rstudio\\lib\\site-packages\\ipykernel_launcher.py:1: SettingWithCopyWarning: \n",
      "A value is trying to be set on a copy of a slice from a DataFrame.\n",
      "Try using .loc[row_indexer,col_indexer] = value instead\n",
      "\n",
      "See the caveats in the documentation: https://pandas.pydata.org/pandas-docs/stable/user_guide/indexing.html#returning-a-view-versus-a-copy\n",
      "  \"\"\"Entry point for launching an IPython kernel.\n"
     ]
    }
   ],
   "source": [
    "women['rating']=women['rating'].fillna(0)"
   ]
  },
  {
   "cell_type": "code",
   "execution_count": 43,
   "id": "61302005",
   "metadata": {},
   "outputs": [
    {
     "name": "stderr",
     "output_type": "stream",
     "text": [
      "C:\\Users\\sarla\\anaconda3\\envs\\rstudio\\lib\\site-packages\\ipykernel_launcher.py:1: SettingWithCopyWarning: \n",
      "A value is trying to be set on a copy of a slice from a DataFrame.\n",
      "Try using .loc[row_indexer,col_indexer] = value instead\n",
      "\n",
      "See the caveats in the documentation: https://pandas.pydata.org/pandas-docs/stable/user_guide/indexing.html#returning-a-view-versus-a-copy\n",
      "  \"\"\"Entry point for launching an IPython kernel.\n",
      "C:\\Users\\sarla\\anaconda3\\envs\\rstudio\\lib\\site-packages\\ipykernel_launcher.py:2: SettingWithCopyWarning: \n",
      "A value is trying to be set on a copy of a slice from a DataFrame.\n",
      "Try using .loc[row_indexer,col_indexer] = value instead\n",
      "\n",
      "See the caveats in the documentation: https://pandas.pydata.org/pandas-docs/stable/user_guide/indexing.html#returning-a-view-versus-a-copy\n",
      "  \n"
     ]
    }
   ],
   "source": [
    "women['total_bought']=women['total_bought'].fillna(0)\n",
    "women['discount']=women['discount'].fillna(0)"
   ]
  },
  {
   "cell_type": "code",
   "execution_count": 44,
   "id": "2144c9e8",
   "metadata": {},
   "outputs": [
    {
     "name": "stdout",
     "output_type": "stream",
     "text": [
      "Polyester Machine Wash\n"
     ]
    }
   ],
   "source": [
    "most_used=women['Material'].mode()[0]\n",
    "print(most_used)"
   ]
  },
  {
   "cell_type": "code",
   "execution_count": 45,
   "id": "f9bb3b45",
   "metadata": {},
   "outputs": [
    {
     "name": "stderr",
     "output_type": "stream",
     "text": [
      "C:\\Users\\sarla\\anaconda3\\envs\\rstudio\\lib\\site-packages\\ipykernel_launcher.py:1: SettingWithCopyWarning: \n",
      "A value is trying to be set on a copy of a slice from a DataFrame.\n",
      "Try using .loc[row_indexer,col_indexer] = value instead\n",
      "\n",
      "See the caveats in the documentation: https://pandas.pydata.org/pandas-docs/stable/user_guide/indexing.html#returning-a-view-versus-a-copy\n",
      "  \"\"\"Entry point for launching an IPython kernel.\n"
     ]
    }
   ],
   "source": [
    "women['Material']=women['Material'].fillna(most_used)"
   ]
  },
  {
   "cell_type": "code",
   "execution_count": 46,
   "id": "ed7f491f",
   "metadata": {},
   "outputs": [
    {
     "name": "stderr",
     "output_type": "stream",
     "text": [
      "C:\\Users\\sarla\\anaconda3\\envs\\rstudio\\lib\\site-packages\\ipykernel_launcher.py:1: SettingWithCopyWarning: \n",
      "A value is trying to be set on a copy of a slice from a DataFrame.\n",
      "Try using .loc[row_indexer,col_indexer] = value instead\n",
      "\n",
      "See the caveats in the documentation: https://pandas.pydata.org/pandas-docs/stable/user_guide/indexing.html#returning-a-view-versus-a-copy\n",
      "  \"\"\"Entry point for launching an IPython kernel.\n"
     ]
    }
   ],
   "source": [
    "women['strike_price'] = women['strike_price'].fillna(women['discounted_price'])"
   ]
  },
  {
   "cell_type": "code",
   "execution_count": 47,
   "id": "d57e3e9c",
   "metadata": {},
   "outputs": [
    {
     "data": {
      "text/plain": [
       "brand               0\n",
       "seller              0\n",
       "product_name        0\n",
       "rating              0\n",
       "total_bought        0\n",
       "strike_price        0\n",
       "discounted_price    0\n",
       "discount            0\n",
       "Available_sizes     0\n",
       "Specifications      0\n",
       "reviews             0\n",
       "Material            0\n",
       "Type                0\n",
       "dtype: int64"
      ]
     },
     "execution_count": 47,
     "metadata": {},
     "output_type": "execute_result"
    }
   ],
   "source": [
    "women.isnull().sum()"
   ]
  },
  {
   "cell_type": "code",
   "execution_count": 48,
   "id": "050aa614",
   "metadata": {},
   "outputs": [],
   "source": [
    "women.to_csv(r\"C:\\Users\\sarla\\OneDrive\\Documents\\myntra_scraped_data\\women_preprocessedandcleaned_dataset_new.csv\",index=False)"
   ]
  },
  {
   "cell_type": "code",
   "execution_count": 49,
   "id": "a46bf363",
   "metadata": {},
   "outputs": [],
   "source": [
    "women.to_excel(r\"C:\\Users\\sarla\\OneDrive\\Documents\\myntra_scraped_data\\women_preprocessedandcleaned_dataset_new.xlsx\",index=False)"
   ]
  },
  {
   "cell_type": "code",
   "execution_count": 1,
   "id": "8be8c8f1",
   "metadata": {},
   "outputs": [],
   "source": [
    "import pandas as pd"
   ]
  },
  {
   "cell_type": "code",
   "execution_count": 3,
   "id": "088c9e0b",
   "metadata": {},
   "outputs": [],
   "source": [
    "data_change=pd.read_csv(r\"C:\\Users\\sarla\\OneDrive\\Documents\\myntra_scraped_data\\women_preprocessedandcleaned_dataset.csv\")"
   ]
  },
  {
   "cell_type": "code",
   "execution_count": 5,
   "id": "983bcd69",
   "metadata": {},
   "outputs": [],
   "source": [
    "data_change.to_excel(r\"C:\\Users\\sarla\\OneDrive\\Documents\\myntra_scraped_data\\women_preprocessedandcleaned_dataset_dv.xlsx\",index=False)"
   ]
  },
  {
   "cell_type": "code",
   "execution_count": 6,
   "id": "3efea705",
   "metadata": {},
   "outputs": [],
   "source": [
    "data_change_men=pd.read_csv(r\"C:\\Users\\sarla\\OneDrive\\Documents\\myntra_scraped_data\\men_preprocessedandcleaned_dataset.csv\")"
   ]
  },
  {
   "cell_type": "code",
   "execution_count": 7,
   "id": "080044fb",
   "metadata": {},
   "outputs": [],
   "source": [
    "data_change_men.to_excel(r\"C:\\Users\\sarla\\OneDrive\\Documents\\myntra_scraped_data\\men_preprocessedandcleaned_dataset_dv.xlsx\")"
   ]
  },
  {
   "cell_type": "code",
   "execution_count": null,
   "id": "cf0bb787",
   "metadata": {},
   "outputs": [],
   "source": []
  }
 ],
 "metadata": {
  "kernelspec": {
   "display_name": "Python 3 (ipykernel)",
   "language": "python",
   "name": "python3"
  },
  "language_info": {
   "codemirror_mode": {
    "name": "ipython",
    "version": 3
   },
   "file_extension": ".py",
   "mimetype": "text/x-python",
   "name": "python",
   "nbconvert_exporter": "python",
   "pygments_lexer": "ipython3",
   "version": "3.7.1"
  }
 },
 "nbformat": 4,
 "nbformat_minor": 5
}
